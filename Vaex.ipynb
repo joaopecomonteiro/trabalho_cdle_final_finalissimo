{
 "cells": [
  {
   "cell_type": "code",
   "execution_count": 0,
   "metadata": {
    "application/vnd.databricks.v1+cell": {
     "cellMetadata": {
      "byteLimit": 2048000,
      "rowLimit": 10000
     },
     "inputWidgets": {},
     "nuid": "f6a8c3f6-3cd7-4561-bd78-d3aca4faae54",
     "showTitle": false,
     "title": ""
    }
   },
   "outputs": [],
   "source": [
    "from pyspark.sql import SparkSession\n",
    "\n",
    "# Create a Spark session\n",
    "spark = SparkSession.builder \\\n",
    "    .appName(\"YourAppName\") \\\n",
    "    .getOrCreate()"
   ]
  },
  {
   "cell_type": "code",
   "execution_count": 0,
   "metadata": {
    "application/vnd.databricks.v1+cell": {
     "cellMetadata": {
      "byteLimit": 2048000,
      "rowLimit": 10000
     },
     "inputWidgets": {},
     "nuid": "ae48e76f-6b58-4d9d-b8d7-b299d394a3a1",
     "showTitle": false,
     "title": ""
    }
   },
   "outputs": [
    {
     "output_type": "stream",
     "name": "stdout",
     "output_type": "stream",
     "text": [
      "spark.databricks.io.cache.enabled is false\n"
     ]
    }
   ],
   "source": [
    "spark.conf.set(\"spark.databricks.io.cache.enabled\", \"false\")\n",
    "print(\"spark.databricks.io.cache.enabled is %s\" % spark.conf.get(\"spark.databricks.io.cache.enabled\"))"
   ]
  },
  {
   "cell_type": "code",
   "execution_count": 0,
   "metadata": {
    "application/vnd.databricks.v1+cell": {
     "cellMetadata": {
      "byteLimit": 2048000,
      "rowLimit": 10000
     },
     "inputWidgets": {},
     "nuid": "e0495b90-3a8a-4afd-9f28-20d59065c507",
     "showTitle": false,
     "title": ""
    }
   },
   "outputs": [
    {
     "output_type": "stream",
     "name": "stdout",
     "output_type": "stream",
     "text": [
      "Python interpreter will be restarted.\nCollecting vaex\n  Downloading vaex-4.17.0-py3-none-any.whl (4.8 kB)\nCollecting vaex-server~=0.9.0\n  Downloading vaex_server-0.9.0-py3-none-any.whl (23 kB)\nCollecting vaex-hdf5<0.15,>=0.13.0\n  Downloading vaex_hdf5-0.14.1-py3-none-any.whl (16 kB)\nCollecting vaex-astro<0.10,>=0.9.3\n  Downloading vaex_astro-0.9.3-py3-none-any.whl (20 kB)\nCollecting vaex-viz<0.6,>=0.5.4\n  Downloading vaex_viz-0.5.4-py3-none-any.whl (19 kB)\nCollecting vaex-core~=4.17.1\n  Downloading vaex_core-4.17.1-cp39-cp39-manylinux_2_17_x86_64.manylinux2014_x86_64.whl (4.5 MB)\nCollecting vaex-jupyter<0.9,>=0.8.2\n  Downloading vaex_jupyter-0.8.2-py3-none-any.whl (43 kB)\nCollecting vaex-ml<0.19,>=0.18.3\n  Downloading vaex_ml-0.18.3-py3-none-any.whl (58 kB)\nCollecting astropy\n  Downloading astropy-6.0.1-cp39-cp39-manylinux_2_17_x86_64.manylinux2014_x86_64.whl (10.1 MB)\nCollecting tabulate>=0.8.3\n  Downloading tabulate-0.9.0-py3-none-any.whl (35 kB)\nCollecting blake3\n  Downloading blake3-0.4.1-cp39-cp39-manylinux_2_17_x86_64.manylinux2014_x86_64.whl (1.3 MB)\nCollecting pydantic>=1.8.0\n  Downloading pydantic-2.7.2-py3-none-any.whl (409 kB)\nRequirement already satisfied: filelock in /usr/local/lib/python3.9/dist-packages (from vaex-core~=4.17.1->vaex) (3.9.0)\nCollecting frozendict!=2.2.0\n  Downloading frozendict-2.4.4-cp39-cp39-manylinux_2_17_x86_64.manylinux2014_x86_64.whl (116 kB)\nRequirement already satisfied: nest-asyncio>=1.3.3 in /databricks/python3/lib/python3.9/site-packages (from vaex-core~=4.17.1->vaex) (1.5.5)\nCollecting aplus\n  Downloading aplus-0.11.0.tar.gz (3.7 kB)\nCollecting cloudpickle\n  Downloading cloudpickle-3.0.0-py3-none-any.whl (20 kB)\nRequirement already satisfied: numpy>=1.16 in /databricks/python3/lib/python3.9/site-packages (from vaex-core~=4.17.1->vaex) (1.21.5)\nCollecting progressbar2\n  Downloading progressbar2-4.4.2-py3-none-any.whl (56 kB)\nRequirement already satisfied: pandas in /databricks/python3/lib/python3.9/site-packages (from vaex-core~=4.17.1->vaex) (1.4.2)\nCollecting dask!=2022.4.0\n  Downloading dask-2024.5.2-py3-none-any.whl (1.2 MB)\nRequirement already satisfied: pyarrow>=5.0.0 in /databricks/python3/lib/python3.9/site-packages (from vaex-core~=4.17.1->vaex) (7.0.0)\nCollecting rich\n  Downloading rich-13.7.1-py3-none-any.whl (240 kB)\nRequirement already satisfied: six in /databricks/python3/lib/python3.9/site-packages (from vaex-core~=4.17.1->vaex) (1.16.0)\nCollecting future>=0.15.2\n  Downloading future-1.0.0-py3-none-any.whl (491 kB)\nRequirement already satisfied: requests in /databricks/python3/lib/python3.9/site-packages (from vaex-core~=4.17.1->vaex) (2.27.1)\nCollecting pyyaml\n  Downloading PyYAML-6.0.1-cp39-cp39-manylinux_2_17_x86_64.manylinux2014_x86_64.whl (738 kB)\nRequirement already satisfied: packaging>=20.0 in /databricks/python3/lib/python3.9/site-packages (from dask!=2022.4.0->vaex-core~=4.17.1->vaex) (21.3)\nCollecting toolz>=0.10.0\n  Downloading toolz-0.12.1-py3-none-any.whl (56 kB)\nCollecting importlib-metadata>=4.13.0\n  Downloading importlib_metadata-7.1.0-py3-none-any.whl (24 kB)\nCollecting click>=8.1\n  Downloading click-8.1.7-py3-none-any.whl (97 kB)\nCollecting fsspec>=2021.09.0\n  Downloading fsspec-2024.5.0-py3-none-any.whl (316 kB)\nCollecting partd>=1.2.0\n  Downloading partd-1.4.2-py3-none-any.whl (18 kB)\nCollecting zipp>=0.5\n  Downloading zipp-3.19.1-py3-none-any.whl (9.0 kB)\nRequirement already satisfied: pyparsing!=3.0.5,>=2.0.2 in /databricks/python3/lib/python3.9/site-packages (from packaging>=20.0->dask!=2022.4.0->vaex-core~=4.17.1->vaex) (3.0.4)\nCollecting locket\n  Downloading locket-1.0.0-py2.py3-none-any.whl (4.4 kB)\nCollecting annotated-types>=0.4.0\n  Downloading annotated_types-0.7.0-py3-none-any.whl (13 kB)\nCollecting typing-extensions>=4.6.1\n  Downloading typing_extensions-4.12.1-py3-none-any.whl (37 kB)\nCollecting pydantic-core==2.18.3\n  Downloading pydantic_core-2.18.3-cp39-cp39-manylinux_2_17_x86_64.manylinux2014_x86_64.whl (2.0 MB)\nWARNING: Retrying (Retry(total=4, connect=None, read=None, redirect=None, status=None)) after connection broken by 'ProtocolError('Connection aborted.', ConnectionResetError(104, 'Connection reset by peer'))': /simple/h5py/\nCollecting h5py>=2.9\n  Downloading h5py-3.11.0-cp39-cp39-manylinux_2_17_x86_64.manylinux2014_x86_64.whl (5.3 MB)\nCollecting xarray\n  Downloading xarray-2024.5.0-py3-none-any.whl (1.2 MB)\nCollecting ipyvolume>=0.4\n  Downloading ipyvolume-0.6.3-py3-none-any.whl (1.6 MB)\nCollecting ipyleaflet\n  Downloading ipyleaflet-0.19.1-py3-none-any.whl (30 kB)\nCollecting ipympl\n  Downloading ipympl-0.9.4-py3-none-any.whl (516 kB)\nCollecting ipyvuetify<2,>=1.2.2\n  Downloading ipyvuetify-1.9.4-py2.py3-none-any.whl (6.1 MB)\nCollecting bqplot>=0.10.1\n  Downloading bqplot-0.12.43-py2.py3-none-any.whl (1.2 MB)\nCollecting traittypes>=0.0.6\n  Downloading traittypes-0.2.1-py2.py3-none-any.whl (8.6 kB)\nRequirement already satisfied: ipywidgets<9,>=7.5.0 in /databricks/python3/lib/python3.9/site-packages (from bqplot>=0.10.1->vaex-jupyter<0.9,>=0.8.2->vaex) (7.7.2)\nRequirement already satisfied: traitlets>=4.3.0 in /databricks/python3/lib/python3.9/site-packages (from bqplot>=0.10.1->vaex-jupyter<0.9,>=0.8.2->vaex) (5.1.1)\nCollecting ipyvue>=1.7.0\n  Downloading ipyvue-1.11.1-py2.py3-none-any.whl (2.7 MB)\nRequirement already satisfied: Pillow in /databricks/python3/lib/python3.9/site-packages (from ipyvolume>=0.4->vaex-jupyter<0.9,>=0.8.2->vaex) (9.0.1)\nRequirement already satisfied: matplotlib in /databricks/python3/lib/python3.9/site-packages (from ipyvolume>=0.4->vaex-jupyter<0.9,>=0.8.2->vaex) (3.5.1)\nCollecting pythreejs>=2.4.0\n  Downloading pythreejs-2.4.2-py3-none-any.whl (3.4 MB)\nCollecting ipywebrtc\n  Downloading ipywebrtc-0.6.0-py2.py3-none-any.whl (260 kB)\nRequirement already satisfied: widgetsnbextension~=3.6.0 in /databricks/python3/lib/python3.9/site-packages (from ipywidgets<9,>=7.5.0->bqplot>=0.10.1->vaex-jupyter<0.9,>=0.8.2->vaex) (3.6.1)\nRequirement already satisfied: jupyterlab-widgets<3,>=1.0.0 in /databricks/python3/lib/python3.9/site-packages (from ipywidgets<9,>=7.5.0->bqplot>=0.10.1->vaex-jupyter<0.9,>=0.8.2->vaex) (1.0.0)\nRequirement already satisfied: ipython-genutils~=0.2.0 in /databricks/python3/lib/python3.9/site-packages (from ipywidgets<9,>=7.5.0->bqplot>=0.10.1->vaex-jupyter<0.9,>=0.8.2->vaex) (0.2.0)\nRequirement already satisfied: ipython>=4.0.0 in /databricks/python3/lib/python3.9/site-packages (from ipywidgets<9,>=7.5.0->bqplot>=0.10.1->vaex-jupyter<0.9,>=0.8.2->vaex) (8.5.0)\nRequirement already satisfied: ipykernel>=4.5.1 in /databricks/python3/lib/python3.9/site-packages (from ipywidgets<9,>=7.5.0->bqplot>=0.10.1->vaex-jupyter<0.9,>=0.8.2->vaex) (6.15.3)\nRequirement already satisfied: tornado>=6.1 in /databricks/python3/lib/python3.9/site-packages (from ipykernel>=4.5.1->ipywidgets<9,>=7.5.0->bqplot>=0.10.1->vaex-jupyter<0.9,>=0.8.2->vaex) (6.1)\nRequirement already satisfied: pyzmq>=17 in /databricks/python3/lib/python3.9/site-packages (from ipykernel>=4.5.1->ipywidgets<9,>=7.5.0->bqplot>=0.10.1->vaex-jupyter<0.9,>=0.8.2->vaex) (22.3.0)\nRequirement already satisfied: matplotlib-inline>=0.1 in /databricks/python3/lib/python3.9/site-packages (from ipykernel>=4.5.1->ipywidgets<9,>=7.5.0->bqplot>=0.10.1->vaex-jupyter<0.9,>=0.8.2->vaex) (0.1.2)\nRequirement already satisfied: jupyter-client>=6.1.12 in /databricks/python3/lib/python3.9/site-packages (from ipykernel>=4.5.1->ipywidgets<9,>=7.5.0->bqplot>=0.10.1->vaex-jupyter<0.9,>=0.8.2->vaex) (6.1.12)\nRequirement already satisfied: debugpy>=1.0 in /databricks/python3/lib/python3.9/site-packages (from ipykernel>=4.5.1->ipywidgets<9,>=7.5.0->bqplot>=0.10.1->vaex-jupyter<0.9,>=0.8.2->vaex) (1.5.1)\nRequirement already satisfied: psutil in /databricks/python3/lib/python3.9/site-packages (from ipykernel>=4.5.1->ipywidgets<9,>=7.5.0->bqplot>=0.10.1->vaex-jupyter<0.9,>=0.8.2->vaex) (5.8.0)\nRequirement already satisfied: prompt-toolkit<3.1.0,>3.0.1 in /databricks/python3/lib/python3.9/site-packages (from ipython>=4.0.0->ipywidgets<9,>=7.5.0->bqplot>=0.10.1->vaex-jupyter<0.9,>=0.8.2->vaex) (3.0.20)\nRequirement already satisfied: pygments>=2.4.0 in /databricks/python3/lib/python3.9/site-packages (from ipython>=4.0.0->ipywidgets<9,>=7.5.0->bqplot>=0.10.1->vaex-jupyter<0.9,>=0.8.2->vaex) (2.11.2)\nRequirement already satisfied: pexpect>4.3 in /databricks/python3/lib/python3.9/site-packages (from ipython>=4.0.0->ipywidgets<9,>=7.5.0->bqplot>=0.10.1->vaex-jupyter<0.9,>=0.8.2->vaex) (4.8.0)\nRequirement already satisfied: decorator in /databricks/python3/lib/python3.9/site-packages (from ipython>=4.0.0->ipywidgets<9,>=7.5.0->bqplot>=0.10.1->vaex-jupyter<0.9,>=0.8.2->vaex) (5.1.1)\nRequirement already satisfied: stack-data in /databricks/python3/lib/python3.9/site-packages (from ipython>=4.0.0->ipywidgets<9,>=7.5.0->bqplot>=0.10.1->vaex-jupyter<0.9,>=0.8.2->vaex) (0.2.0)\nRequirement already satisfied: backcall in /databricks/python3/lib/python3.9/site-packages (from ipython>=4.0.0->ipywidgets<9,>=7.5.0->bqplot>=0.10.1->vaex-jupyter<0.9,>=0.8.2->vaex) (0.2.0)\nRequirement already satisfied: jedi>=0.16 in /databricks/python3/lib/python3.9/site-packages (from ipython>=4.0.0->ipywidgets<9,>=7.5.0->bqplot>=0.10.1->vaex-jupyter<0.9,>=0.8.2->vaex) (0.18.1)\nRequirement already satisfied: pickleshare in /databricks/python3/lib/python3.9/site-packages (from ipython>=4.0.0->ipywidgets<9,>=7.5.0->bqplot>=0.10.1->vaex-jupyter<0.9,>=0.8.2->vaex) (0.7.5)\nRequirement already satisfied: parso<0.9.0,>=0.8.0 in /databricks/python3/lib/python3.9/site-packages (from jedi>=0.16->ipython>=4.0.0->ipywidgets<9,>=7.5.0->bqplot>=0.10.1->vaex-jupyter<0.9,>=0.8.2->vaex) (0.8.3)\nRequirement already satisfied: python-dateutil>=2.1 in /databricks/python3/lib/python3.9/site-packages (from jupyter-client>=6.1.12->ipykernel>=4.5.1->ipywidgets<9,>=7.5.0->bqplot>=0.10.1->vaex-jupyter<0.9,>=0.8.2->vaex) (2.8.2)\nRequirement already satisfied: jupyter-core>=4.6.0 in /databricks/python3/lib/python3.9/site-packages (from jupyter-client>=6.1.12->ipykernel>=4.5.1->ipywidgets<9,>=7.5.0->bqplot>=0.10.1->vaex-jupyter<0.9,>=0.8.2->vaex) (4.11.2)\nRequirement already satisfied: pytz>=2020.1 in /databricks/python3/lib/python3.9/site-packages (from pandas->vaex-core~=4.17.1->vaex) (2021.3)\nRequirement already satisfied: ptyprocess>=0.5 in /databricks/python3/lib/python3.9/site-packages (from pexpect>4.3->ipython>=4.0.0->ipywidgets<9,>=7.5.0->bqplot>=0.10.1->vaex-jupyter<0.9,>=0.8.2->vaex) (0.7.0)\nRequirement already satisfied: wcwidth in /databricks/python3/lib/python3.9/site-packages (from prompt-toolkit<3.1.0,>3.0.1->ipython>=4.0.0->ipywidgets<9,>=7.5.0->bqplot>=0.10.1->vaex-jupyter<0.9,>=0.8.2->vaex) (0.2.5)\nCollecting ipydatawidgets>=1.1.1\n  Downloading ipydatawidgets-4.3.5-py2.py3-none-any.whl (271 kB)\nCollecting numba\n  Downloading numba-0.59.1-cp39-cp39-manylinux2014_x86_64.manylinux_2_17_x86_64.whl (3.7 MB)\nRequirement already satisfied: jinja2 in /databricks/python3/lib/python3.9/site-packages (from vaex-ml<0.19,>=0.18.3->vaex) (2.11.3)\nCollecting fastapi\n  Downloading fastapi-0.111.0-py3-none-any.whl (91 kB)\nCollecting uvicorn[standard]\n  Downloading uvicorn-0.30.1-py3-none-any.whl (62 kB)\nCollecting cachetools\n  Downloading cachetools-5.3.3-py3-none-any.whl (9.3 kB)\nRequirement already satisfied: fonttools>=4.22.0 in /databricks/python3/lib/python3.9/site-packages (from matplotlib->ipyvolume>=0.4->vaex-jupyter<0.9,>=0.8.2->vaex) (4.25.0)\nRequirement already satisfied: kiwisolver>=1.0.1 in /databricks/python3/lib/python3.9/site-packages (from matplotlib->ipyvolume>=0.4->vaex-jupyter<0.9,>=0.8.2->vaex) (1.3.2)\nRequirement already satisfied: cycler>=0.10 in /databricks/python3/lib/python3.9/site-packages (from matplotlib->ipyvolume>=0.4->vaex-jupyter<0.9,>=0.8.2->vaex) (0.11.0)\nRequirement already satisfied: notebook>=4.4.1 in /databricks/python3/lib/python3.9/site-packages (from widgetsnbextension~=3.6.0->ipywidgets<9,>=7.5.0->bqplot>=0.10.1->vaex-jupyter<0.9,>=0.8.2->vaex) (6.4.8)\nRequirement already satisfied: argon2-cffi in /databricks/python3/lib/python3.9/site-packages (from notebook>=4.4.1->widgetsnbextension~=3.6.0->ipywidgets<9,>=7.5.0->bqplot>=0.10.1->vaex-jupyter<0.9,>=0.8.2->vaex) (21.3.0)\nRequirement already satisfied: nbconvert in /databricks/python3/lib/python3.9/site-packages (from notebook>=4.4.1->widgetsnbextension~=3.6.0->ipywidgets<9,>=7.5.0->bqplot>=0.10.1->vaex-jupyter<0.9,>=0.8.2->vaex) (6.4.4)\nRequirement already satisfied: prometheus-client in /databricks/python3/lib/python3.9/site-packages (from notebook>=4.4.1->widgetsnbextension~=3.6.0->ipywidgets<9,>=7.5.0->bqplot>=0.10.1->vaex-jupyter<0.9,>=0.8.2->vaex) (0.13.1)\nRequirement already satisfied: Send2Trash>=1.8.0 in /databricks/python3/lib/python3.9/site-packages (from notebook>=4.4.1->widgetsnbextension~=3.6.0->ipywidgets<9,>=7.5.0->bqplot>=0.10.1->vaex-jupyter<0.9,>=0.8.2->vaex) (1.8.0)\nRequirement already satisfied: terminado>=0.8.3 in /databricks/python3/lib/python3.9/site-packages (from notebook>=4.4.1->widgetsnbextension~=3.6.0->ipywidgets<9,>=7.5.0->bqplot>=0.10.1->vaex-jupyter<0.9,>=0.8.2->vaex) (0.13.1)\nRequirement already satisfied: nbformat in /databricks/python3/lib/python3.9/site-packages (from notebook>=4.4.1->widgetsnbextension~=3.6.0->ipywidgets<9,>=7.5.0->bqplot>=0.10.1->vaex-jupyter<0.9,>=0.8.2->vaex) (5.3.0)\nRequirement already satisfied: argon2-cffi-bindings in /databricks/python3/lib/python3.9/site-packages (from argon2-cffi->notebook>=4.4.1->widgetsnbextension~=3.6.0->ipywidgets<9,>=7.5.0->bqplot>=0.10.1->vaex-jupyter<0.9,>=0.8.2->vaex) (21.2.0)\nRequirement already satisfied: cffi>=1.0.1 in /databricks/python3/lib/python3.9/site-packages (from argon2-cffi-bindings->argon2-cffi->notebook>=4.4.1->widgetsnbextension~=3.6.0->ipywidgets<9,>=7.5.0->bqplot>=0.10.1->vaex-jupyter<0.9,>=0.8.2->vaex) (1.15.0)\nRequirement already satisfied: pycparser in /databricks/python3/lib/python3.9/site-packages (from cffi>=1.0.1->argon2-cffi-bindings->argon2-cffi->notebook>=4.4.1->widgetsnbextension~=3.6.0->ipywidgets<9,>=7.5.0->bqplot>=0.10.1->vaex-jupyter<0.9,>=0.8.2->vaex) (2.21)\nCollecting astropy-iers-data>=0.2024.2.26.0.28.55\n  Downloading astropy_iers_data-0.2024.5.27.0.30.8-py3-none-any.whl (1.9 MB)\nCollecting numpy>=1.16\n  Downloading numpy-1.26.4-cp39-cp39-manylinux_2_17_x86_64.manylinux2014_x86_64.whl (18.2 MB)\nCollecting pyerfa>=2.0.1.1\n  Downloading pyerfa-2.0.1.4-cp39-abi3-manylinux_2_17_x86_64.manylinux2014_x86_64.whl (738 kB)\nCollecting orjson>=3.2.1\n  Downloading orjson-3.10.3-cp39-cp39-manylinux_2_17_x86_64.manylinux2014_x86_64.whl (142 kB)\nCollecting starlette<0.38.0,>=0.37.2\n  Downloading starlette-0.37.2-py3-none-any.whl (71 kB)\nCollecting email_validator>=2.0.0\n  Downloading email_validator-2.1.1-py3-none-any.whl (30 kB)\nCollecting httpx>=0.23.0\n  Downloading httpx-0.27.0-py3-none-any.whl (75 kB)\nCollecting python-multipart>=0.0.7\n  Downloading python_multipart-0.0.9-py3-none-any.whl (22 kB)\nCollecting fastapi-cli>=0.0.2\n  Downloading fastapi_cli-0.0.4-py3-none-any.whl (9.5 kB)\nCollecting ujson!=4.0.2,!=4.1.0,!=4.2.0,!=4.3.0,!=5.0.0,!=5.1.0,>=4.0.1\n  Downloading ujson-5.10.0-cp39-cp39-manylinux_2_17_x86_64.manylinux2014_x86_64.whl (53 kB)\nCollecting dnspython>=2.0.0\n  Downloading dnspython-2.6.1-py3-none-any.whl (307 kB)\nRequirement already satisfied: idna>=2.0.0 in /databricks/python3/lib/python3.9/site-packages (from email_validator>=2.0.0->fastapi->vaex-server~=0.9.0->vaex) (3.3)\nCollecting typer>=0.12.3\n  Downloading typer-0.12.3-py3-none-any.whl (47 kB)\nCollecting httpcore==1.*\n  Downloading httpcore-1.0.5-py3-none-any.whl (77 kB)\nCollecting anyio\n  Downloading anyio-4.4.0-py3-none-any.whl (86 kB)\nCollecting sniffio\n  Downloading sniffio-1.3.1-py3-none-any.whl (10 kB)\nRequirement already satisfied: certifi in /databricks/python3/lib/python3.9/site-packages (from httpx>=0.23.0->fastapi->vaex-server~=0.9.0->vaex) (2021.10.8)\nCollecting h11<0.15,>=0.13\n  Downloading h11-0.14.0-py3-none-any.whl (58 kB)\nRequirement already satisfied: MarkupSafe>=0.23 in /databricks/python3/lib/python3.9/site-packages (from jinja2->vaex-ml<0.19,>=0.18.3->vaex) (2.0.1)\nCollecting exceptiongroup>=1.0.2\n  Downloading exceptiongroup-1.2.1-py3-none-any.whl (16 kB)\nCollecting shellingham>=1.3.0\n  Downloading shellingham-1.5.4-py2.py3-none-any.whl (9.8 kB)\nCollecting pygments>=2.4.0\n  Downloading pygments-2.18.0-py3-none-any.whl (1.2 MB)\nCollecting markdown-it-py>=2.2.0\n  Downloading markdown_it_py-3.0.0-py3-none-any.whl (87 kB)\nCollecting mdurl~=0.1\n  Downloading mdurl-0.1.2-py3-none-any.whl (10.0 kB)\nCollecting websockets>=10.4\n  Downloading websockets-12.0-cp39-cp39-manylinux_2_5_x86_64.manylinux1_x86_64.manylinux_2_17_x86_64.manylinux2014_x86_64.whl (130 kB)\nCollecting uvloop!=0.15.0,!=0.15.1,>=0.14.0\n  Downloading uvloop-0.19.0-cp39-cp39-manylinux_2_17_x86_64.manylinux2014_x86_64.whl (3.5 MB)\nCollecting python-dotenv>=0.13\n  Downloading python_dotenv-1.0.1-py3-none-any.whl (19 kB)\nCollecting httptools>=0.5.0\n  Downloading httptools-0.6.1-cp39-cp39-manylinux_2_5_x86_64.manylinux1_x86_64.manylinux_2_17_x86_64.manylinux2014_x86_64.whl (345 kB)\nCollecting watchfiles>=0.13\n  Downloading watchfiles-0.22.0-cp39-cp39-manylinux_2_17_x86_64.manylinux2014_x86_64.whl (1.2 MB)\nCollecting jupyter-leaflet<0.20,>=0.19\n  Downloading jupyter_leaflet-0.19.1-py3-none-any.whl (1.1 MB)\nCollecting xyzservices>=2021.8.1\n  Downloading xyzservices-2024.4.0-py3-none-any.whl (81 kB)\nCollecting branca>=0.5.0\n  Downloading branca-0.7.2-py3-none-any.whl (25 kB)\nCollecting jinja2\n  Downloading jinja2-3.1.4-py3-none-any.whl (133 kB)\nRequirement already satisfied: pandocfilters>=1.4.1 in /databricks/python3/lib/python3.9/site-packages (from nbconvert->notebook>=4.4.1->widgetsnbextension~=3.6.0->ipywidgets<9,>=7.5.0->bqplot>=0.10.1->vaex-jupyter<0.9,>=0.8.2->vaex) (1.5.0)\nRequirement already satisfied: defusedxml in /databricks/python3/lib/python3.9/site-packages (from nbconvert->notebook>=4.4.1->widgetsnbextension~=3.6.0->ipywidgets<9,>=7.5.0->bqplot>=0.10.1->vaex-jupyter<0.9,>=0.8.2->vaex) (0.7.1)\nRequirement already satisfied: nbclient<0.6.0,>=0.5.0 in /databricks/python3/lib/python3.9/site-packages (from nbconvert->notebook>=4.4.1->widgetsnbextension~=3.6.0->ipywidgets<9,>=7.5.0->bqplot>=0.10.1->vaex-jupyter<0.9,>=0.8.2->vaex) (0.5.13)\nRequirement already satisfied: entrypoints>=0.2.2 in /databricks/python3/lib/python3.9/site-packages (from nbconvert->notebook>=4.4.1->widgetsnbextension~=3.6.0->ipywidgets<9,>=7.5.0->bqplot>=0.10.1->vaex-jupyter<0.9,>=0.8.2->vaex) (0.4)\nRequirement already satisfied: testpath in /databricks/python3/lib/python3.9/site-packages (from nbconvert->notebook>=4.4.1->widgetsnbextension~=3.6.0->ipywidgets<9,>=7.5.0->bqplot>=0.10.1->vaex-jupyter<0.9,>=0.8.2->vaex) (0.5.0)\nRequirement already satisfied: beautifulsoup4 in /databricks/python3/lib/python3.9/site-packages (from nbconvert->notebook>=4.4.1->widgetsnbextension~=3.6.0->ipywidgets<9,>=7.5.0->bqplot>=0.10.1->vaex-jupyter<0.9,>=0.8.2->vaex) (4.11.1)\nRequirement already satisfied: bleach in /databricks/python3/lib/python3.9/site-packages (from nbconvert->notebook>=4.4.1->widgetsnbextension~=3.6.0->ipywidgets<9,>=7.5.0->bqplot>=0.10.1->vaex-jupyter<0.9,>=0.8.2->vaex) (4.1.0)\nRequirement already satisfied: jupyterlab-pygments in /databricks/python3/lib/python3.9/site-packages (from nbconvert->notebook>=4.4.1->widgetsnbextension~=3.6.0->ipywidgets<9,>=7.5.0->bqplot>=0.10.1->vaex-jupyter<0.9,>=0.8.2->vaex) (0.1.2)\nRequirement already satisfied: mistune<2,>=0.8.1 in /databricks/python3/lib/python3.9/site-packages (from nbconvert->notebook>=4.4.1->widgetsnbextension~=3.6.0->ipywidgets<9,>=7.5.0->bqplot>=0.10.1->vaex-jupyter<0.9,>=0.8.2->vaex) (0.8.4)\nRequirement already satisfied: jsonschema>=2.6 in /databricks/python3/lib/python3.9/site-packages (from nbformat->notebook>=4.4.1->widgetsnbextension~=3.6.0->ipywidgets<9,>=7.5.0->bqplot>=0.10.1->vaex-jupyter<0.9,>=0.8.2->vaex) (4.4.0)\nRequirement already satisfied: fastjsonschema in /databricks/python3/lib/python3.9/site-packages (from nbformat->notebook>=4.4.1->widgetsnbextension~=3.6.0->ipywidgets<9,>=7.5.0->bqplot>=0.10.1->vaex-jupyter<0.9,>=0.8.2->vaex) (2.16.2)\nRequirement already satisfied: attrs>=17.4.0 in /databricks/python3/lib/python3.9/site-packages (from jsonschema>=2.6->nbformat->notebook>=4.4.1->widgetsnbextension~=3.6.0->ipywidgets<9,>=7.5.0->bqplot>=0.10.1->vaex-jupyter<0.9,>=0.8.2->vaex) (21.4.0)\nRequirement already satisfied: pyrsistent!=0.17.0,!=0.17.1,!=0.17.2,>=0.14.0 in /databricks/python3/lib/python3.9/site-packages (from jsonschema>=2.6->nbformat->notebook>=4.4.1->widgetsnbextension~=3.6.0->ipywidgets<9,>=7.5.0->bqplot>=0.10.1->vaex-jupyter<0.9,>=0.8.2->vaex) (0.18.0)\nRequirement already satisfied: soupsieve>1.2 in /databricks/python3/lib/python3.9/site-packages (from beautifulsoup4->nbconvert->notebook>=4.4.1->widgetsnbextension~=3.6.0->ipywidgets<9,>=7.5.0->bqplot>=0.10.1->vaex-jupyter<0.9,>=0.8.2->vaex) (2.3.1)\nRequirement already satisfied: webencodings in /databricks/python3/lib/python3.9/site-packages (from bleach->nbconvert->notebook>=4.4.1->widgetsnbextension~=3.6.0->ipywidgets<9,>=7.5.0->bqplot>=0.10.1->vaex-jupyter<0.9,>=0.8.2->vaex) (0.5.1)\nCollecting llvmlite<0.43,>=0.42.0dev0\n  Downloading llvmlite-0.42.0-cp39-cp39-manylinux_2_17_x86_64.manylinux2014_x86_64.whl (43.8 MB)\nCollecting python-utils>=3.8.1\n  Downloading python_utils-3.8.2-py2.py3-none-any.whl (27 kB)\nRequirement already satisfied: charset-normalizer~=2.0.0 in /databricks/python3/lib/python3.9/site-packages (from requests->vaex-core~=4.17.1->vaex) (2.0.4)\nRequirement already satisfied: urllib3<1.27,>=1.21.1 in /databricks/python3/lib/python3.9/site-packages (from requests->vaex-core~=4.17.1->vaex) (1.26.9)\nRequirement already satisfied: pure-eval in /databricks/python3/lib/python3.9/site-packages (from stack-data->ipython>=4.0.0->ipywidgets<9,>=7.5.0->bqplot>=0.10.1->vaex-jupyter<0.9,>=0.8.2->vaex) (0.2.2)\nRequirement already satisfied: asttokens in /databricks/python3/lib/python3.9/site-packages (from stack-data->ipython>=4.0.0->ipywidgets<9,>=7.5.0->bqplot>=0.10.1->vaex-jupyter<0.9,>=0.8.2->vaex) (2.0.5)\nRequirement already satisfied: executing in /databricks/python3/lib/python3.9/site-packages (from stack-data->ipython>=4.0.0->ipywidgets<9,>=7.5.0->bqplot>=0.10.1->vaex-jupyter<0.9,>=0.8.2->vaex) (0.8.3)\nCollecting packaging>=20.0\n  Downloading packaging-24.0-py3-none-any.whl (53 kB)\nCollecting pandas\n  Downloading pandas-2.2.2-cp39-cp39-manylinux_2_17_x86_64.manylinux2014_x86_64.whl (13.1 MB)\nCollecting tzdata>=2022.7\n  Downloading tzdata-2024.1-py2.py3-none-any.whl (345 kB)\nBuilding wheels for collected packages: aplus\n  Building wheel for aplus (setup.py): started\n  Building wheel for aplus (setup.py): finished with status 'done'\n  Created wheel for aplus: filename=aplus-0.11.0-py3-none-any.whl size=4401 sha256=c5fa892299f22bd079897801c874331fd33c1c6435be697ce35ff6c86aba34fb\n  Stored in directory: /root/.cache/pip/wheels/e2/ec/10/f765aa7a52b46a9b836531727749cc586db038705bd885a0d5\nSuccessfully built aplus\nInstalling collected packages: pygments, packaging, jinja2, mdurl, zipp, typing-extensions, toolz, sniffio, markdown-it-py, locket, exceptiongroup, tzdata, traittypes, shellingham, rich, pyyaml, python-utils, pydantic-core, partd, numpy, importlib-metadata, h11, fsspec, cloudpickle, click, anyio, annotated-types, websockets, watchfiles, uvloop, uvicorn, typer, tabulate, python-dotenv, pydantic, progressbar2, pandas, ipyvue, ipydatawidgets, httptools, httpcore, future, frozendict, dnspython, dask, blake3, aplus, xyzservices, vaex-core, ujson, starlette, pythreejs, python-multipart, pyerfa, orjson, llvmlite, jupyter-leaflet, ipywebrtc, ipyvuetify, httpx, fastapi-cli, email-validator, branca, bqplot, astropy-iers-data, xarray, vaex-viz, numba, ipyvolume, ipympl, ipyleaflet, h5py, fastapi, cachetools, astropy, vaex-server, vaex-ml, vaex-jupyter, vaex-hdf5, vaex-astro, vaex\n  Attempting uninstall: pygments\n    Found existing installation: Pygments 2.11.2\n    Not uninstalling pygments at /databricks/python3/lib/python3.9/site-packages, outside environment /local_disk0/.ephemeral_nfs/envs/pythonEnv-547e3444-2b8a-4421-bdba-f478a779c436\n    Can't uninstall 'Pygments'. No files were found to uninstall.\n  Attempting uninstall: packaging\n    Found existing installation: packaging 21.3\n    Not uninstalling packaging at /databricks/python3/lib/python3.9/site-packages, outside environment /local_disk0/.ephemeral_nfs/envs/pythonEnv-547e3444-2b8a-4421-bdba-f478a779c436\n    Can't uninstall 'packaging'. No files were found to uninstall.\n  Attempting uninstall: jinja2\n    Found existing installation: Jinja2 2.11.3\n    Not uninstalling jinja2 at /databricks/python3/lib/python3.9/site-packages, outside environment /local_disk0/.ephemeral_nfs/envs/pythonEnv-547e3444-2b8a-4421-bdba-f478a779c436\n    Can't uninstall 'Jinja2'. No files were found to uninstall.\n  Attempting uninstall: typing-extensions\n    Found existing installation: typing-extensions 4.1.1\n    Not uninstalling typing-extensions at /databricks/python3/lib/python3.9/site-packages, outside environment /local_disk0/.ephemeral_nfs/envs/pythonEnv-547e3444-2b8a-4421-bdba-f478a779c436\n    Can't uninstall 'typing-extensions'. No files were found to uninstall.\n  Attempting uninstall: numpy\n    Found existing installation: numpy 1.21.5\n    Not uninstalling numpy at /databricks/python3/lib/python3.9/site-packages, outside environment /local_disk0/.ephemeral_nfs/envs/pythonEnv-547e3444-2b8a-4421-bdba-f478a779c436\n    Can't uninstall 'numpy'. No files were found to uninstall.\n  Attempting uninstall: click\n    Found existing installation: click 8.0.4\n    Not uninstalling click at /databricks/python3/lib/python3.9/site-packages, outside environment /local_disk0/.ephemeral_nfs/envs/pythonEnv-547e3444-2b8a-4421-bdba-f478a779c436\n    Can't uninstall 'click'. No files were found to uninstall.\n  Attempting uninstall: pandas\n    Found existing installation: pandas 1.4.2\n    Not uninstalling pandas at /databricks/python3/lib/python3.9/site-packages, outside environment /local_disk0/.ephemeral_nfs/envs/pythonEnv-547e3444-2b8a-4421-bdba-f478a779c436\n    Can't uninstall 'pandas'. No files were found to uninstall.\n  Attempting uninstall: ujson\n    Found existing installation: ujson 5.1.0\n    Not uninstalling ujson at /databricks/python3/lib/python3.9/site-packages, outside environment /local_disk0/.ephemeral_nfs/envs/pythonEnv-547e3444-2b8a-4421-bdba-f478a779c436\n    Can't uninstall 'ujson'. No files were found to uninstall.\nERROR: pip's dependency resolver does not currently take into account all the packages that are installed. This behaviour is the source of the following dependency conflicts.\nscipy 1.7.3 requires numpy<1.23.0,>=1.16.5, but you have numpy 1.26.4 which is incompatible.\nSuccessfully installed annotated-types-0.7.0 anyio-4.4.0 aplus-0.11.0 astropy-6.0.1 astropy-iers-data-0.2024.5.27.0.30.8 blake3-0.4.1 bqplot-0.12.43 branca-0.7.2 cachetools-5.3.3 click-8.1.7 cloudpickle-3.0.0 dask-2024.5.2 dnspython-2.6.1 email-validator-2.1.1 exceptiongroup-1.2.1 fastapi-0.111.0 fastapi-cli-0.0.4 frozendict-2.4.4 fsspec-2024.5.0 future-1.0.0 h11-0.14.0 h5py-3.11.0 httpcore-1.0.5 httptools-0.6.1 httpx-0.27.0 importlib-metadata-7.1.0 ipydatawidgets-4.3.5 ipyleaflet-0.19.1 ipympl-0.9.4 ipyvolume-0.6.3 ipyvue-1.11.1 ipyvuetify-1.9.4 ipywebrtc-0.6.0 jinja2-3.1.4 jupyter-leaflet-0.19.1 llvmlite-0.42.0 locket-1.0.0 markdown-it-py-3.0.0 mdurl-0.1.2 numba-0.59.1 numpy-1.26.4 orjson-3.10.3 packaging-24.0 pandas-2.2.2 partd-1.4.2 progressbar2-4.4.2 pydantic-2.7.2 pydantic-core-2.18.3 pyerfa-2.0.1.4 pygments-2.18.0 python-dotenv-1.0.1 python-multipart-0.0.9 python-utils-3.8.2 pythreejs-2.4.2 pyyaml-6.0.1 rich-13.7.1 shellingham-1.5.4 sniffio-1.3.1 starlette-0.37.2 tabulate-0.9.0 toolz-0.12.1 traittypes-0.2.1 typer-0.12.3 typing-extensions-4.12.1 tzdata-2024.1 ujson-5.10.0 uvicorn-0.30.1 uvloop-0.19.0 vaex-4.17.0 vaex-astro-0.9.3 vaex-core-4.17.1 vaex-hdf5-0.14.1 vaex-jupyter-0.8.2 vaex-ml-0.18.3 vaex-server-0.9.0 vaex-viz-0.5.4 watchfiles-0.22.0 websockets-12.0 xarray-2024.5.0 xyzservices-2024.4.0 zipp-3.19.1\nPython interpreter will be restarted.\n"
     ]
    }
   ],
   "source": [
    "%pip install vaex"
   ]
  },
  {
   "cell_type": "code",
   "execution_count": 0,
   "metadata": {
    "application/vnd.databricks.v1+cell": {
     "cellMetadata": {
      "byteLimit": 2048000,
      "rowLimit": 10000
     },
     "inputWidgets": {},
     "nuid": "fdcd683f-6bb3-4420-9737-295ecc827b0f",
     "showTitle": false,
     "title": ""
    }
   },
   "outputs": [
    {
     "output_type": "display_data",
     "data": {
      "application/vnd.databricks.v1+bamboolib_hint": "{\"pd.DataFrames\": [], \"version\": \"0.0.1\"}",
      "text/plain": []
     },
     "metadata": {},
     "output_type": "display_data"
    },
    {
     "output_type": "stream",
     "name": "stdout",
     "output_type": "stream",
     "text": [
      "pandas version: 2.2.2\nnumpy version: 1.26.4\nvaex version: {'vaex': '4.17.0', 'vaex-core': '4.17.1', 'vaex-viz': '0.5.4', 'vaex-hdf5': '0.14.1', 'vaex-server': '0.9.0', 'vaex-astro': '0.9.3', 'vaex-jupyter': '0.8.2', 'vaex-ml': '0.18.3'}\npyarrow version: 7.0.0\npyspark version: 3.3.2.dev0\n"
     ]
    }
   ],
   "source": [
    "import pandas as pd\n",
    "import numpy as np\n",
    "import vaex\n",
    "\n",
    "print('pandas version: %s' % pd.__version__)\n",
    "\n",
    "print('numpy version: %s' % np.__version__)\n",
    "\n",
    "print('vaex version: %s' % vaex.__version__)\n",
    "\n",
    "import pyarrow\n",
    "print('pyarrow version: %s' % pyarrow.__version__)\n",
    "\n",
    "import pyspark\n",
    "print('pyspark version: %s' % pyspark.__version__)\n",
    "\n",
    "\n",
    "import time\n",
    "\n",
    "def benchmark(f, df, benchmarks, name, **kwargs):\n",
    "    \"\"\"Benchmark the given function against the given DataFrame.\n",
    "    \n",
    "    Parameters\n",
    "    ----------\n",
    "    f: function to benchmark\n",
    "    df: data frame\n",
    "    benchmarks: container for benchmark results\n",
    "    name: task name\n",
    "    \n",
    "    Returns\n",
    "    -------\n",
    "    Duration (in seconds) of the given operation\n",
    "    \"\"\"\n",
    "    start_time = time.time()\n",
    "    ret = f(df, **kwargs)\n",
    "    benchmarks['duration'].append(time.time() - start_time)\n",
    "    benchmarks['task'].append(name)\n",
    "    print(f\"{name} took: {benchmarks['duration'][-1]} seconds\")\n",
    "    return benchmarks['duration'][-1]\n",
    "\n",
    "def get_results(benchmarks):\n",
    "    \"\"\"Return a pandas DataFrame containing benchmark results.\"\"\"\n",
    "    return pd.DataFrame.from_dict(benchmarks)"
   ]
  },
  {
   "cell_type": "code",
   "execution_count": 0,
   "metadata": {
    "application/vnd.databricks.v1+cell": {
     "cellMetadata": {
      "byteLimit": 2048000,
      "rowLimit": 10000
     },
     "inputWidgets": {},
     "nuid": "ebd4e75b-012c-456c-ab42-02cf76ace570",
     "showTitle": false,
     "title": ""
    }
   },
   "outputs": [],
   "source": [
    "filenames = [f\"/FileStore/tables/yellow_tripdata_2023_0{i}.parquet\" for i in range(1, 6)]\n",
    "\n",
    "dfs = []\n",
    "for filename in filenames:\n",
    "    # df = pd.read_parquet(filename)\n",
    "    df = spark.read.format('parquet').options(header='true').load(filename).toPandas()\n",
    "\n",
    "    if 'airport_fee' in df.columns:\n",
    "        df.rename(columns={'airport_fee': 'Airport_fee'}, inplace=True)\n",
    "    # df_dask = dd.from_pandas(df, npartitions=3)\n",
    "\n",
    "    dfs.append(df)\n",
    "\n",
    "pandas_data = pd.concat(dfs, ignore_index=True)\n",
    "# dask_data = dd.concat(dfs)\n",
    "vaex_data = vaex.from_pandas(pandas_data)"
   ]
  },
  {
   "cell_type": "code",
   "execution_count": 0,
   "metadata": {
    "application/vnd.databricks.v1+cell": {
     "cellMetadata": {
      "byteLimit": 2048000,
      "rowLimit": 10000
     },
     "inputWidgets": {},
     "nuid": "1803d981-eeb0-4a49-b843-489a73df7247",
     "showTitle": false,
     "title": ""
    }
   },
   "outputs": [
    {
     "output_type": "stream",
     "name": "stdout",
     "output_type": "stream",
     "text": [
      "Out[99]: 16186386"
     ]
    }
   ],
   "source": [
    "len(vaex_data)"
   ]
  },
  {
   "cell_type": "code",
   "execution_count": 0,
   "metadata": {
    "application/vnd.databricks.v1+cell": {
     "cellMetadata": {
      "byteLimit": 2048000,
      "rowLimit": 10000
     },
     "inputWidgets": {},
     "nuid": "280411cb-69bc-4c1e-a19c-464e213307ed",
     "showTitle": false,
     "title": ""
    }
   },
   "outputs": [],
   "source": [
    "# vaex_data = vaex.from_pandas(pandas_data)\n",
    "\n",
    "vaex_benchmarks = {\n",
    "    'duration': [],  # in seconds\n",
    "    'task': [],\n",
    "}\n",
    "# vaex_data.head()"
   ]
  },
  {
   "cell_type": "code",
   "execution_count": 0,
   "metadata": {
    "application/vnd.databricks.v1+cell": {
     "cellMetadata": {
      "byteLimit": 2048000,
      "rowLimit": 10000
     },
     "inputWidgets": {},
     "nuid": "e2275cf0-ffbe-4e51-8e01-2f36caa40410",
     "showTitle": false,
     "title": ""
    }
   },
   "outputs": [],
   "source": [
    "# Read file (assuming Parquet format)\n",
    "def read_file_parquet():\n",
    "    return vaex.open(\"/FileStore/tables/yellow_tripdata_2023_01.parquet\")\n",
    "\n",
    "# Count rows\n",
    "def count(df):\n",
    "    return len(df)\n",
    "\n",
    "# Count index length\n",
    "def count_index_length(df):\n",
    "    return len(df)\n",
    "\n",
    "# Mean\n",
    "def mean(df):\n",
    "    return df['fare_amount'].mean()\n",
    "\n",
    "# Standard deviation\n",
    "def standard_deviation(df):\n",
    "    return df['fare_amount'].std()\n",
    "\n",
    "# Mean of sum\n",
    "def mean_of_sum(df):\n",
    "    return (df['fare_amount'] + df['tip_amount']).mean()\n",
    "\n",
    "# Sum columns\n",
    "def sum_columns(df):\n",
    "    return (df['fare_amount'] + df['tip_amount']).sum()\n",
    "\n",
    "# Mean of product\n",
    "def mean_of_product(df):\n",
    "    return (df['fare_amount'] * df['tip_amount']).mean()\n",
    "\n",
    "# Product columns\n",
    "def product_columns(df):\n",
    "    return (df['fare_amount'] * df['tip_amount']).sum()\n",
    "\n",
    "# Value counts\n",
    "def value_counts(df):\n",
    "    return df['fare_amount'].value_counts()\n",
    "\n",
    "# Mean of complicated arithmetic operation\n",
    "def mean_of_complicated_arithmetic_operation(df):\n",
    "    theta_1 = df['start_lon']\n",
    "    phi_1 = df['start_lat']\n",
    "    theta_2 = df['end_lon']\n",
    "    phi_2 = df['end_lat']\n",
    "    temp = (vaex.utils.deg2rad(theta_2 - theta_1) / 2).sin() ** 2 + (vaex.utils.deg2rad(phi_2 - phi_1) / 2).sin() ** 2\n",
    "    ret = (2 * vaex.utils.rad2deg(temp.sqrt() / (1 - temp).sqrt())).mean()\n",
    "    return ret\n",
    "\n",
    "# Complicated arithmetic operation\n",
    "def complicated_arithmetic_operation(df):\n",
    "    theta_1 = df['start_lon']\n",
    "    phi_1 = df['start_lat']\n",
    "    theta_2 = df['end_lon']\n",
    "    phi_2 = df['end_lat']\n",
    "    temp = (vaex.utils.deg2rad(theta_2 - theta_1) / 2).sin() ** 2 + (vaex.utils.deg2rad(phi_2 - phi_1) / 2).sin() ** 2\n",
    "    ret = 2 * vaex.utils.rad2deg(vaex.utils.arctan2(temp.sqrt(), (1 - temp).sqrt()))\n",
    "    return ret\n",
    "\n",
    "# Groupby statistics\n",
    "def groupby_statistics(df):\n",
    "    return df.groupby(by=df['passenger_count']).agg({\n",
    "        'fare_amount': ['mean', 'std'],\n",
    "        'tip_amount': ['mean', 'std']\n",
    "    })\n",
    "\n",
    "other = groupby_statistics(vaex_data)\n",
    "\n",
    "# Join count\n",
    "def join_count(df, other):\n",
    "    return len(df.join(other, on='passenger_count', rsuffix='_other'))\n",
    "\n",
    "# Join data\n",
    "def join_data(df, other):\n",
    "    return df.join(other, on='passenger_count', rsuffix='_other')"
   ]
  },
  {
   "cell_type": "code",
   "execution_count": 0,
   "metadata": {
    "application/vnd.databricks.v1+cell": {
     "cellMetadata": {
      "byteLimit": 2048000,
      "rowLimit": 10000
     },
     "inputWidgets": {},
     "nuid": "5921779e-ad6c-4a55-ba69-50cacf9f60c5",
     "showTitle": false,
     "title": ""
    }
   },
   "outputs": [
    {
     "output_type": "stream",
     "name": "stdout",
     "output_type": "stream",
     "text": [
      "count took: 2.193450927734375e-05 seconds\ncount index length took: 1.0013580322265625e-05 seconds\nmean took: 0.08758163452148438 seconds\nstandard deviation took: 0.6647777557373047 seconds\nmean of columns addition took: 0.1370091438293457 seconds\naddition of columns took: 0.1096642017364502 seconds\nmean of columns multiplication took: 0.14014101028442383 seconds\nmultiplication of columns took: 0.11284995079040527 seconds\nvalue counts took: 0.3455171585083008 seconds\ngroupby statistics took: 1.5505948066711426 seconds\njoin count took: 0.25740551948547363 seconds\njoin took: 0.23580574989318848 seconds\nOut[128]: 0.23580574989318848"
     ]
    }
   ],
   "source": [
    "#benchmark(read_file_parquet, df=None, benchmarks=dask_benchmarks, name='read file')\n",
    "benchmark(count, df=vaex_data, benchmarks=vaex_benchmarks, name='count')\n",
    "benchmark(count_index_length, df=vaex_data, benchmarks=vaex_benchmarks, name='count index length')\n",
    "benchmark(mean, df=vaex_data, benchmarks=vaex_benchmarks, name='mean')\n",
    "benchmark(standard_deviation, df=vaex_data, benchmarks=vaex_benchmarks, name='standard deviation')\n",
    "benchmark(mean_of_sum, df=vaex_data, benchmarks=vaex_benchmarks, name='mean of columns addition')\n",
    "benchmark(sum_columns, df=vaex_data, benchmarks=vaex_benchmarks, name='addition of columns')\n",
    "benchmark(mean_of_product, df=vaex_data, benchmarks=vaex_benchmarks, name='mean of columns multiplication')\n",
    "benchmark(product_columns, df=vaex_data, benchmarks=vaex_benchmarks, name='multiplication of columns')\n",
    "benchmark(value_counts, df=vaex_data, benchmarks=vaex_benchmarks, name='value counts')\n",
    "# No column for this\n",
    "# benchmark(mean_of_complicated_arithmetic_operation, df=dask_data, benchmarks=dask_benchmarks, name='mean of complex arithmetic ops')\n",
    "# benchmark(complicated_arithmetic_operation, df=dask_data, benchmarks=dask_benchmarks, name='complex arithmetic ops')\n",
    "benchmark(groupby_statistics, df=vaex_data, benchmarks=vaex_benchmarks, name='groupby statistics')\n",
    "benchmark(join_count, vaex_data, benchmarks=vaex_benchmarks, name='join count', other=other)\n",
    "benchmark(join_data, vaex_data, benchmarks=vaex_benchmarks, name='join', other=other) # cant join"
   ]
  },
  {
   "cell_type": "markdown",
   "metadata": {
    "application/vnd.databricks.v1+cell": {
     "cellMetadata": {
      "byteLimit": 2048000,
      "rowLimit": 10000
     },
     "inputWidgets": {},
     "nuid": "3115e254-f7e8-40c3-b8f6-b3acee81ba40",
     "showTitle": false,
     "title": ""
    }
   },
   "source": [
    "Operations with filtering"
   ]
  },
  {
   "cell_type": "code",
   "execution_count": 0,
   "metadata": {
    "application/vnd.databricks.v1+cell": {
     "cellMetadata": {
      "byteLimit": 2048000,
      "rowLimit": 10000
     },
     "inputWidgets": {},
     "nuid": "cdba2e0a-748c-4c07-b6a0-b382022fd050",
     "showTitle": false,
     "title": ""
    }
   },
   "outputs": [],
   "source": [
    "expr_filter = (vaex_data.tip_amount >= 1) & (vaex_data.tip_amount <= 5)\n",
    "\n",
    "def filter_data(df):\n",
    "    return df[expr_filter]\n",
    "  \n",
    "vaex_filtered = filter_data(vaex_data)"
   ]
  },
  {
   "cell_type": "code",
   "execution_count": 0,
   "metadata": {
    "application/vnd.databricks.v1+cell": {
     "cellMetadata": {
      "byteLimit": 2048000,
      "rowLimit": 10000
     },
     "inputWidgets": {},
     "nuid": "0657d2aa-6704-435d-abb8-f4cb7e3e1d09",
     "showTitle": false,
     "title": ""
    }
   },
   "outputs": [
    {
     "output_type": "stream",
     "name": "stdout",
     "output_type": "stream",
     "text": [
      "filtered count took: 0.10258865356445312 seconds\nfiltered count index length took: 1.7881393432617188e-05 seconds\nfiltered mean took: 0.14691710472106934 seconds\nfiltered standard deviation took: 0.4904634952545166 seconds\nfiltered mean of columns addition took: 0.3168008327484131 seconds\nfiltered addition of columns took: 0.27278733253479004 seconds\nfiltered mean of columns multiplication took: 0.2804408073425293 seconds\nfiltered multiplication of columns took: 0.25301241874694824 seconds\nfiltered value counts took: 0.31861042976379395 seconds\nfiltered groupby statistics took: 1.5305016040802002 seconds\nfiltered join count took: 0.23292326927185059 seconds\nfiltered join took: 0.2331104278564453 seconds\nOut[130]: 0.2331104278564453"
     ]
    }
   ],
   "source": [
    "benchmark(count, vaex_filtered, benchmarks=vaex_benchmarks, name='filtered count')\n",
    "benchmark(count_index_length, vaex_filtered, benchmarks=vaex_benchmarks, name='filtered count index length')\n",
    "benchmark(mean, vaex_filtered, benchmarks=vaex_benchmarks, name='filtered mean')\n",
    "benchmark(standard_deviation, vaex_filtered, benchmarks=vaex_benchmarks, name='filtered standard deviation')\n",
    "benchmark(mean_of_sum, vaex_filtered, benchmarks=vaex_benchmarks, name ='filtered mean of columns addition')\n",
    "benchmark(sum_columns, df=vaex_filtered, benchmarks=vaex_benchmarks, name='filtered addition of columns')\n",
    "benchmark(mean_of_product, vaex_filtered, benchmarks=vaex_benchmarks, name ='filtered mean of columns multiplication')\n",
    "benchmark(product_columns, df=vaex_filtered, benchmarks=vaex_benchmarks, name='filtered multiplication of columns')\n",
    "#benchmark(mean_of_complicated_arithmetic_operation, dask_filtered, benchmarks=dask_benchmarks, name='filtered mean of complex arithmetic ops')\n",
    "#benchmark(complicated_arithmetic_operation, dask_filtered, benchmarks=dask_benchmarks, name='filtered complex arithmetic ops')\n",
    "benchmark(value_counts, vaex_filtered, benchmarks=vaex_benchmarks, name ='filtered value counts')\n",
    "benchmark(groupby_statistics, vaex_filtered, benchmarks=vaex_benchmarks, name='filtered groupby statistics')\n",
    "\n",
    "other = groupby_statistics(vaex_filtered)\n",
    "# other.columns = pd.Index([e[0]+'_' + e[1] for e in other.columns.tolist()])\n",
    "\n",
    "benchmark(join_count, vaex_filtered, benchmarks=vaex_benchmarks, name='filtered join count', other=other)\n",
    "benchmark(join_data, vaex_filtered, benchmarks=vaex_benchmarks, name='filtered join', other=other)"
   ]
  },
  {
   "cell_type": "code",
   "execution_count": 0,
   "metadata": {
    "application/vnd.databricks.v1+cell": {
     "cellMetadata": {
      "byteLimit": 2048000,
      "rowLimit": 10000
     },
     "inputWidgets": {},
     "nuid": "40b6ed7a-4742-4834-a448-46c760932fa9",
     "showTitle": false,
     "title": ""
    }
   },
   "outputs": [
    {
     "output_type": "display_data",
     "data": {
      "text/html": [
       "<div>\n",
       "<style scoped>\n",
       "    .dataframe tbody tr th:only-of-type {\n",
       "        vertical-align: middle;\n",
       "    }\n",
       "\n",
       "    .dataframe tbody tr th {\n",
       "        vertical-align: top;\n",
       "    }\n",
       "\n",
       "    .dataframe thead th {\n",
       "        text-align: right;\n",
       "    }\n",
       "</style>\n",
       "<table border=\"1\" class=\"dataframe\">\n",
       "  <thead>\n",
       "    <tr style=\"text-align: right;\">\n",
       "      <th></th>\n",
       "      <th>duration</th>\n",
       "    </tr>\n",
       "    <tr>\n",
       "      <th>task</th>\n",
       "      <th></th>\n",
       "    </tr>\n",
       "  </thead>\n",
       "  <tbody>\n",
       "    <tr>\n",
       "      <th>count</th>\n",
       "      <td>0.000022</td>\n",
       "    </tr>\n",
       "    <tr>\n",
       "      <th>count index length</th>\n",
       "      <td>0.000010</td>\n",
       "    </tr>\n",
       "    <tr>\n",
       "      <th>mean</th>\n",
       "      <td>0.087582</td>\n",
       "    </tr>\n",
       "    <tr>\n",
       "      <th>standard deviation</th>\n",
       "      <td>0.664778</td>\n",
       "    </tr>\n",
       "    <tr>\n",
       "      <th>mean of columns addition</th>\n",
       "      <td>0.137009</td>\n",
       "    </tr>\n",
       "    <tr>\n",
       "      <th>addition of columns</th>\n",
       "      <td>0.109664</td>\n",
       "    </tr>\n",
       "    <tr>\n",
       "      <th>mean of columns multiplication</th>\n",
       "      <td>0.140141</td>\n",
       "    </tr>\n",
       "    <tr>\n",
       "      <th>multiplication of columns</th>\n",
       "      <td>0.112850</td>\n",
       "    </tr>\n",
       "    <tr>\n",
       "      <th>value counts</th>\n",
       "      <td>0.345517</td>\n",
       "    </tr>\n",
       "    <tr>\n",
       "      <th>groupby statistics</th>\n",
       "      <td>1.550595</td>\n",
       "    </tr>\n",
       "    <tr>\n",
       "      <th>join count</th>\n",
       "      <td>0.257406</td>\n",
       "    </tr>\n",
       "    <tr>\n",
       "      <th>join</th>\n",
       "      <td>0.235806</td>\n",
       "    </tr>\n",
       "    <tr>\n",
       "      <th>filtered count</th>\n",
       "      <td>0.102589</td>\n",
       "    </tr>\n",
       "    <tr>\n",
       "      <th>filtered count index length</th>\n",
       "      <td>0.000018</td>\n",
       "    </tr>\n",
       "    <tr>\n",
       "      <th>filtered mean</th>\n",
       "      <td>0.146917</td>\n",
       "    </tr>\n",
       "    <tr>\n",
       "      <th>filtered standard deviation</th>\n",
       "      <td>0.490463</td>\n",
       "    </tr>\n",
       "    <tr>\n",
       "      <th>filtered mean of columns addition</th>\n",
       "      <td>0.316801</td>\n",
       "    </tr>\n",
       "    <tr>\n",
       "      <th>filtered addition of columns</th>\n",
       "      <td>0.272787</td>\n",
       "    </tr>\n",
       "    <tr>\n",
       "      <th>filtered mean of columns multiplication</th>\n",
       "      <td>0.280441</td>\n",
       "    </tr>\n",
       "    <tr>\n",
       "      <th>filtered multiplication of columns</th>\n",
       "      <td>0.253012</td>\n",
       "    </tr>\n",
       "    <tr>\n",
       "      <th>filtered value counts</th>\n",
       "      <td>0.318610</td>\n",
       "    </tr>\n",
       "    <tr>\n",
       "      <th>filtered groupby statistics</th>\n",
       "      <td>1.530502</td>\n",
       "    </tr>\n",
       "    <tr>\n",
       "      <th>filtered join count</th>\n",
       "      <td>0.232923</td>\n",
       "    </tr>\n",
       "    <tr>\n",
       "      <th>filtered join</th>\n",
       "      <td>0.233110</td>\n",
       "    </tr>\n",
       "  </tbody>\n",
       "</table>\n",
       "</div>"
      ]
     },
     "metadata": {
      "application/vnd.databricks.v1+output": {
       "addedWidgets": {},
       "arguments": {},
       "data": "<div>\n<style scoped>\n    .dataframe tbody tr th:only-of-type {\n        vertical-align: middle;\n    }\n\n    .dataframe tbody tr th {\n        vertical-align: top;\n    }\n\n    .dataframe thead th {\n        text-align: right;\n    }\n</style>\n<table border=\"1\" class=\"dataframe\">\n  <thead>\n    <tr style=\"text-align: right;\">\n      <th></th>\n      <th>duration</th>\n    </tr>\n    <tr>\n      <th>task</th>\n      <th></th>\n    </tr>\n  </thead>\n  <tbody>\n    <tr>\n      <th>count</th>\n      <td>0.000022</td>\n    </tr>\n    <tr>\n      <th>count index length</th>\n      <td>0.000010</td>\n    </tr>\n    <tr>\n      <th>mean</th>\n      <td>0.087582</td>\n    </tr>\n    <tr>\n      <th>standard deviation</th>\n      <td>0.664778</td>\n    </tr>\n    <tr>\n      <th>mean of columns addition</th>\n      <td>0.137009</td>\n    </tr>\n    <tr>\n      <th>addition of columns</th>\n      <td>0.109664</td>\n    </tr>\n    <tr>\n      <th>mean of columns multiplication</th>\n      <td>0.140141</td>\n    </tr>\n    <tr>\n      <th>multiplication of columns</th>\n      <td>0.112850</td>\n    </tr>\n    <tr>\n      <th>value counts</th>\n      <td>0.345517</td>\n    </tr>\n    <tr>\n      <th>groupby statistics</th>\n      <td>1.550595</td>\n    </tr>\n    <tr>\n      <th>join count</th>\n      <td>0.257406</td>\n    </tr>\n    <tr>\n      <th>join</th>\n      <td>0.235806</td>\n    </tr>\n    <tr>\n      <th>filtered count</th>\n      <td>0.102589</td>\n    </tr>\n    <tr>\n      <th>filtered count index length</th>\n      <td>0.000018</td>\n    </tr>\n    <tr>\n      <th>filtered mean</th>\n      <td>0.146917</td>\n    </tr>\n    <tr>\n      <th>filtered standard deviation</th>\n      <td>0.490463</td>\n    </tr>\n    <tr>\n      <th>filtered mean of columns addition</th>\n      <td>0.316801</td>\n    </tr>\n    <tr>\n      <th>filtered addition of columns</th>\n      <td>0.272787</td>\n    </tr>\n    <tr>\n      <th>filtered mean of columns multiplication</th>\n      <td>0.280441</td>\n    </tr>\n    <tr>\n      <th>filtered multiplication of columns</th>\n      <td>0.253012</td>\n    </tr>\n    <tr>\n      <th>filtered value counts</th>\n      <td>0.318610</td>\n    </tr>\n    <tr>\n      <th>filtered groupby statistics</th>\n      <td>1.530502</td>\n    </tr>\n    <tr>\n      <th>filtered join count</th>\n      <td>0.232923</td>\n    </tr>\n    <tr>\n      <th>filtered join</th>\n      <td>0.233110</td>\n    </tr>\n  </tbody>\n</table>\n</div>",
       "datasetInfos": [],
       "metadata": {},
       "removedWidgets": [],
       "textData": null,
       "type": "htmlSandbox"
      }
     },
     "output_type": "display_data"
    }
   ],
   "source": [
    "vaex_res_temp = get_results(vaex_benchmarks).set_index('task')\n",
    "vaex_res_temp"
   ]
  },
  {
   "cell_type": "code",
   "execution_count": 0,
   "metadata": {
    "application/vnd.databricks.v1+cell": {
     "cellMetadata": {
      "byteLimit": 2048000,
      "rowLimit": 10000
     },
     "inputWidgets": {},
     "nuid": "ab2fca86-6a88-474e-a370-e5f215041c59",
     "showTitle": false,
     "title": ""
    }
   },
   "outputs": [],
   "source": []
  },
  {
   "cell_type": "code",
   "execution_count": 0,
   "metadata": {
    "application/vnd.databricks.v1+cell": {
     "cellMetadata": {
      "byteLimit": 2048000,
      "rowLimit": 10000
     },
     "inputWidgets": {},
     "nuid": "553dd689-c155-4eac-a619-9f20571529ed",
     "showTitle": false,
     "title": ""
    }
   },
   "outputs": [],
   "source": []
  }
 ],
 "metadata": {
  "application/vnd.databricks.v1+notebook": {
   "dashboards": [],
   "environmentMetadata": null,
   "language": "python",
   "notebookMetadata": {
    "pythonIndentUnit": 4
   },
   "notebookName": "Vaex",
   "widgets": {}
  }
 },
 "nbformat": 4,
 "nbformat_minor": 0
}
