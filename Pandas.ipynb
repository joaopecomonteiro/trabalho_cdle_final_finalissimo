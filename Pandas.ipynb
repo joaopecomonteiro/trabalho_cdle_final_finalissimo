{
 "cells": [
  {
   "cell_type": "code",
   "execution_count": 0,
   "metadata": {
    "application/vnd.databricks.v1+cell": {
     "cellMetadata": {
      "byteLimit": 2048000,
      "rowLimit": 10000
     },
     "inputWidgets": {},
     "nuid": "47d67c10-e767-47cd-9d8c-88a1ea7648d5",
     "showTitle": false,
     "title": ""
    }
   },
   "outputs": [],
   "source": [
    "from pyspark.sql import SparkSession\n",
    "\n",
    "# Create a Spark session\n",
    "spark = SparkSession.builder \\\n",
    "    .appName(\"YourAppName\") \\\n",
    "    .getOrCreate()"
   ]
  },
  {
   "cell_type": "code",
   "execution_count": 0,
   "metadata": {
    "application/vnd.databricks.v1+cell": {
     "cellMetadata": {
      "byteLimit": 2048000,
      "rowLimit": 10000
     },
     "inputWidgets": {},
     "nuid": "b5bb1a30-c021-4a1d-870a-fad8e04e05b0",
     "showTitle": false,
     "title": ""
    }
   },
   "outputs": [
    {
     "output_type": "stream",
     "name": "stdout",
     "output_type": "stream",
     "text": [
      "spark.databricks.io.cache.enabled is false\n"
     ]
    }
   ],
   "source": [
    "spark.conf.set(\"spark.databricks.io.cache.enabled\", \"false\")\n",
    "print(\"spark.databricks.io.cache.enabled is %s\" % spark.conf.get(\"spark.databricks.io.cache.enabled\"))"
   ]
  },
  {
   "cell_type": "code",
   "execution_count": 0,
   "metadata": {
    "application/vnd.databricks.v1+cell": {
     "cellMetadata": {
      "byteLimit": 2048000,
      "rowLimit": 10000
     },
     "inputWidgets": {},
     "nuid": "8ad45452-09a6-44db-993a-61d6d227e806",
     "showTitle": false,
     "title": ""
    }
   },
   "outputs": [
    {
     "output_type": "stream",
     "name": "stdout",
     "output_type": "stream",
     "text": [
      "Python interpreter will be restarted.\nRequirement already satisfied: pandas in /databricks/python3/lib/python3.9/site-packages (1.4.2)\nRequirement already satisfied: python-dateutil>=2.8.1 in /databricks/python3/lib/python3.9/site-packages (from pandas) (2.8.2)\nRequirement already satisfied: pytz>=2020.1 in /databricks/python3/lib/python3.9/site-packages (from pandas) (2021.3)\nRequirement already satisfied: numpy>=1.18.5 in /databricks/python3/lib/python3.9/site-packages (from pandas) (1.21.5)\nRequirement already satisfied: six>=1.5 in /databricks/python3/lib/python3.9/site-packages (from python-dateutil>=2.8.1->pandas) (1.16.0)\nPython interpreter will be restarted.\n"
     ]
    }
   ],
   "source": [
    "%pip install pandas"
   ]
  },
  {
   "cell_type": "code",
   "execution_count": 0,
   "metadata": {
    "application/vnd.databricks.v1+cell": {
     "cellMetadata": {
      "byteLimit": 2048000,
      "rowLimit": 10000
     },
     "inputWidgets": {},
     "nuid": "989bf8f7-910f-46b1-92eb-78e8fb76ecad",
     "showTitle": false,
     "title": ""
    }
   },
   "outputs": [
    {
     "output_type": "display_data",
     "data": {
      "application/vnd.databricks.v1+bamboolib_hint": "{\"pd.DataFrames\": [], \"version\": \"0.0.1\"}",
      "text/plain": []
     },
     "metadata": {},
     "output_type": "display_data"
    },
    {
     "output_type": "stream",
     "name": "stdout",
     "output_type": "stream",
     "text": [
      "pandas version: 1.4.2\nnumpy version: 1.21.5\npyarrow version: 7.0.0\npyspark version: 3.3.2.dev0\n"
     ]
    }
   ],
   "source": [
    "import pandas as pd\n",
    "import numpy as np\n",
    "#import databricks.koalas as ks\n",
    "# import dask.dataframe as dd\n",
    "# from dask.distributed import Client, LocalCluster\n",
    "\n",
    "print('pandas version: %s' % pd.__version__)\n",
    "\n",
    "print('numpy version: %s' % np.__version__)\n",
    "\n",
    "#print('koalas version: %s' % ks.__version__)\n",
    "\n",
    "# import dask\n",
    "# print('dask version: %s' % dask.__version__)\n",
    "\n",
    "import pyarrow\n",
    "print('pyarrow version: %s' % pyarrow.__version__)\n",
    "\n",
    "import pyspark\n",
    "print('pyspark version: %s' % pyspark.__version__)\n",
    "\n",
    "\n",
    "import time\n",
    "\n",
    "def benchmark(f, df, benchmarks, name, **kwargs):\n",
    "    \"\"\"Benchmark the given function against the given DataFrame.\n",
    "    \n",
    "    Parameters\n",
    "    ----------\n",
    "    f: function to benchmark\n",
    "    df: data frame\n",
    "    benchmarks: container for benchmark results\n",
    "    name: task name\n",
    "    \n",
    "    Returns\n",
    "    -------\n",
    "    Duration (in seconds) of the given operation\n",
    "    \"\"\"\n",
    "    start_time = time.time()\n",
    "    ret = f(df, **kwargs)\n",
    "    benchmarks['duration'].append(time.time() - start_time)\n",
    "    benchmarks['task'].append(name)\n",
    "    print(f\"{name} took: {benchmarks['duration'][-1]} seconds\")\n",
    "    return benchmarks['duration'][-1]\n",
    "\n",
    "def get_results(benchmarks):\n",
    "    \"\"\"Return a pandas DataFrame containing benchmark results.\"\"\"\n",
    "    return pd.DataFrame.from_dict(benchmarks)"
   ]
  },
  {
   "cell_type": "code",
   "execution_count": 0,
   "metadata": {
    "application/vnd.databricks.v1+cell": {
     "cellMetadata": {
      "byteLimit": 2048000,
      "rowLimit": 10000
     },
     "inputWidgets": {},
     "nuid": "b1d16d56-63b2-4921-ae08-c735227da893",
     "showTitle": false,
     "title": ""
    }
   },
   "outputs": [],
   "source": [
    "# file_path = \"/FileStore/tables/yellow_trip_5_months.parquet\"\n",
    "# #pandas_data = pd.read_parquet(file_path, engine=\"pyarrow\")\n",
    "# pandas_data = spark.read.format('parquet').options(header='true').load(file_path).toPandas()\n",
    "\n",
    "filenames = [f\"/FileStore/tables/yellow_tripdata_2023_0{i}.parquet\" for i in range(1, 6)]\n",
    "\n",
    "dfs = []\n",
    "for filename in filenames:\n",
    "    # df = pd.read_parquet(filename)\n",
    "    df = spark.read.format('parquet').options(header='true').load(filename).toPandas()\n",
    "\n",
    "    if 'airport_fee' in df.columns:\n",
    "        df.rename(columns={'airport_fee': 'Airport_fee'}, inplace=True)\n",
    "\n",
    "    dfs.append(df)\n",
    "\n",
    "pandas_data = pd.concat(dfs)"
   ]
  },
  {
   "cell_type": "code",
   "execution_count": 0,
   "metadata": {
    "application/vnd.databricks.v1+cell": {
     "cellMetadata": {
      "byteLimit": 2048000,
      "rowLimit": 10000
     },
     "inputWidgets": {},
     "nuid": "fe2c7532-e35d-435c-b976-7da4337e25e5",
     "showTitle": false,
     "title": ""
    }
   },
   "outputs": [
    {
     "output_type": "stream",
     "name": "stdout",
     "output_type": "stream",
     "text": [
      "Out[3]: 16186386"
     ]
    }
   ],
   "source": [
    "len(pandas_data)"
   ]
  },
  {
   "cell_type": "code",
   "execution_count": 0,
   "metadata": {
    "application/vnd.databricks.v1+cell": {
     "cellMetadata": {
      "byteLimit": 2048000,
      "rowLimit": 10000
     },
     "inputWidgets": {},
     "nuid": "d8ec6f4e-cd62-419d-8bd7-2816653d463c",
     "showTitle": false,
     "title": ""
    }
   },
   "outputs": [],
   "source": [
    "pandas_benchmarks = {\n",
    "    'duration': [],  # in seconds\n",
    "    'task': [],\n",
    "}"
   ]
  },
  {
   "cell_type": "code",
   "execution_count": 0,
   "metadata": {
    "application/vnd.databricks.v1+cell": {
     "cellMetadata": {
      "byteLimit": 2048000,
      "rowLimit": 10000
     },
     "inputWidgets": {},
     "nuid": "9a610bed-4c5a-4e49-b684-5f223d08a6b6",
     "showTitle": false,
     "title": ""
    }
   },
   "outputs": [],
   "source": [
    "def read_file_parquet():\n",
    "    return pd.read_parquet(\"/FileStore/tables/yellow_tripdata_2023_01.parquet\")\n",
    "\n",
    "def count(df):\n",
    "    return len(df)\n",
    "\n",
    "def count_index_length(df):\n",
    "    return len(df.index)\n",
    "\n",
    "def mean(df):\n",
    "    return df['fare_amount'].mean()\n",
    "\n",
    "def standard_deviation(df):\n",
    "    return df['fare_amount'].std()\n",
    "\n",
    "def mean_of_sum(df):\n",
    "    return (df['fare_amount'] + df['tip_amount']).mean()\n",
    "\n",
    "def sum_columns(df):\n",
    "    return (df['fare_amount'] + df['tip_amount'])\n",
    "\n",
    "def mean_of_product(df):\n",
    "    return (df['fare_amount'] * df['tip_amount']).mean()\n",
    "\n",
    "def product_columns(df):\n",
    "    return (df['fare_amount'] * df['tip_amount'])\n",
    "\n",
    "def value_counts(df):\n",
    "    return df['fare_amount'].value_counts()\n",
    "\n",
    "def mean_of_complicated_arithmetic_operation(df):\n",
    "    theta_1 = df['start_lon']\n",
    "    phi_1 = df['start_lat']\n",
    "    theta_2 = df['end_lon']\n",
    "    phi_2 = df['end_lat']\n",
    "    temp = (np.sin((theta_2-theta_1)/2*np.pi/180)**2 +\n",
    "            np.cos(theta_1*np.pi/180) * np.cos(theta_2*np.pi/180) * np.sin((phi_2-phi_1)/2*np.pi/180)**2)\n",
    "    ret = 2 * np.arctan2(np.sqrt(temp), np.sqrt(1-temp))\n",
    "    return ret.mean()\n",
    "\n",
    "def complicated_arithmetic_operation(df):\n",
    "    theta_1 = df['start_lon']\n",
    "    phi_1 = df['start_lat']\n",
    "    theta_2 = df['end_lon']\n",
    "    phi_2 = df['end_lat']\n",
    "    temp = (np.sin((theta_2-theta_1)/2*np.pi/180)**2 +\n",
    "            np.cos(theta_1*np.pi/180) * np.cos(theta_2*np.pi/180) * np.sin((phi_2-phi_1)/2*np.pi/180)**2)\n",
    "    ret = 2 * np.arctan2(np.sqrt(temp), np.sqrt(1-temp))\n",
    "    return ret\n",
    "\n",
    "def groupby_statistics(df):\n",
    "    result = df.groupby('passenger_count').agg(\n",
    "        fare_amount_mean=('fare_amount', 'mean'),\n",
    "        fare_amount_std=('fare_amount', 'std'),\n",
    "        tip_amount_mean=('tip_amount', 'mean'),\n",
    "        tip_amount_std=('tip_amount', 'std')\n",
    "    )\n",
    "    return result\n",
    "\n",
    "other = groupby_statistics(pandas_data)\n",
    "other.columns = pd.Index([e[0]+'_' + e[1] for e in other.columns.tolist()])\n",
    "\n",
    "def join_count(df, other):\n",
    "    return len(pd.merge(df, other, left_index=True, right_index=True))\n",
    "\n",
    "def join_data(df, other):\n",
    "    return pd.merge(df, other, left_index=True, right_index=True)"
   ]
  },
  {
   "cell_type": "code",
   "execution_count": 0,
   "metadata": {
    "application/vnd.databricks.v1+cell": {
     "cellMetadata": {
      "byteLimit": 2048000,
      "rowLimit": 10000
     },
     "inputWidgets": {},
     "nuid": "7c57236b-f190-478e-8f08-ba4e9c14e4ec",
     "showTitle": false,
     "title": ""
    }
   },
   "outputs": [
    {
     "output_type": "stream",
     "name": "stdout",
     "output_type": "stream",
     "text": [
      "count took: 1.6927719116210938e-05 seconds\ncount index length took: 4.291534423828125e-06 seconds\nmean took: 0.05816507339477539 seconds\nstandard deviation took: 0.28049516677856445 seconds\nmean of columns addition took: 0.1558833122253418 seconds\naddition of columns took: 0.10033392906188965 seconds\nmean of columns multiplication took: 0.21300697326660156 seconds\nmultiplication of columns took: 0.1038217544555664 seconds\nvalue counts took: 0.30960917472839355 seconds\ngroupby statistics took: 0.8211417198181152 seconds\njoin count took: 12.740142107009888 seconds\njoin took: 12.573515892028809 seconds\nOut[30]: 12.573515892028809"
     ]
    }
   ],
   "source": [
    "#benchmark(read_file_parquet, df=None, benchmarks=dask_benchmarks, name='read file')\n",
    "benchmark(count, df=pandas_data, benchmarks=pandas_benchmarks, name='count')\n",
    "benchmark(count_index_length, df=pandas_data, benchmarks=pandas_benchmarks, name='count index length')\n",
    "benchmark(mean, df=pandas_data, benchmarks=pandas_benchmarks, name='mean')\n",
    "benchmark(standard_deviation, df=pandas_data, benchmarks=pandas_benchmarks, name='standard deviation')\n",
    "benchmark(mean_of_sum, df=pandas_data, benchmarks=pandas_benchmarks, name='mean of columns addition')\n",
    "benchmark(sum_columns, df=pandas_data, benchmarks=pandas_benchmarks, name='addition of columns')\n",
    "benchmark(mean_of_product, df=pandas_data, benchmarks=pandas_benchmarks, name='mean of columns multiplication')\n",
    "benchmark(product_columns, df=pandas_data, benchmarks=pandas_benchmarks, name='multiplication of columns')\n",
    "benchmark(value_counts, df=pandas_data, benchmarks=pandas_benchmarks, name='value counts')\n",
    "# No column for this\n",
    "# benchmark(mean_of_complicated_arithmetic_operation, df=dask_data, benchmarks=dask_benchmarks, name='mean of complex arithmetic ops')\n",
    "# benchmark(complicated_arithmetic_operation, df=dask_data, benchmarks=dask_benchmarks, name='complex arithmetic ops')\n",
    "benchmark(groupby_statistics, df=pandas_data, benchmarks=pandas_benchmarks, name='groupby statistics')\n",
    "benchmark(join_count, pandas_data, benchmarks=pandas_benchmarks, name='join count', other=other)\n",
    "benchmark(join_data, pandas_data, benchmarks=pandas_benchmarks, name='join', other=other) # cant join"
   ]
  },
  {
   "cell_type": "markdown",
   "metadata": {
    "application/vnd.databricks.v1+cell": {
     "cellMetadata": {
      "byteLimit": 2048000,
      "rowLimit": 10000
     },
     "inputWidgets": {},
     "nuid": "7113c00b-e32d-4c21-b185-00cb657a4d50",
     "showTitle": false,
     "title": ""
    }
   },
   "source": [
    "Operations with filtering"
   ]
  },
  {
   "cell_type": "code",
   "execution_count": 0,
   "metadata": {
    "application/vnd.databricks.v1+cell": {
     "cellMetadata": {
      "byteLimit": 2048000,
      "rowLimit": 10000
     },
     "inputWidgets": {},
     "nuid": "c0b05ae9-a8dd-40e9-a019-f230e5044dc1",
     "showTitle": false,
     "title": ""
    }
   },
   "outputs": [],
   "source": [
    "expr_filter = (pandas_data.tip_amount >= 1) & (pandas_data.tip_amount <= 5)\n",
    "\n",
    "def filter_data(df):\n",
    "    return df[expr_filter]\n",
    "  \n",
    "pandas_filtered = filter_data(pandas_data)"
   ]
  },
  {
   "cell_type": "code",
   "execution_count": 0,
   "metadata": {
    "application/vnd.databricks.v1+cell": {
     "cellMetadata": {
      "byteLimit": 2048000,
      "rowLimit": 10000
     },
     "inputWidgets": {},
     "nuid": "8d8f07d1-4359-44df-846b-b6433e7508e1",
     "showTitle": false,
     "title": ""
    }
   },
   "outputs": [
    {
     "output_type": "stream",
     "name": "stdout",
     "output_type": "stream",
     "text": [
      "filtered count took: 1.7642974853515625e-05 seconds\nfiltered count index length took: 6.9141387939453125e-06 seconds\nfiltered mean took: 0.041527509689331055 seconds\nfiltered standard deviation took: 0.17178559303283691 seconds\nfiltered mean of columns addition took: 0.09397411346435547 seconds\nfiltered addition of columns took: 0.053003549575805664 seconds\nfiltered mean of columns multiplication took: 0.09032726287841797 seconds\nfiltered multiplication of columns took: 0.05256795883178711 seconds\nfiltered value counts took: 0.1658189296722412 seconds\nfiltered groupby statistics took: 0.5288252830505371 seconds\nfiltered join count took: 13.635059356689453 seconds\nfiltered join took: 12.19971776008606 seconds\nOut[32]: 12.19971776008606"
     ]
    }
   ],
   "source": [
    "benchmark(count, pandas_filtered, benchmarks=pandas_benchmarks, name='filtered count')\n",
    "benchmark(count_index_length, pandas_filtered, benchmarks=pandas_benchmarks, name='filtered count index length')\n",
    "benchmark(mean, pandas_filtered, benchmarks=pandas_benchmarks, name='filtered mean')\n",
    "benchmark(standard_deviation, pandas_filtered, benchmarks=pandas_benchmarks, name='filtered standard deviation')\n",
    "benchmark(mean_of_sum, pandas_filtered, benchmarks=pandas_benchmarks, name ='filtered mean of columns addition')\n",
    "benchmark(sum_columns, df=pandas_filtered, benchmarks=pandas_benchmarks, name='filtered addition of columns')\n",
    "benchmark(mean_of_product, pandas_filtered, benchmarks=pandas_benchmarks, name ='filtered mean of columns multiplication')\n",
    "benchmark(product_columns, df=pandas_filtered, benchmarks=pandas_benchmarks, name='filtered multiplication of columns')\n",
    "#benchmark(mean_of_complicated_arithmetic_operation, dask_filtered, benchmarks=dask_benchmarks, name='filtered mean of complex arithmetic ops')\n",
    "#benchmark(complicated_arithmetic_operation, dask_filtered, benchmarks=dask_benchmarks, name='filtered complex arithmetic ops')\n",
    "benchmark(value_counts, pandas_filtered, benchmarks=pandas_benchmarks, name ='filtered value counts')\n",
    "benchmark(groupby_statistics, pandas_filtered, benchmarks=pandas_benchmarks, name='filtered groupby statistics')\n",
    "\n",
    "other = groupby_statistics(pandas_filtered)\n",
    "other.columns = pd.Index([e[0]+'_' + e[1] for e in other.columns.tolist()])\n",
    "\n",
    "benchmark(join_count, pandas_filtered, benchmarks=pandas_benchmarks, name='filtered join count', other=other)\n",
    "benchmark(join_data, pandas_filtered, benchmarks=pandas_benchmarks, name='filtered join', other=other)"
   ]
  },
  {
   "cell_type": "code",
   "execution_count": 0,
   "metadata": {
    "application/vnd.databricks.v1+cell": {
     "cellMetadata": {
      "byteLimit": 2048000,
      "rowLimit": 10000
     },
     "inputWidgets": {},
     "nuid": "ff5c0d1f-e34f-480e-be10-3c3cb7e33f99",
     "showTitle": false,
     "title": ""
    }
   },
   "outputs": [
    {
     "output_type": "display_data",
     "data": {
      "text/html": [
       "<div>\n",
       "<style scoped>\n",
       "    .dataframe tbody tr th:only-of-type {\n",
       "        vertical-align: middle;\n",
       "    }\n",
       "\n",
       "    .dataframe tbody tr th {\n",
       "        vertical-align: top;\n",
       "    }\n",
       "\n",
       "    .dataframe thead th {\n",
       "        text-align: right;\n",
       "    }\n",
       "</style>\n",
       "<table border=\"1\" class=\"dataframe\">\n",
       "  <thead>\n",
       "    <tr style=\"text-align: right;\">\n",
       "      <th></th>\n",
       "      <th>duration</th>\n",
       "    </tr>\n",
       "    <tr>\n",
       "      <th>task</th>\n",
       "      <th></th>\n",
       "    </tr>\n",
       "  </thead>\n",
       "  <tbody>\n",
       "    <tr>\n",
       "      <th>count</th>\n",
       "      <td>0.000017</td>\n",
       "    </tr>\n",
       "    <tr>\n",
       "      <th>count index length</th>\n",
       "      <td>0.000004</td>\n",
       "    </tr>\n",
       "    <tr>\n",
       "      <th>mean</th>\n",
       "      <td>0.058165</td>\n",
       "    </tr>\n",
       "    <tr>\n",
       "      <th>standard deviation</th>\n",
       "      <td>0.280495</td>\n",
       "    </tr>\n",
       "    <tr>\n",
       "      <th>mean of columns addition</th>\n",
       "      <td>0.155883</td>\n",
       "    </tr>\n",
       "    <tr>\n",
       "      <th>addition of columns</th>\n",
       "      <td>0.100334</td>\n",
       "    </tr>\n",
       "    <tr>\n",
       "      <th>mean of columns multiplication</th>\n",
       "      <td>0.213007</td>\n",
       "    </tr>\n",
       "    <tr>\n",
       "      <th>multiplication of columns</th>\n",
       "      <td>0.103822</td>\n",
       "    </tr>\n",
       "    <tr>\n",
       "      <th>value counts</th>\n",
       "      <td>0.309609</td>\n",
       "    </tr>\n",
       "    <tr>\n",
       "      <th>groupby statistics</th>\n",
       "      <td>0.821142</td>\n",
       "    </tr>\n",
       "    <tr>\n",
       "      <th>join count</th>\n",
       "      <td>12.740142</td>\n",
       "    </tr>\n",
       "    <tr>\n",
       "      <th>join</th>\n",
       "      <td>12.573516</td>\n",
       "    </tr>\n",
       "    <tr>\n",
       "      <th>filtered count</th>\n",
       "      <td>0.000018</td>\n",
       "    </tr>\n",
       "    <tr>\n",
       "      <th>filtered count index length</th>\n",
       "      <td>0.000007</td>\n",
       "    </tr>\n",
       "    <tr>\n",
       "      <th>filtered mean</th>\n",
       "      <td>0.041528</td>\n",
       "    </tr>\n",
       "    <tr>\n",
       "      <th>filtered standard deviation</th>\n",
       "      <td>0.171786</td>\n",
       "    </tr>\n",
       "    <tr>\n",
       "      <th>filtered mean of columns addition</th>\n",
       "      <td>0.093974</td>\n",
       "    </tr>\n",
       "    <tr>\n",
       "      <th>filtered addition of columns</th>\n",
       "      <td>0.053004</td>\n",
       "    </tr>\n",
       "    <tr>\n",
       "      <th>filtered mean of columns multiplication</th>\n",
       "      <td>0.090327</td>\n",
       "    </tr>\n",
       "    <tr>\n",
       "      <th>filtered multiplication of columns</th>\n",
       "      <td>0.052568</td>\n",
       "    </tr>\n",
       "    <tr>\n",
       "      <th>filtered value counts</th>\n",
       "      <td>0.165819</td>\n",
       "    </tr>\n",
       "    <tr>\n",
       "      <th>filtered groupby statistics</th>\n",
       "      <td>0.528825</td>\n",
       "    </tr>\n",
       "    <tr>\n",
       "      <th>filtered join count</th>\n",
       "      <td>13.635059</td>\n",
       "    </tr>\n",
       "    <tr>\n",
       "      <th>filtered join</th>\n",
       "      <td>12.199718</td>\n",
       "    </tr>\n",
       "  </tbody>\n",
       "</table>\n",
       "</div>"
      ]
     },
     "metadata": {
      "application/vnd.databricks.v1+output": {
       "addedWidgets": {},
       "arguments": {},
       "data": "<div>\n<style scoped>\n    .dataframe tbody tr th:only-of-type {\n        vertical-align: middle;\n    }\n\n    .dataframe tbody tr th {\n        vertical-align: top;\n    }\n\n    .dataframe thead th {\n        text-align: right;\n    }\n</style>\n<table border=\"1\" class=\"dataframe\">\n  <thead>\n    <tr style=\"text-align: right;\">\n      <th></th>\n      <th>duration</th>\n    </tr>\n    <tr>\n      <th>task</th>\n      <th></th>\n    </tr>\n  </thead>\n  <tbody>\n    <tr>\n      <th>count</th>\n      <td>0.000017</td>\n    </tr>\n    <tr>\n      <th>count index length</th>\n      <td>0.000004</td>\n    </tr>\n    <tr>\n      <th>mean</th>\n      <td>0.058165</td>\n    </tr>\n    <tr>\n      <th>standard deviation</th>\n      <td>0.280495</td>\n    </tr>\n    <tr>\n      <th>mean of columns addition</th>\n      <td>0.155883</td>\n    </tr>\n    <tr>\n      <th>addition of columns</th>\n      <td>0.100334</td>\n    </tr>\n    <tr>\n      <th>mean of columns multiplication</th>\n      <td>0.213007</td>\n    </tr>\n    <tr>\n      <th>multiplication of columns</th>\n      <td>0.103822</td>\n    </tr>\n    <tr>\n      <th>value counts</th>\n      <td>0.309609</td>\n    </tr>\n    <tr>\n      <th>groupby statistics</th>\n      <td>0.821142</td>\n    </tr>\n    <tr>\n      <th>join count</th>\n      <td>12.740142</td>\n    </tr>\n    <tr>\n      <th>join</th>\n      <td>12.573516</td>\n    </tr>\n    <tr>\n      <th>filtered count</th>\n      <td>0.000018</td>\n    </tr>\n    <tr>\n      <th>filtered count index length</th>\n      <td>0.000007</td>\n    </tr>\n    <tr>\n      <th>filtered mean</th>\n      <td>0.041528</td>\n    </tr>\n    <tr>\n      <th>filtered standard deviation</th>\n      <td>0.171786</td>\n    </tr>\n    <tr>\n      <th>filtered mean of columns addition</th>\n      <td>0.093974</td>\n    </tr>\n    <tr>\n      <th>filtered addition of columns</th>\n      <td>0.053004</td>\n    </tr>\n    <tr>\n      <th>filtered mean of columns multiplication</th>\n      <td>0.090327</td>\n    </tr>\n    <tr>\n      <th>filtered multiplication of columns</th>\n      <td>0.052568</td>\n    </tr>\n    <tr>\n      <th>filtered value counts</th>\n      <td>0.165819</td>\n    </tr>\n    <tr>\n      <th>filtered groupby statistics</th>\n      <td>0.528825</td>\n    </tr>\n    <tr>\n      <th>filtered join count</th>\n      <td>13.635059</td>\n    </tr>\n    <tr>\n      <th>filtered join</th>\n      <td>12.199718</td>\n    </tr>\n  </tbody>\n</table>\n</div>",
       "datasetInfos": [],
       "metadata": {},
       "removedWidgets": [],
       "textData": null,
       "type": "htmlSandbox"
      }
     },
     "output_type": "display_data"
    }
   ],
   "source": [
    "pandas_res_temp = get_results(pandas_benchmarks).set_index('task')\n",
    "pandas_res_temp"
   ]
  },
  {
   "cell_type": "code",
   "execution_count": 0,
   "metadata": {
    "application/vnd.databricks.v1+cell": {
     "cellMetadata": {
      "byteLimit": 2048000,
      "rowLimit": 10000
     },
     "inputWidgets": {},
     "nuid": "84a627ab-138e-45ae-8d18-7c226c9d7a14",
     "showTitle": false,
     "title": ""
    }
   },
   "outputs": [],
   "source": []
  },
  {
   "cell_type": "code",
   "execution_count": 0,
   "metadata": {
    "application/vnd.databricks.v1+cell": {
     "cellMetadata": {
      "byteLimit": 2048000,
      "rowLimit": 10000
     },
     "inputWidgets": {},
     "nuid": "d9e39508-46d5-46d3-ba8d-c8b2f8e90a7c",
     "showTitle": false,
     "title": ""
    }
   },
   "outputs": [],
   "source": []
  }
 ],
 "metadata": {
  "application/vnd.databricks.v1+notebook": {
   "dashboards": [],
   "environmentMetadata": null,
   "language": "python",
   "notebookMetadata": {
    "pythonIndentUnit": 4
   },
   "notebookName": "Pandas",
   "widgets": {}
  }
 },
 "nbformat": 4,
 "nbformat_minor": 0
}
