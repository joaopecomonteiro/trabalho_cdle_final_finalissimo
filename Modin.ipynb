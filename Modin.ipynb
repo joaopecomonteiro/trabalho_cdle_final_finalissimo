{
 "cells": [
  {
   "cell_type": "code",
   "execution_count": 0,
   "metadata": {
    "application/vnd.databricks.v1+cell": {
     "cellMetadata": {
      "byteLimit": 2048000,
      "rowLimit": 10000
     },
     "inputWidgets": {},
     "nuid": "0696b7d7-ec22-4fd9-96eb-cfa9c7f72ca2",
     "showTitle": false,
     "title": ""
    }
   },
   "outputs": [],
   "source": [
    "from pyspark.sql import SparkSession\n",
    "\n",
    "# Create a Spark session\n",
    "spark = SparkSession.builder \\\n",
    "    .appName(\"YourAppName\") \\\n",
    "    .getOrCreate()"
   ]
  },
  {
   "cell_type": "code",
   "execution_count": 0,
   "metadata": {
    "application/vnd.databricks.v1+cell": {
     "cellMetadata": {
      "byteLimit": 2048000,
      "rowLimit": 10000
     },
     "inputWidgets": {},
     "nuid": "c9131f65-2773-4805-95ba-b53dd45159b1",
     "showTitle": false,
     "title": ""
    }
   },
   "outputs": [
    {
     "output_type": "stream",
     "name": "stdout",
     "output_type": "stream",
     "text": [
      "spark.databricks.io.cache.enabled is false\n"
     ]
    }
   ],
   "source": [
    "spark.conf.set(\"spark.databricks.io.cache.enabled\", \"false\")\n",
    "print(\"spark.databricks.io.cache.enabled is %s\" % spark.conf.get(\"spark.databricks.io.cache.enabled\"))"
   ]
  },
  {
   "cell_type": "code",
   "execution_count": 0,
   "metadata": {
    "application/vnd.databricks.v1+cell": {
     "cellMetadata": {
      "byteLimit": 2048000,
      "rowLimit": 10000
     },
     "inputWidgets": {},
     "nuid": "511250bc-10cc-4215-aae4-5e691b4e7e5f",
     "showTitle": false,
     "title": ""
    }
   },
   "outputs": [
    {
     "output_type": "stream",
     "name": "stdout",
     "output_type": "stream",
     "text": [
      "Python interpreter will be restarted.\nCollecting modin[dask]\n  Downloading modin-0.30.0-py3-none-any.whl (1.2 MB)\nRequirement already satisfied: psutil>=5.8.0 in /databricks/python3/lib/python3.9/site-packages (from modin[dask]) (5.8.0)\nCollecting pandas<2.3,>=2.2\n  Downloading pandas-2.2.2-cp39-cp39-manylinux_2_17_x86_64.manylinux2014_x86_64.whl (13.1 MB)\nRequirement already satisfied: packaging>=21.0 in /databricks/python3/lib/python3.9/site-packages (from modin[dask]) (21.3)\nCollecting numpy>=1.22.4\n  Downloading numpy-1.26.4-cp39-cp39-manylinux_2_17_x86_64.manylinux2014_x86_64.whl (18.2 MB)\nCollecting fsspec>=2022.11.0\n  Downloading fsspec-2024.6.0-py3-none-any.whl (176 kB)\nCollecting dask>=2.22.0\n  Downloading dask-2024.5.2-py3-none-any.whl (1.2 MB)\nCollecting distributed>=2.22.0\n  Downloading distributed-2024.5.2-py3-none-any.whl (1.0 MB)\nCollecting toolz>=0.10.0\n  Downloading toolz-0.12.1-py3-none-any.whl (56 kB)\nCollecting importlib-metadata>=4.13.0\n  Downloading importlib_metadata-7.1.0-py3-none-any.whl (24 kB)\nCollecting click>=8.1\n  Downloading click-8.1.7-py3-none-any.whl (97 kB)\nCollecting partd>=1.2.0\n  Downloading partd-1.4.2-py3-none-any.whl (18 kB)\nCollecting cloudpickle>=1.5.0\n  Downloading cloudpickle-3.0.0-py3-none-any.whl (20 kB)\nCollecting pyyaml>=5.3.1\n  Downloading PyYAML-6.0.1-cp39-cp39-manylinux_2_17_x86_64.manylinux2014_x86_64.whl (738 kB)\nCollecting msgpack>=1.0.0\n  Downloading msgpack-1.0.8-cp39-cp39-manylinux_2_17_x86_64.manylinux2014_x86_64.whl (385 kB)\nCollecting locket>=1.0.0\n  Downloading locket-1.0.0-py2.py3-none-any.whl (4.4 kB)\nCollecting tblib>=1.6.0\n  Downloading tblib-3.0.0-py3-none-any.whl (12 kB)\nRequirement already satisfied: jinja2>=2.10.3 in /databricks/python3/lib/python3.9/site-packages (from distributed>=2.22.0->modin[dask]) (2.11.3)\nRequirement already satisfied: tornado>=6.0.4 in /databricks/python3/lib/python3.9/site-packages (from distributed>=2.22.0->modin[dask]) (6.1)\nRequirement already satisfied: urllib3>=1.24.3 in /databricks/python3/lib/python3.9/site-packages (from distributed>=2.22.0->modin[dask]) (1.26.9)\nCollecting zict>=3.0.0\n  Downloading zict-3.0.0-py2.py3-none-any.whl (43 kB)\nCollecting sortedcontainers>=2.0.5\n  Downloading sortedcontainers-2.4.0-py2.py3-none-any.whl (29 kB)\nCollecting zipp>=0.5\n  Downloading zipp-3.19.1-py3-none-any.whl (9.0 kB)\nRequirement already satisfied: MarkupSafe>=0.23 in /databricks/python3/lib/python3.9/site-packages (from jinja2>=2.10.3->distributed>=2.22.0->modin[dask]) (2.0.1)\nRequirement already satisfied: pyparsing!=3.0.5,>=2.0.2 in /databricks/python3/lib/python3.9/site-packages (from packaging>=21.0->modin[dask]) (3.0.4)\nRequirement already satisfied: python-dateutil>=2.8.2 in /databricks/python3/lib/python3.9/site-packages (from pandas<2.3,>=2.2->modin[dask]) (2.8.2)\nCollecting tzdata>=2022.7\n  Downloading tzdata-2024.1-py2.py3-none-any.whl (345 kB)\nRequirement already satisfied: pytz>=2020.1 in /databricks/python3/lib/python3.9/site-packages (from pandas<2.3,>=2.2->modin[dask]) (2021.3)\nRequirement already satisfied: six>=1.5 in /databricks/python3/lib/python3.9/site-packages (from python-dateutil>=2.8.2->pandas<2.3,>=2.2->modin[dask]) (1.16.0)\nInstalling collected packages: zipp, toolz, locket, tzdata, pyyaml, partd, numpy, importlib-metadata, fsspec, cloudpickle, click, zict, tblib, sortedcontainers, pandas, msgpack, dask, modin, distributed\n  Attempting uninstall: numpy\n    Found existing installation: numpy 1.21.5\n    Not uninstalling numpy at /databricks/python3/lib/python3.9/site-packages, outside environment /local_disk0/.ephemeral_nfs/envs/pythonEnv-2466eb6e-f2a8-4bbb-ac0b-53f4efcb61b6\n    Can't uninstall 'numpy'. No files were found to uninstall.\n  Attempting uninstall: click\n    Found existing installation: click 8.0.4\n    Not uninstalling click at /databricks/python3/lib/python3.9/site-packages, outside environment /local_disk0/.ephemeral_nfs/envs/pythonEnv-2466eb6e-f2a8-4bbb-ac0b-53f4efcb61b6\n    Can't uninstall 'click'. No files were found to uninstall.\n  Attempting uninstall: pandas\n    Found existing installation: pandas 1.4.2\n    Not uninstalling pandas at /databricks/python3/lib/python3.9/site-packages, outside environment /local_disk0/.ephemeral_nfs/envs/pythonEnv-2466eb6e-f2a8-4bbb-ac0b-53f4efcb61b6\n    Can't uninstall 'pandas'. No files were found to uninstall.\nERROR: pip's dependency resolver does not currently take into account all the packages that are installed. This behaviour is the source of the following dependency conflicts.\nscipy 1.7.3 requires numpy<1.23.0,>=1.16.5, but you have numpy 1.26.4 which is incompatible.\nSuccessfully installed click-8.1.7 cloudpickle-3.0.0 dask-2024.5.2 distributed-2024.5.2 fsspec-2024.6.0 importlib-metadata-7.1.0 locket-1.0.0 modin-0.30.0 msgpack-1.0.8 numpy-1.26.4 pandas-2.2.2 partd-1.4.2 pyyaml-6.0.1 sortedcontainers-2.4.0 tblib-3.0.0 toolz-0.12.1 tzdata-2024.1 zict-3.0.0 zipp-3.19.1\nPython interpreter will be restarted.\n"
     ]
    }
   ],
   "source": [
    "%pip install modin[dask]"
   ]
  },
  {
   "cell_type": "code",
   "execution_count": 0,
   "metadata": {
    "application/vnd.databricks.v1+cell": {
     "cellMetadata": {
      "byteLimit": 2048000,
      "rowLimit": 10000
     },
     "inputWidgets": {},
     "nuid": "2e144e1f-e927-4ce9-9a28-92571eee5fb7",
     "showTitle": false,
     "title": ""
    }
   },
   "outputs": [
    {
     "output_type": "display_data",
     "data": {
      "application/vnd.databricks.v1+bamboolib_hint": "{\"pd.DataFrames\": [], \"version\": \"0.0.1\"}",
      "text/plain": []
     },
     "metadata": {},
     "output_type": "display_data"
    },
    {
     "output_type": "stream",
     "name": "stdout",
     "output_type": "stream",
     "text": [
      "pandas version: 2.2.2\nnumpy version: 1.26.4\nmodin pandas version: 0.30.0\njoblib version: 1.1.1\npyarrow version: 7.0.0\npyspark version: 3.3.2.dev0\n"
     ]
    }
   ],
   "source": [
    "import pandas\n",
    "import numpy as np\n",
    "\n",
    "import modin.pandas as pd\n",
    "import joblib\n",
    "\n",
    "#import databricks.koalas as ks\n",
    "# import dask.dataframe as dd\n",
    "# from dask.distributed import Client, LocalCluster\n",
    "\n",
    "print('pandas version: %s' % pandas.__version__)\n",
    "\n",
    "print('numpy version: %s' % np.__version__)\n",
    "\n",
    "print('modin pandas version: %s' % pd.__version__)\n",
    "\n",
    "print('joblib version: %s' % joblib.__version__)\n",
    "\n",
    "#print('koalas version: %s' % ks.__version__)\n",
    "\n",
    "# import dask\n",
    "# print('dask version: %s' % dask.__version__)\n",
    "\n",
    "import pyarrow\n",
    "print('pyarrow version: %s' % pyarrow.__version__)\n",
    "\n",
    "import pyspark\n",
    "print('pyspark version: %s' % pyspark.__version__)\n",
    "\n",
    "\n",
    "import time\n",
    "\n",
    "def benchmark(f, df, benchmarks, name, **kwargs):\n",
    "    \"\"\"Benchmark the given function against the given DataFrame.\n",
    "    \n",
    "    Parameters\n",
    "    ----------\n",
    "    f: function to benchmark\n",
    "    df: data frame\n",
    "    benchmarks: container for benchmark results\n",
    "    name: task name\n",
    "    \n",
    "    Returns\n",
    "    -------\n",
    "    Duration (in seconds) of the given operation\n",
    "    \"\"\"\n",
    "    start_time = time.time()\n",
    "    ret = f(df, **kwargs)\n",
    "    benchmarks['duration'].append(time.time() - start_time)\n",
    "    benchmarks['task'].append(name)\n",
    "    print(f\"{name} took: {benchmarks['duration'][-1]} seconds\")\n",
    "    return benchmarks['duration'][-1]\n",
    "\n",
    "def get_results(benchmarks):\n",
    "    \"\"\"Return a pandas DataFrame containing benchmark results.\"\"\"\n",
    "    return pd.DataFrame.from_dict(benchmarks)"
   ]
  },
  {
   "cell_type": "code",
   "execution_count": 0,
   "metadata": {
    "application/vnd.databricks.v1+cell": {
     "cellMetadata": {
      "byteLimit": 2048000,
      "rowLimit": 10000
     },
     "inputWidgets": {},
     "nuid": "5a5a043d-5ec6-4838-aea5-eb683b6ce5bb",
     "showTitle": false,
     "title": ""
    }
   },
   "outputs": [],
   "source": [
    "filenames = [f\"/FileStore/tables/yellow_tripdata_2023_0{i}.parquet\" for i in range(1, 4)]\n",
    "\n",
    "dfs = []\n",
    "for filename in filenames:\n",
    "    # df = pd.read_parquet(filename)\n",
    "    df = spark.read.format('parquet').options(header='true').load(filename).toPandas()\n",
    "\n",
    "    if 'airport_fee' in df.columns:\n",
    "        df.rename(columns={'airport_fee': 'Airport_fee'}, inplace=True)\n",
    "    # df_dask = dd.from_pandas(df, npartitions=3)\n",
    "\n",
    "    dfs.append(df)\n",
    "\n",
    "pandas_data = pandas.concat(dfs, ignore_index=True)\n",
    "# dask_data = dd.concat(dfs)\n"
   ]
  },
  {
   "cell_type": "code",
   "execution_count": 0,
   "metadata": {
    "application/vnd.databricks.v1+cell": {
     "cellMetadata": {
      "byteLimit": 2048000,
      "rowLimit": 10000
     },
     "inputWidgets": {},
     "nuid": "87368881-ace8-4db2-9477-7a922dc61621",
     "showTitle": false,
     "title": ""
    }
   },
   "outputs": [
    {
     "output_type": "stream",
     "name": "stderr",
     "output_type": "stream",
     "text": [
      "UserWarning: Distributing <class 'pandas.core.frame.DataFrame'> object. This may take some time.\n"
     ]
    }
   ],
   "source": [
    "modin_data = pd.DataFrame(pandas_data)\n"
   ]
  },
  {
   "cell_type": "code",
   "execution_count": 0,
   "metadata": {
    "application/vnd.databricks.v1+cell": {
     "cellMetadata": {
      "byteLimit": 2048000,
      "rowLimit": 10000
     },
     "inputWidgets": {},
     "nuid": "30e51425-8495-4674-aabb-ab94e9227133",
     "showTitle": false,
     "title": ""
    }
   },
   "outputs": [
    {
     "output_type": "stream",
     "name": "stdout",
     "output_type": "stream",
     "text": [
      "Out[55]: 9384487"
     ]
    }
   ],
   "source": [
    "len(modin_data)"
   ]
  },
  {
   "cell_type": "code",
   "execution_count": 0,
   "metadata": {
    "application/vnd.databricks.v1+cell": {
     "cellMetadata": {
      "byteLimit": 2048000,
      "rowLimit": 10000
     },
     "inputWidgets": {},
     "nuid": "8f5941b1-42c0-4d41-b0fd-fe8c5209d9a6",
     "showTitle": false,
     "title": ""
    }
   },
   "outputs": [],
   "source": [
    "modin_benchmarks = {\n",
    "    'duration': [],  # in seconds\n",
    "    'task': [],\n",
    "}\n",
    "# modin_data.head()\n"
   ]
  },
  {
   "cell_type": "code",
   "execution_count": 0,
   "metadata": {
    "application/vnd.databricks.v1+cell": {
     "cellMetadata": {
      "byteLimit": 2048000,
      "rowLimit": 10000
     },
     "inputWidgets": {},
     "nuid": "f23c9ce5-2981-4ccc-9464-8f1c03943370",
     "showTitle": false,
     "title": ""
    }
   },
   "outputs": [],
   "source": [
    "\n",
    "def read_file_parquet():\n",
    "    return pd.read_parquet(\"/FileStore/tables/yellow_tripdata_2023_01.parquet\")\n",
    "\n",
    "def count(df):\n",
    "    return len(df)\n",
    "\n",
    "def count_index_length(df):\n",
    "    return len(df.index)\n",
    "\n",
    "def mean(df):\n",
    "    return df['fare_amount'].mean()\n",
    "\n",
    "def standard_deviation(df):\n",
    "    return df['fare_amount'].std()\n",
    "\n",
    "def mean_of_sum(df):\n",
    "    return (df['fare_amount'] + df['tip_amount']).mean()\n",
    "\n",
    "def sum_columns(df):\n",
    "    return (df['fare_amount'] + df['tip_amount'])\n",
    "\n",
    "def mean_of_product(df):\n",
    "    return (df['fare_amount'] * df['tip_amount']).mean()\n",
    "\n",
    "def product_columns(df):\n",
    "    return (df['fare_amount'] * df['tip_amount'])\n",
    "\n",
    "def value_counts(df):\n",
    "    return df['fare_amount'].value_counts()\n",
    "\n",
    "def mean_of_complicated_arithmetic_operation(df):\n",
    "    theta_1 = df['start_lon']\n",
    "    phi_1 = df['start_lat']\n",
    "    theta_2 = df['end_lon']\n",
    "    phi_2 = df['end_lat']\n",
    "    temp = (np.sin((theta_2-theta_1)/2*np.pi/180)**2 +\n",
    "            np.cos(theta_1*np.pi/180) * np.cos(theta_2*np.pi/180) * np.sin((phi_2-phi_1)/2*np.pi/180)**2)\n",
    "    ret = 2 * np.arctan2(np.sqrt(temp), np.sqrt(1-temp))\n",
    "    return ret.mean()\n",
    "\n",
    "def complicated_arithmetic_operation(df):\n",
    "    theta_1 = df['start_lon']\n",
    "    phi_1 = df['start_lat']\n",
    "    theta_2 = df['end_lon']\n",
    "    phi_2 = df['end_lat']\n",
    "    temp = (np.sin((theta_2-theta_1)/2*np.pi/180)**2 +\n",
    "            np.cos(theta_1*np.pi/180) * np.cos(theta_2*np.pi/180) * np.sin((phi_2-phi_1)/2*np.pi/180)**2)\n",
    "    ret = 2 * np.arctan2(np.sqrt(temp), np.sqrt(1-temp))\n",
    "    return ret\n",
    "\n",
    "def groupby_statistics(df):\n",
    "    result = df.groupby('passenger_count').agg(\n",
    "        fare_amount_mean=('fare_amount', 'mean'),\n",
    "        fare_amount_std=('fare_amount', 'std'),\n",
    "        tip_amount_mean=('tip_amount', 'mean'),\n",
    "        tip_amount_std=('tip_amount', 'std')\n",
    "    )\n",
    "    return result\n",
    "\n",
    "# print(\"here\")\n",
    "\n",
    "# other = groupby_statistics(modin_data)\n",
    "# other.columns = pd.Index([e[0]+'_' + e[1] for e in other.columns.tolist()])\n",
    "# print(\"got other\")\n",
    "\n",
    "def join_count(df, other):\n",
    "    return len(pd.merge(df, other, left_index=True, right_index=True))\n",
    "\n",
    "def join_data(df, other):\n",
    "    return pd.merge(df, other, left_index=True, right_index=True)"
   ]
  },
  {
   "cell_type": "code",
   "execution_count": 0,
   "metadata": {
    "application/vnd.databricks.v1+cell": {
     "cellMetadata": {
      "byteLimit": 2048000,
      "rowLimit": 10000
     },
     "inputWidgets": {},
     "nuid": "a2e5391e-65bc-48b3-8f5e-d729e5325a3c",
     "showTitle": false,
     "title": ""
    }
   },
   "outputs": [
    {
     "output_type": "stream",
     "name": "stdout",
     "output_type": "stream",
     "text": [
      "count took: 0.00033736228942871094 seconds\ncount index length took: 6.0558319091796875e-05 seconds\nmean took: 0.8194174766540527 seconds\nstandard deviation took: 0.8000423908233643 seconds\nmean of columns addition took: 0.6089255809783936 seconds\naddition of columns took: 0.05321240425109863 seconds\nmean of columns multiplication took: 0.6695442199707031 seconds\nmultiplication of columns took: 0.056996822357177734 seconds\nvalue counts took: 1.1715004444122314 seconds\ngroupby statistics took: 29.684000253677368 seconds\n"
     ]
    },
    {
     "output_type": "stream",
     "name": "stderr",
     "output_type": "stream",
     "text": [
      "2024-06-04 10:53:05,418 - distributed.nanny.memory - WARNING - Worker tcp://127.0.0.1:38969 (pid=1343) exceeded 95% memory budget. Restarting...\n2024-06-04 10:53:05,739 - distributed.scheduler - WARNING - Removing worker 'tcp://127.0.0.1:38969' caused the cluster to lose already computed task(s), which will be recomputed elsewhere: {'lambda-dbae35f5b7ed299b57deb78e1ddbdb31', 'lambda-156495ce9489af07797441112da42feb', 'lambda-101dc42e28d06b98ab1d4b311719e821', 'lambda-3414597a19dc54eb383a63dd1b727808', 'lambda-5de0a94b3431314ea96be7064f906591', 'lambda-523346897801c5667f245a8ff317166a', 'lambda-fa63204a87f7e5a716e085a074ca6ec6', 'lambda-e454a17d3d02d6b531331344105fc96a', 'lambda-05b0bad4016810cb0bae9236f4b4d602', 'lambda-c7955ec774c8aaf29f24b6ca35827f0d'} (stimulus_id='handle-worker-cleanup-1717498385.7378814')\n2024-06-04 10:53:05,741 - distributed.scheduler - ERROR - Removing worker 'tcp://127.0.0.1:38969' caused the cluster to lose scattered data, which can't be recovered: {'DataFrame-0bfbf566b422436cabc5355440a9e05a', 'function-32cedd6f52c742d482b3b603c4d0c982', 'DataFrame-7c53b1d9abce48ad8ea0fd2c39d8e470', 'DataFrame-07c0318c2d0741d6a0fbd4e7c1f53ef2', 'DataFrame-243dac3a471e448797b00f56cf9d289a', 'DataFrame-ce803fc0c69c4bc4a38d325c57b27cf6', 'DataFrame-b524aaa1f0164cfb8c3efb1c485af382', 'DataFrame-ed8a8fb1333549a08c15fa5855313935'} (stimulus_id='handle-worker-cleanup-1717498385.7378814')\n2024-06-04 10:53:05,766 - distributed.nanny - WARNING - Restarting worker\n"
     ]
    },
    {
     "output_type": "display_data",
     "data": {
      "text/plain": [
       "\u001B[0;31m---------------------------------------------------------------------------\u001B[0m\n",
       "\u001B[0;31mCancelledError\u001B[0m                            Traceback (most recent call last)\n",
       "File \u001B[0;32m<command-1433832980640726>:15\u001B[0m\n",
       "\u001B[1;32m     11\u001B[0m \u001B[38;5;66;03m# No column for this\u001B[39;00m\n",
       "\u001B[1;32m     12\u001B[0m \u001B[38;5;66;03m# benchmark(mean_of_complicated_arithmetic_operation, df=dask_data, benchmarks=dask_benchmarks, name='mean of complex arithmetic ops')\u001B[39;00m\n",
       "\u001B[1;32m     13\u001B[0m \u001B[38;5;66;03m# benchmark(complicated_arithmetic_operation, df=dask_data, benchmarks=dask_benchmarks, name='complex arithmetic ops')\u001B[39;00m\n",
       "\u001B[1;32m     14\u001B[0m benchmark(groupby_statistics, df\u001B[38;5;241m=\u001B[39mmodin_data, benchmarks\u001B[38;5;241m=\u001B[39mmodin_benchmarks, name\u001B[38;5;241m=\u001B[39m\u001B[38;5;124m'\u001B[39m\u001B[38;5;124mgroupby statistics\u001B[39m\u001B[38;5;124m'\u001B[39m)\n",
       "\u001B[0;32m---> 15\u001B[0m other \u001B[38;5;241m=\u001B[39m groupby_statistics(modin_data)\n",
       "\u001B[1;32m     16\u001B[0m other\u001B[38;5;241m.\u001B[39mcolumns \u001B[38;5;241m=\u001B[39m pd\u001B[38;5;241m.\u001B[39mIndex([e[\u001B[38;5;241m0\u001B[39m]\u001B[38;5;241m+\u001B[39m\u001B[38;5;124m'\u001B[39m\u001B[38;5;124m_\u001B[39m\u001B[38;5;124m'\u001B[39m \u001B[38;5;241m+\u001B[39m e[\u001B[38;5;241m1\u001B[39m] \u001B[38;5;28;01mfor\u001B[39;00m e \u001B[38;5;129;01min\u001B[39;00m other\u001B[38;5;241m.\u001B[39mcolumns\u001B[38;5;241m.\u001B[39mtolist()])\n",
       "\u001B[1;32m     17\u001B[0m benchmark(join_count, modin_data, benchmarks\u001B[38;5;241m=\u001B[39mmodin_benchmarks, name\u001B[38;5;241m=\u001B[39m\u001B[38;5;124m'\u001B[39m\u001B[38;5;124mjoin count\u001B[39m\u001B[38;5;124m'\u001B[39m, other\u001B[38;5;241m=\u001B[39mother)\n",
       "\n",
       "File \u001B[0;32m<command-1433832980640725>:52\u001B[0m, in \u001B[0;36mgroupby_statistics\u001B[0;34m(df)\u001B[0m\n",
       "\u001B[1;32m     51\u001B[0m \u001B[38;5;28;01mdef\u001B[39;00m \u001B[38;5;21mgroupby_statistics\u001B[39m(df):\n",
       "\u001B[0;32m---> 52\u001B[0m     result \u001B[38;5;241m=\u001B[39m \u001B[43mdf\u001B[49m\u001B[38;5;241;43m.\u001B[39;49m\u001B[43mgroupby\u001B[49m\u001B[43m(\u001B[49m\u001B[38;5;124;43m'\u001B[39;49m\u001B[38;5;124;43mpassenger_count\u001B[39;49m\u001B[38;5;124;43m'\u001B[39;49m\u001B[43m)\u001B[49m\u001B[38;5;241;43m.\u001B[39;49m\u001B[43magg\u001B[49m\u001B[43m(\u001B[49m\n",
       "\u001B[1;32m     53\u001B[0m \u001B[43m        \u001B[49m\u001B[43mfare_amount_mean\u001B[49m\u001B[38;5;241;43m=\u001B[39;49m\u001B[43m(\u001B[49m\u001B[38;5;124;43m'\u001B[39;49m\u001B[38;5;124;43mfare_amount\u001B[39;49m\u001B[38;5;124;43m'\u001B[39;49m\u001B[43m,\u001B[49m\u001B[43m \u001B[49m\u001B[38;5;124;43m'\u001B[39;49m\u001B[38;5;124;43mmean\u001B[39;49m\u001B[38;5;124;43m'\u001B[39;49m\u001B[43m)\u001B[49m\u001B[43m,\u001B[49m\n",
       "\u001B[1;32m     54\u001B[0m \u001B[43m        \u001B[49m\u001B[43mfare_amount_std\u001B[49m\u001B[38;5;241;43m=\u001B[39;49m\u001B[43m(\u001B[49m\u001B[38;5;124;43m'\u001B[39;49m\u001B[38;5;124;43mfare_amount\u001B[39;49m\u001B[38;5;124;43m'\u001B[39;49m\u001B[43m,\u001B[49m\u001B[43m \u001B[49m\u001B[38;5;124;43m'\u001B[39;49m\u001B[38;5;124;43mstd\u001B[39;49m\u001B[38;5;124;43m'\u001B[39;49m\u001B[43m)\u001B[49m\u001B[43m,\u001B[49m\n",
       "\u001B[1;32m     55\u001B[0m \u001B[43m        \u001B[49m\u001B[43mtip_amount_mean\u001B[49m\u001B[38;5;241;43m=\u001B[39;49m\u001B[43m(\u001B[49m\u001B[38;5;124;43m'\u001B[39;49m\u001B[38;5;124;43mtip_amount\u001B[39;49m\u001B[38;5;124;43m'\u001B[39;49m\u001B[43m,\u001B[49m\u001B[43m \u001B[49m\u001B[38;5;124;43m'\u001B[39;49m\u001B[38;5;124;43mmean\u001B[39;49m\u001B[38;5;124;43m'\u001B[39;49m\u001B[43m)\u001B[49m\u001B[43m,\u001B[49m\n",
       "\u001B[1;32m     56\u001B[0m \u001B[43m        \u001B[49m\u001B[43mtip_amount_std\u001B[49m\u001B[38;5;241;43m=\u001B[39;49m\u001B[43m(\u001B[49m\u001B[38;5;124;43m'\u001B[39;49m\u001B[38;5;124;43mtip_amount\u001B[39;49m\u001B[38;5;124;43m'\u001B[39;49m\u001B[43m,\u001B[49m\u001B[43m \u001B[49m\u001B[38;5;124;43m'\u001B[39;49m\u001B[38;5;124;43mstd\u001B[39;49m\u001B[38;5;124;43m'\u001B[39;49m\u001B[43m)\u001B[49m\n",
       "\u001B[1;32m     57\u001B[0m \u001B[43m    \u001B[49m\u001B[43m)\u001B[49m\n",
       "\u001B[1;32m     58\u001B[0m     \u001B[38;5;28;01mreturn\u001B[39;00m result\n",
       "\n",
       "File \u001B[0;32m/local_disk0/.ephemeral_nfs/envs/pythonEnv-2466eb6e-f2a8-4bbb-ac0b-53f4efcb61b6/lib/python3.9/site-packages/modin/logging/logger_decorator.py:125\u001B[0m, in \u001B[0;36menable_logging.<locals>.decorator.<locals>.run_and_log\u001B[0;34m(*args, **kwargs)\u001B[0m\n",
       "\u001B[1;32m    110\u001B[0m \u001B[38;5;124;03m\"\"\"\u001B[39;00m\n",
       "\u001B[1;32m    111\u001B[0m \u001B[38;5;124;03mCompute function with logging if Modin logging is enabled.\u001B[39;00m\n",
       "\u001B[1;32m    112\u001B[0m \n",
       "\u001B[0;32m   (...)\u001B[0m\n",
       "\u001B[1;32m    122\u001B[0m \u001B[38;5;124;03mAny\u001B[39;00m\n",
       "\u001B[1;32m    123\u001B[0m \u001B[38;5;124;03m\"\"\"\u001B[39;00m\n",
       "\u001B[1;32m    124\u001B[0m \u001B[38;5;28;01mif\u001B[39;00m LogMode\u001B[38;5;241m.\u001B[39mget() \u001B[38;5;241m==\u001B[39m \u001B[38;5;124m\"\u001B[39m\u001B[38;5;124mdisable\u001B[39m\u001B[38;5;124m\"\u001B[39m:\n",
       "\u001B[0;32m--> 125\u001B[0m     \u001B[38;5;28;01mreturn\u001B[39;00m \u001B[43mobj\u001B[49m\u001B[43m(\u001B[49m\u001B[38;5;241;43m*\u001B[39;49m\u001B[43margs\u001B[49m\u001B[43m,\u001B[49m\u001B[43m \u001B[49m\u001B[38;5;241;43m*\u001B[39;49m\u001B[38;5;241;43m*\u001B[39;49m\u001B[43mkwargs\u001B[49m\u001B[43m)\u001B[49m\n",
       "\u001B[1;32m    127\u001B[0m logger \u001B[38;5;241m=\u001B[39m get_logger()\n",
       "\u001B[1;32m    128\u001B[0m logger\u001B[38;5;241m.\u001B[39mlog(log_level, start_line)\n",
       "\n",
       "File \u001B[0;32m/local_disk0/.ephemeral_nfs/envs/pythonEnv-2466eb6e-f2a8-4bbb-ac0b-53f4efcb61b6/lib/python3.9/site-packages/modin/pandas/groupby.py:989\u001B[0m, in \u001B[0;36mDataFrameGroupBy.aggregate\u001B[0;34m(self, func, engine, engine_kwargs, *args, **kwargs)\u001B[0m\n",
       "\u001B[1;32m    986\u001B[0m     \u001B[38;5;28;01mif\u001B[39;00m callable(agg_func):\n",
       "\u001B[1;32m    987\u001B[0m         \u001B[38;5;28;01mreturn\u001B[39;00m agg_func(\u001B[38;5;241m*\u001B[39margs, \u001B[38;5;241m*\u001B[39m\u001B[38;5;241m*\u001B[39mkwargs)\n",
       "\u001B[0;32m--> 989\u001B[0m result \u001B[38;5;241m=\u001B[39m \u001B[38;5;28;43mself\u001B[39;49m\u001B[38;5;241;43m.\u001B[39;49m\u001B[43m_wrap_aggregation\u001B[49m\u001B[43m(\u001B[49m\n",
       "\u001B[1;32m    990\u001B[0m \u001B[43m    \u001B[49m\u001B[43mqc_method\u001B[49m\u001B[38;5;241;43m=\u001B[39;49m\u001B[38;5;28;43mtype\u001B[39;49m\u001B[43m(\u001B[49m\u001B[38;5;28;43mself\u001B[39;49m\u001B[38;5;241;43m.\u001B[39;49m\u001B[43m_query_compiler\u001B[49m\u001B[43m)\u001B[49m\u001B[38;5;241;43m.\u001B[39;49m\u001B[43mgroupby_agg\u001B[49m\u001B[43m,\u001B[49m\n",
       "\u001B[1;32m    991\u001B[0m \u001B[43m    \u001B[49m\u001B[43mnumeric_only\u001B[49m\u001B[38;5;241;43m=\u001B[39;49m\u001B[38;5;28;43;01mFalse\u001B[39;49;00m\u001B[43m,\u001B[49m\n",
       "\u001B[1;32m    992\u001B[0m \u001B[43m    \u001B[49m\u001B[43magg_func\u001B[49m\u001B[38;5;241;43m=\u001B[39;49m\u001B[43mfunc\u001B[49m\u001B[43m,\u001B[49m\n",
       "\u001B[1;32m    993\u001B[0m \u001B[43m    \u001B[49m\u001B[43magg_args\u001B[49m\u001B[38;5;241;43m=\u001B[39;49m\u001B[43margs\u001B[49m\u001B[43m,\u001B[49m\n",
       "\u001B[1;32m    994\u001B[0m \u001B[43m    \u001B[49m\u001B[43magg_kwargs\u001B[49m\u001B[38;5;241;43m=\u001B[39;49m\u001B[43mkwargs\u001B[49m\u001B[43m,\u001B[49m\n",
       "\u001B[1;32m    995\u001B[0m \u001B[43m    \u001B[49m\u001B[43mhow\u001B[49m\u001B[38;5;241;43m=\u001B[39;49m\u001B[38;5;124;43m\"\u001B[39;49m\u001B[38;5;124;43maxis_wise\u001B[39;49m\u001B[38;5;124;43m\"\u001B[39;49m\u001B[43m,\u001B[49m\n",
       "\u001B[1;32m    996\u001B[0m \u001B[43m\u001B[49m\u001B[43m)\u001B[49m\n",
       "\u001B[1;32m    997\u001B[0m \u001B[38;5;28;01mreturn\u001B[39;00m do_relabel(result) \u001B[38;5;28;01mif\u001B[39;00m do_relabel \u001B[38;5;28;01melse\u001B[39;00m result\n",
       "\n",
       "File \u001B[0;32m/local_disk0/.ephemeral_nfs/envs/pythonEnv-2466eb6e-f2a8-4bbb-ac0b-53f4efcb61b6/lib/python3.9/site-packages/modin/logging/logger_decorator.py:125\u001B[0m, in \u001B[0;36menable_logging.<locals>.decorator.<locals>.run_and_log\u001B[0;34m(*args, **kwargs)\u001B[0m\n",
       "\u001B[1;32m    110\u001B[0m \u001B[38;5;124;03m\"\"\"\u001B[39;00m\n",
       "\u001B[1;32m    111\u001B[0m \u001B[38;5;124;03mCompute function with logging if Modin logging is enabled.\u001B[39;00m\n",
       "\u001B[1;32m    112\u001B[0m \n",
       "\u001B[0;32m   (...)\u001B[0m\n",
       "\u001B[1;32m    122\u001B[0m \u001B[38;5;124;03mAny\u001B[39;00m\n",
       "\u001B[1;32m    123\u001B[0m \u001B[38;5;124;03m\"\"\"\u001B[39;00m\n",
       "\u001B[1;32m    124\u001B[0m \u001B[38;5;28;01mif\u001B[39;00m LogMode\u001B[38;5;241m.\u001B[39mget() \u001B[38;5;241m==\u001B[39m \u001B[38;5;124m\"\u001B[39m\u001B[38;5;124mdisable\u001B[39m\u001B[38;5;124m\"\u001B[39m:\n",
       "\u001B[0;32m--> 125\u001B[0m     \u001B[38;5;28;01mreturn\u001B[39;00m \u001B[43mobj\u001B[49m\u001B[43m(\u001B[49m\u001B[38;5;241;43m*\u001B[39;49m\u001B[43margs\u001B[49m\u001B[43m,\u001B[49m\u001B[43m \u001B[49m\u001B[38;5;241;43m*\u001B[39;49m\u001B[38;5;241;43m*\u001B[39;49m\u001B[43mkwargs\u001B[49m\u001B[43m)\u001B[49m\n",
       "\u001B[1;32m    127\u001B[0m logger \u001B[38;5;241m=\u001B[39m get_logger()\n",
       "\u001B[1;32m    128\u001B[0m logger\u001B[38;5;241m.\u001B[39mlog(log_level, start_line)\n",
       "\n",
       "File \u001B[0;32m/local_disk0/.ephemeral_nfs/envs/pythonEnv-2466eb6e-f2a8-4bbb-ac0b-53f4efcb61b6/lib/python3.9/site-packages/modin/pandas/groupby.py:1646\u001B[0m, in \u001B[0;36mDataFrameGroupBy._wrap_aggregation\u001B[0;34m(self, qc_method, numeric_only, agg_args, agg_kwargs, **kwargs)\u001B[0m\n",
       "\u001B[1;32m   1642\u001B[0m \u001B[38;5;28;01melse\u001B[39;00m:\n",
       "\u001B[1;32m   1643\u001B[0m     groupby_qc \u001B[38;5;241m=\u001B[39m \u001B[38;5;28mself\u001B[39m\u001B[38;5;241m.\u001B[39m_query_compiler\n",
       "\u001B[1;32m   1645\u001B[0m \u001B[38;5;28;01mreturn\u001B[39;00m \u001B[38;5;28mtype\u001B[39m(\u001B[38;5;28mself\u001B[39m\u001B[38;5;241m.\u001B[39m_df)(\n",
       "\u001B[0;32m-> 1646\u001B[0m     query_compiler\u001B[38;5;241m=\u001B[39m\u001B[43mqc_method\u001B[49m\u001B[43m(\u001B[49m\n",
       "\u001B[1;32m   1647\u001B[0m \u001B[43m        \u001B[49m\u001B[43mgroupby_qc\u001B[49m\u001B[43m,\u001B[49m\n",
       "\u001B[1;32m   1648\u001B[0m \u001B[43m        \u001B[49m\u001B[43mby\u001B[49m\u001B[38;5;241;43m=\u001B[39;49m\u001B[38;5;28;43mself\u001B[39;49m\u001B[38;5;241;43m.\u001B[39;49m\u001B[43m_by\u001B[49m\u001B[43m,\u001B[49m\n",
       "\u001B[1;32m   1649\u001B[0m \u001B[43m        \u001B[49m\u001B[43maxis\u001B[49m\u001B[38;5;241;43m=\u001B[39;49m\u001B[38;5;28;43mself\u001B[39;49m\u001B[38;5;241;43m.\u001B[39;49m\u001B[43m_axis\u001B[49m\u001B[43m,\u001B[49m\n",
       "\u001B[1;32m   1650\u001B[0m \u001B[43m        \u001B[49m\u001B[43mgroupby_kwargs\u001B[49m\u001B[38;5;241;43m=\u001B[39;49m\u001B[38;5;28;43mself\u001B[39;49m\u001B[38;5;241;43m.\u001B[39;49m\u001B[43m_kwargs\u001B[49m\u001B[43m,\u001B[49m\n",
       "\u001B[1;32m   1651\u001B[0m \u001B[43m        \u001B[49m\u001B[43magg_args\u001B[49m\u001B[38;5;241;43m=\u001B[39;49m\u001B[43magg_args\u001B[49m\u001B[43m,\u001B[49m\n",
       "\u001B[1;32m   1652\u001B[0m \u001B[43m        \u001B[49m\u001B[43magg_kwargs\u001B[49m\u001B[38;5;241;43m=\u001B[39;49m\u001B[43magg_kwargs\u001B[49m\u001B[43m,\u001B[49m\n",
       "\u001B[1;32m   1653\u001B[0m \u001B[43m        \u001B[49m\u001B[43mdrop\u001B[49m\u001B[38;5;241;43m=\u001B[39;49m\u001B[38;5;28;43mself\u001B[39;49m\u001B[38;5;241;43m.\u001B[39;49m\u001B[43m_drop\u001B[49m\u001B[43m,\u001B[49m\n",
       "\u001B[1;32m   1654\u001B[0m \u001B[43m        \u001B[49m\u001B[38;5;241;43m*\u001B[39;49m\u001B[38;5;241;43m*\u001B[39;49m\u001B[43mkwargs\u001B[49m\u001B[43m,\u001B[49m\n",
       "\u001B[1;32m   1655\u001B[0m \u001B[43m    \u001B[49m\u001B[43m)\u001B[49m\n",
       "\u001B[1;32m   1656\u001B[0m )\n",
       "\n",
       "File \u001B[0;32m/local_disk0/.ephemeral_nfs/envs/pythonEnv-2466eb6e-f2a8-4bbb-ac0b-53f4efcb61b6/lib/python3.9/site-packages/modin/logging/logger_decorator.py:125\u001B[0m, in \u001B[0;36menable_logging.<locals>.decorator.<locals>.run_and_log\u001B[0;34m(*args, **kwargs)\u001B[0m\n",
       "\u001B[1;32m    110\u001B[0m \u001B[38;5;124;03m\"\"\"\u001B[39;00m\n",
       "\u001B[1;32m    111\u001B[0m \u001B[38;5;124;03mCompute function with logging if Modin logging is enabled.\u001B[39;00m\n",
       "\u001B[1;32m    112\u001B[0m \n",
       "\u001B[0;32m   (...)\u001B[0m\n",
       "\u001B[1;32m    122\u001B[0m \u001B[38;5;124;03mAny\u001B[39;00m\n",
       "\u001B[1;32m    123\u001B[0m \u001B[38;5;124;03m\"\"\"\u001B[39;00m\n",
       "\u001B[1;32m    124\u001B[0m \u001B[38;5;28;01mif\u001B[39;00m LogMode\u001B[38;5;241m.\u001B[39mget() \u001B[38;5;241m==\u001B[39m \u001B[38;5;124m\"\u001B[39m\u001B[38;5;124mdisable\u001B[39m\u001B[38;5;124m\"\u001B[39m:\n",
       "\u001B[0;32m--> 125\u001B[0m     \u001B[38;5;28;01mreturn\u001B[39;00m \u001B[43mobj\u001B[49m\u001B[43m(\u001B[49m\u001B[38;5;241;43m*\u001B[39;49m\u001B[43margs\u001B[49m\u001B[43m,\u001B[49m\u001B[43m \u001B[49m\u001B[38;5;241;43m*\u001B[39;49m\u001B[38;5;241;43m*\u001B[39;49m\u001B[43mkwargs\u001B[49m\u001B[43m)\u001B[49m\n",
       "\u001B[1;32m    127\u001B[0m logger \u001B[38;5;241m=\u001B[39m get_logger()\n",
       "\u001B[1;32m    128\u001B[0m logger\u001B[38;5;241m.\u001B[39mlog(log_level, start_line)\n",
       "\n",
       "File \u001B[0;32m/local_disk0/.ephemeral_nfs/envs/pythonEnv-2466eb6e-f2a8-4bbb-ac0b-53f4efcb61b6/lib/python3.9/site-packages/modin/core/storage_formats/pandas/query_compiler.py:4359\u001B[0m, in \u001B[0;36mPandasQueryCompiler.groupby_agg\u001B[0;34m(self, by, agg_func, axis, groupby_kwargs, agg_args, agg_kwargs, how, drop, series_groupby)\u001B[0m\n",
       "\u001B[1;32m   4354\u001B[0m result \u001B[38;5;241m=\u001B[39m \u001B[38;5;28mself\u001B[39m\u001B[38;5;241m.\u001B[39m__constructor__(new_modin_frame)\n",
       "\u001B[1;32m   4356\u001B[0m \u001B[38;5;66;03m# that means that exception in `compute_groupby` was raised\u001B[39;00m\n",
       "\u001B[1;32m   4357\u001B[0m \u001B[38;5;66;03m# in every partition, so we also should raise it\u001B[39;00m\n",
       "\u001B[1;32m   4358\u001B[0m \u001B[38;5;28;01mif\u001B[39;00m (\n",
       "\u001B[0;32m-> 4359\u001B[0m     \u001B[38;5;28mlen\u001B[39m(\u001B[43mresult\u001B[49m\u001B[38;5;241;43m.\u001B[39;49m\u001B[43mcolumns\u001B[49m) \u001B[38;5;241m==\u001B[39m \u001B[38;5;241m0\u001B[39m\n",
       "\u001B[1;32m   4360\u001B[0m     \u001B[38;5;129;01mand\u001B[39;00m \u001B[38;5;28mlen\u001B[39m(\u001B[38;5;28mself\u001B[39m\u001B[38;5;241m.\u001B[39mcolumns) \u001B[38;5;241m!=\u001B[39m \u001B[38;5;241m0\u001B[39m\n",
       "\u001B[1;32m   4361\u001B[0m     \u001B[38;5;129;01mand\u001B[39;00m agg_kwargs\u001B[38;5;241m.\u001B[39mget(\u001B[38;5;124m\"\u001B[39m\u001B[38;5;124mnumeric_only\u001B[39m\u001B[38;5;124m\"\u001B[39m, \u001B[38;5;28;01mFalse\u001B[39;00m)\n",
       "\u001B[1;32m   4362\u001B[0m ):\n",
       "\u001B[1;32m   4363\u001B[0m     \u001B[38;5;28;01mraise\u001B[39;00m \u001B[38;5;167;01mTypeError\u001B[39;00m(\u001B[38;5;124m\"\u001B[39m\u001B[38;5;124mNo numeric types to aggregate.\u001B[39m\u001B[38;5;124m\"\u001B[39m)\n",
       "\u001B[1;32m   4365\u001B[0m \u001B[38;5;28;01mreturn\u001B[39;00m result\n",
       "\n",
       "File \u001B[0;32m/local_disk0/.ephemeral_nfs/envs/pythonEnv-2466eb6e-f2a8-4bbb-ac0b-53f4efcb61b6/lib/python3.9/site-packages/modin/core/storage_formats/pandas/query_compiler.py:104\u001B[0m, in \u001B[0;36m_get_axis.<locals>.<lambda>\u001B[0;34m(self)\u001B[0m\n",
       "\u001B[1;32m    102\u001B[0m     \u001B[38;5;28;01mreturn\u001B[39;00m \u001B[38;5;28;01mlambda\u001B[39;00m \u001B[38;5;28mself\u001B[39m: \u001B[38;5;28mself\u001B[39m\u001B[38;5;241m.\u001B[39m_modin_frame\u001B[38;5;241m.\u001B[39mindex\n",
       "\u001B[1;32m    103\u001B[0m \u001B[38;5;28;01melse\u001B[39;00m:\n",
       "\u001B[0;32m--> 104\u001B[0m     \u001B[38;5;28;01mreturn\u001B[39;00m \u001B[38;5;28;01mlambda\u001B[39;00m \u001B[38;5;28mself\u001B[39m: \u001B[38;5;28;43mself\u001B[39;49m\u001B[38;5;241;43m.\u001B[39;49m\u001B[43m_modin_frame\u001B[49m\u001B[38;5;241;43m.\u001B[39;49m\u001B[43mcolumns\u001B[49m\n",
       "\n",
       "File \u001B[0;32m/local_disk0/.ephemeral_nfs/envs/pythonEnv-2466eb6e-f2a8-4bbb-ac0b-53f4efcb61b6/lib/python3.9/site-packages/modin/core/dataframe/pandas/dataframe/dataframe.py:721\u001B[0m, in \u001B[0;36mPandasDataframe._get_columns\u001B[0;34m(self)\u001B[0m\n",
       "\u001B[1;32m    712\u001B[0m \u001B[38;5;124;03m\"\"\"\u001B[39;00m\n",
       "\u001B[1;32m    713\u001B[0m \u001B[38;5;124;03mGet the columns from the cache object.\u001B[39;00m\n",
       "\u001B[1;32m    714\u001B[0m \n",
       "\u001B[0;32m   (...)\u001B[0m\n",
       "\u001B[1;32m    718\u001B[0m \u001B[38;5;124;03m    An index object containing the column labels.\u001B[39;00m\n",
       "\u001B[1;32m    719\u001B[0m \u001B[38;5;124;03m\"\"\"\u001B[39;00m\n",
       "\u001B[1;32m    720\u001B[0m \u001B[38;5;28;01mif\u001B[39;00m \u001B[38;5;28mself\u001B[39m\u001B[38;5;241m.\u001B[39mhas_columns_cache:\n",
       "\u001B[0;32m--> 721\u001B[0m     columns, column_widths \u001B[38;5;241m=\u001B[39m \u001B[38;5;28;43mself\u001B[39;49m\u001B[38;5;241;43m.\u001B[39;49m\u001B[43m_columns_cache\u001B[49m\u001B[38;5;241;43m.\u001B[39;49m\u001B[43mget\u001B[49m\u001B[43m(\u001B[49m\u001B[43mreturn_lengths\u001B[49m\u001B[38;5;241;43m=\u001B[39;49m\u001B[38;5;28;43;01mTrue\u001B[39;49;00m\u001B[43m)\u001B[49m\n",
       "\u001B[1;32m    722\u001B[0m \u001B[38;5;28;01melse\u001B[39;00m:\n",
       "\u001B[1;32m    723\u001B[0m     columns, column_widths \u001B[38;5;241m=\u001B[39m \u001B[38;5;28mself\u001B[39m\u001B[38;5;241m.\u001B[39m_compute_axis_labels_and_lengths(\u001B[38;5;241m1\u001B[39m)\n",
       "\n",
       "File \u001B[0;32m/local_disk0/.ephemeral_nfs/envs/pythonEnv-2466eb6e-f2a8-4bbb-ac0b-53f4efcb61b6/lib/python3.9/site-packages/modin/core/dataframe/pandas/metadata/index.py:203\u001B[0m, in \u001B[0;36mModinIndex.get\u001B[0;34m(self, return_lengths)\u001B[0m\n",
       "\u001B[1;32m    201\u001B[0m \u001B[38;5;28;01mif\u001B[39;00m \u001B[38;5;129;01mnot\u001B[39;00m \u001B[38;5;28mself\u001B[39m\u001B[38;5;241m.\u001B[39mis_materialized:\n",
       "\u001B[1;32m    202\u001B[0m     \u001B[38;5;28;01mif\u001B[39;00m callable(\u001B[38;5;28mself\u001B[39m\u001B[38;5;241m.\u001B[39m_value):\n",
       "\u001B[0;32m--> 203\u001B[0m         index, \u001B[38;5;28mself\u001B[39m\u001B[38;5;241m.\u001B[39m_lengths_cache \u001B[38;5;241m=\u001B[39m \u001B[38;5;28;43mself\u001B[39;49m\u001B[38;5;241;43m.\u001B[39;49m\u001B[43m_value\u001B[49m\u001B[43m(\u001B[49m\u001B[43m)\u001B[49m\n",
       "\u001B[1;32m    204\u001B[0m         \u001B[38;5;28mself\u001B[39m\u001B[38;5;241m.\u001B[39m_value \u001B[38;5;241m=\u001B[39m ensure_index(index)\n",
       "\u001B[1;32m    205\u001B[0m     \u001B[38;5;28;01melif\u001B[39;00m \u001B[38;5;28mself\u001B[39m\u001B[38;5;241m.\u001B[39m_value \u001B[38;5;129;01mis\u001B[39;00m \u001B[38;5;28;01mNone\u001B[39;00m:\n",
       "\n",
       "File \u001B[0;32m/local_disk0/.ephemeral_nfs/envs/pythonEnv-2466eb6e-f2a8-4bbb-ac0b-53f4efcb61b6/lib/python3.9/site-packages/modin/logging/logger_decorator.py:125\u001B[0m, in \u001B[0;36menable_logging.<locals>.decorator.<locals>.run_and_log\u001B[0;34m(*args, **kwargs)\u001B[0m\n",
       "\u001B[1;32m    110\u001B[0m \u001B[38;5;124;03m\"\"\"\u001B[39;00m\n",
       "\u001B[1;32m    111\u001B[0m \u001B[38;5;124;03mCompute function with logging if Modin logging is enabled.\u001B[39;00m\n",
       "\u001B[1;32m    112\u001B[0m \n",
       "\u001B[0;32m   (...)\u001B[0m\n",
       "\u001B[1;32m    122\u001B[0m \u001B[38;5;124;03mAny\u001B[39;00m\n",
       "\u001B[1;32m    123\u001B[0m \u001B[38;5;124;03m\"\"\"\u001B[39;00m\n",
       "\u001B[1;32m    124\u001B[0m \u001B[38;5;28;01mif\u001B[39;00m LogMode\u001B[38;5;241m.\u001B[39mget() \u001B[38;5;241m==\u001B[39m \u001B[38;5;124m\"\u001B[39m\u001B[38;5;124mdisable\u001B[39m\u001B[38;5;124m\"\u001B[39m:\n",
       "\u001B[0;32m--> 125\u001B[0m     \u001B[38;5;28;01mreturn\u001B[39;00m \u001B[43mobj\u001B[49m\u001B[43m(\u001B[49m\u001B[38;5;241;43m*\u001B[39;49m\u001B[43margs\u001B[49m\u001B[43m,\u001B[49m\u001B[43m \u001B[49m\u001B[38;5;241;43m*\u001B[39;49m\u001B[38;5;241;43m*\u001B[39;49m\u001B[43mkwargs\u001B[49m\u001B[43m)\u001B[49m\n",
       "\u001B[1;32m    127\u001B[0m logger \u001B[38;5;241m=\u001B[39m get_logger()\n",
       "\u001B[1;32m    128\u001B[0m logger\u001B[38;5;241m.\u001B[39mlog(log_level, start_line)\n",
       "\n",
       "File \u001B[0;32m/local_disk0/.ephemeral_nfs/envs/pythonEnv-2466eb6e-f2a8-4bbb-ac0b-53f4efcb61b6/lib/python3.9/site-packages/modin/core/dataframe/pandas/dataframe/dataframe.py:829\u001B[0m, in \u001B[0;36mPandasDataframe._compute_axis_labels_and_lengths\u001B[0;34m(self, axis, partitions)\u001B[0m\n",
       "\u001B[1;32m    827\u001B[0m \u001B[38;5;28;01mif\u001B[39;00m partitions \u001B[38;5;129;01mis\u001B[39;00m \u001B[38;5;28;01mNone\u001B[39;00m:\n",
       "\u001B[1;32m    828\u001B[0m     partitions \u001B[38;5;241m=\u001B[39m \u001B[38;5;28mself\u001B[39m\u001B[38;5;241m.\u001B[39m_partitions\n",
       "\u001B[0;32m--> 829\u001B[0m new_index, internal_idx \u001B[38;5;241m=\u001B[39m \u001B[38;5;28;43mself\u001B[39;49m\u001B[38;5;241;43m.\u001B[39;49m\u001B[43m_partition_mgr_cls\u001B[49m\u001B[38;5;241;43m.\u001B[39;49m\u001B[43mget_indices\u001B[49m\u001B[43m(\u001B[49m\u001B[43maxis\u001B[49m\u001B[43m,\u001B[49m\u001B[43m \u001B[49m\u001B[43mpartitions\u001B[49m\u001B[43m)\u001B[49m\n",
       "\u001B[1;32m    830\u001B[0m \u001B[38;5;28;01mreturn\u001B[39;00m new_index, \u001B[38;5;28mlist\u001B[39m(\u001B[38;5;28mmap\u001B[39m(\u001B[38;5;28mlen\u001B[39m, internal_idx))\n",
       "\n",
       "File \u001B[0;32m/local_disk0/.ephemeral_nfs/envs/pythonEnv-2466eb6e-f2a8-4bbb-ac0b-53f4efcb61b6/lib/python3.9/site-packages/modin/logging/logger_decorator.py:125\u001B[0m, in \u001B[0;36menable_logging.<locals>.decorator.<locals>.run_and_log\u001B[0;34m(*args, **kwargs)\u001B[0m\n",
       "\u001B[1;32m    110\u001B[0m \u001B[38;5;124;03m\"\"\"\u001B[39;00m\n",
       "\u001B[1;32m    111\u001B[0m \u001B[38;5;124;03mCompute function with logging if Modin logging is enabled.\u001B[39;00m\n",
       "\u001B[1;32m    112\u001B[0m \n",
       "\u001B[0;32m   (...)\u001B[0m\n",
       "\u001B[1;32m    122\u001B[0m \u001B[38;5;124;03mAny\u001B[39;00m\n",
       "\u001B[1;32m    123\u001B[0m \u001B[38;5;124;03m\"\"\"\u001B[39;00m\n",
       "\u001B[1;32m    124\u001B[0m \u001B[38;5;28;01mif\u001B[39;00m LogMode\u001B[38;5;241m.\u001B[39mget() \u001B[38;5;241m==\u001B[39m \u001B[38;5;124m\"\u001B[39m\u001B[38;5;124mdisable\u001B[39m\u001B[38;5;124m\"\u001B[39m:\n",
       "\u001B[0;32m--> 125\u001B[0m     \u001B[38;5;28;01mreturn\u001B[39;00m \u001B[43mobj\u001B[49m\u001B[43m(\u001B[49m\u001B[38;5;241;43m*\u001B[39;49m\u001B[43margs\u001B[49m\u001B[43m,\u001B[49m\u001B[43m \u001B[49m\u001B[38;5;241;43m*\u001B[39;49m\u001B[38;5;241;43m*\u001B[39;49m\u001B[43mkwargs\u001B[49m\u001B[43m)\u001B[49m\n",
       "\u001B[1;32m    127\u001B[0m logger \u001B[38;5;241m=\u001B[39m get_logger()\n",
       "\u001B[1;32m    128\u001B[0m logger\u001B[38;5;241m.\u001B[39mlog(log_level, start_line)\n",
       "\n",
       "File \u001B[0;32m/local_disk0/.ephemeral_nfs/envs/pythonEnv-2466eb6e-f2a8-4bbb-ac0b-53f4efcb61b6/lib/python3.9/site-packages/modin/core/dataframe/pandas/partitioning/partition_manager.py:1189\u001B[0m, in \u001B[0;36mPandasDataframePartitionManager.get_indices\u001B[0;34m(cls, axis, partitions, index_func)\u001B[0m\n",
       "\u001B[1;32m   1187\u001B[0m \u001B[38;5;28;01mif\u001B[39;00m \u001B[38;5;28mlen\u001B[39m(target):\n",
       "\u001B[1;32m   1188\u001B[0m     new_idx \u001B[38;5;241m=\u001B[39m [idx\u001B[38;5;241m.\u001B[39mapply(func) \u001B[38;5;28;01mfor\u001B[39;00m idx \u001B[38;5;129;01min\u001B[39;00m target[\u001B[38;5;241m0\u001B[39m]]\n",
       "\u001B[0;32m-> 1189\u001B[0m     new_idx \u001B[38;5;241m=\u001B[39m \u001B[38;5;28;43mcls\u001B[39;49m\u001B[38;5;241;43m.\u001B[39;49m\u001B[43mget_objects_from_partitions\u001B[49m\u001B[43m(\u001B[49m\u001B[43mnew_idx\u001B[49m\u001B[43m)\u001B[49m\n",
       "\u001B[1;32m   1190\u001B[0m \u001B[38;5;28;01melse\u001B[39;00m:\n",
       "\u001B[1;32m   1191\u001B[0m     new_idx \u001B[38;5;241m=\u001B[39m [pandas\u001B[38;5;241m.\u001B[39mIndex([])]\n",
       "\n",
       "File \u001B[0;32m/local_disk0/.ephemeral_nfs/envs/pythonEnv-2466eb6e-f2a8-4bbb-ac0b-53f4efcb61b6/lib/python3.9/site-packages/modin/logging/logger_decorator.py:125\u001B[0m, in \u001B[0;36menable_logging.<locals>.decorator.<locals>.run_and_log\u001B[0;34m(*args, **kwargs)\u001B[0m\n",
       "\u001B[1;32m    110\u001B[0m \u001B[38;5;124;03m\"\"\"\u001B[39;00m\n",
       "\u001B[1;32m    111\u001B[0m \u001B[38;5;124;03mCompute function with logging if Modin logging is enabled.\u001B[39;00m\n",
       "\u001B[1;32m    112\u001B[0m \n",
       "\u001B[0;32m   (...)\u001B[0m\n",
       "\u001B[1;32m    122\u001B[0m \u001B[38;5;124;03mAny\u001B[39;00m\n",
       "\u001B[1;32m    123\u001B[0m \u001B[38;5;124;03m\"\"\"\u001B[39;00m\n",
       "\u001B[1;32m    124\u001B[0m \u001B[38;5;28;01mif\u001B[39;00m LogMode\u001B[38;5;241m.\u001B[39mget() \u001B[38;5;241m==\u001B[39m \u001B[38;5;124m\"\u001B[39m\u001B[38;5;124mdisable\u001B[39m\u001B[38;5;124m\"\u001B[39m:\n",
       "\u001B[0;32m--> 125\u001B[0m     \u001B[38;5;28;01mreturn\u001B[39;00m \u001B[43mobj\u001B[49m\u001B[43m(\u001B[49m\u001B[38;5;241;43m*\u001B[39;49m\u001B[43margs\u001B[49m\u001B[43m,\u001B[49m\u001B[43m \u001B[49m\u001B[38;5;241;43m*\u001B[39;49m\u001B[38;5;241;43m*\u001B[39;49m\u001B[43mkwargs\u001B[49m\u001B[43m)\u001B[49m\n",
       "\u001B[1;32m    127\u001B[0m logger \u001B[38;5;241m=\u001B[39m get_logger()\n",
       "\u001B[1;32m    128\u001B[0m logger\u001B[38;5;241m.\u001B[39mlog(log_level, start_line)\n",
       "\n",
       "File \u001B[0;32m/local_disk0/.ephemeral_nfs/envs/pythonEnv-2466eb6e-f2a8-4bbb-ac0b-53f4efcb61b6/lib/python3.9/site-packages/modin/core/dataframe/pandas/partitioning/partition_manager.py:1130\u001B[0m, in \u001B[0;36mPandasDataframePartitionManager.get_objects_from_partitions\u001B[0;34m(cls, partitions)\u001B[0m\n",
       "\u001B[1;32m   1126\u001B[0m             partitions[idx] \u001B[38;5;241m=\u001B[39m part\u001B[38;5;241m.\u001B[39mforce_materialization()\n",
       "\u001B[1;32m   1127\u001B[0m     \u001B[38;5;28;01massert\u001B[39;00m \u001B[38;5;28mall\u001B[39m(\n",
       "\u001B[1;32m   1128\u001B[0m         [\u001B[38;5;28mlen\u001B[39m(partition\u001B[38;5;241m.\u001B[39mlist_of_blocks) \u001B[38;5;241m==\u001B[39m \u001B[38;5;241m1\u001B[39m \u001B[38;5;28;01mfor\u001B[39;00m partition \u001B[38;5;129;01min\u001B[39;00m partitions]\n",
       "\u001B[1;32m   1129\u001B[0m     ), \u001B[38;5;124m\"\u001B[39m\u001B[38;5;124mImplementation assumes that each partition contains a single block.\u001B[39m\u001B[38;5;124m\"\u001B[39m\n",
       "\u001B[0;32m-> 1130\u001B[0m     \u001B[38;5;28;01mreturn\u001B[39;00m \u001B[38;5;28;43mcls\u001B[39;49m\u001B[38;5;241;43m.\u001B[39;49m\u001B[43m_execution_wrapper\u001B[49m\u001B[38;5;241;43m.\u001B[39;49m\u001B[43mmaterialize\u001B[49m\u001B[43m(\u001B[49m\n",
       "\u001B[1;32m   1131\u001B[0m \u001B[43m        \u001B[49m\u001B[43m[\u001B[49m\u001B[43mpartition\u001B[49m\u001B[38;5;241;43m.\u001B[39;49m\u001B[43mlist_of_blocks\u001B[49m\u001B[43m[\u001B[49m\u001B[38;5;241;43m0\u001B[39;49m\u001B[43m]\u001B[49m\u001B[43m \u001B[49m\u001B[38;5;28;43;01mfor\u001B[39;49;00m\u001B[43m \u001B[49m\u001B[43mpartition\u001B[49m\u001B[43m \u001B[49m\u001B[38;5;129;43;01min\u001B[39;49;00m\u001B[43m \u001B[49m\u001B[43mpartitions\u001B[49m\u001B[43m]\u001B[49m\n",
       "\u001B[1;32m   1132\u001B[0m \u001B[43m    \u001B[49m\u001B[43m)\u001B[49m\n",
       "\u001B[1;32m   1133\u001B[0m \u001B[38;5;28;01mreturn\u001B[39;00m [partition\u001B[38;5;241m.\u001B[39mget() \u001B[38;5;28;01mfor\u001B[39;00m partition \u001B[38;5;129;01min\u001B[39;00m partitions]\n",
       "\n",
       "File \u001B[0;32m/local_disk0/.ephemeral_nfs/envs/pythonEnv-2466eb6e-f2a8-4bbb-ac0b-53f4efcb61b6/lib/python3.9/site-packages/modin/core/execution/dask/common/engine_wrapper.py:141\u001B[0m, in \u001B[0;36mDaskWrapper.materialize\u001B[0;34m(cls, future)\u001B[0m\n",
       "\u001B[1;32m    127\u001B[0m \u001B[38;5;124;03m\"\"\"\u001B[39;00m\n",
       "\u001B[1;32m    128\u001B[0m \u001B[38;5;124;03mMaterialize data matching `future` object.\u001B[39;00m\n",
       "\u001B[1;32m    129\u001B[0m \n",
       "\u001B[0;32m   (...)\u001B[0m\n",
       "\u001B[1;32m    138\u001B[0m \u001B[38;5;124;03m    An object(s) from the distributed memory.\u001B[39;00m\n",
       "\u001B[1;32m    139\u001B[0m \u001B[38;5;124;03m\"\"\"\u001B[39;00m\n",
       "\u001B[1;32m    140\u001B[0m client \u001B[38;5;241m=\u001B[39m default_client()\n",
       "\u001B[0;32m--> 141\u001B[0m \u001B[38;5;28;01mreturn\u001B[39;00m \u001B[43mclient\u001B[49m\u001B[38;5;241;43m.\u001B[39;49m\u001B[43mgather\u001B[49m\u001B[43m(\u001B[49m\u001B[43mfuture\u001B[49m\u001B[43m)\u001B[49m\n",
       "\n",
       "File \u001B[0;32m/local_disk0/.ephemeral_nfs/envs/pythonEnv-2466eb6e-f2a8-4bbb-ac0b-53f4efcb61b6/lib/python3.9/site-packages/distributed/client.py:2374\u001B[0m, in \u001B[0;36mClient.gather\u001B[0;34m(self, futures, errors, direct, asynchronous)\u001B[0m\n",
       "\u001B[1;32m   2371\u001B[0m     local_worker \u001B[38;5;241m=\u001B[39m \u001B[38;5;28;01mNone\u001B[39;00m\n",
       "\u001B[1;32m   2373\u001B[0m \u001B[38;5;28;01mwith\u001B[39;00m shorten_traceback():\n",
       "\u001B[0;32m-> 2374\u001B[0m     \u001B[38;5;28;01mreturn\u001B[39;00m \u001B[38;5;28;43mself\u001B[39;49m\u001B[38;5;241;43m.\u001B[39;49m\u001B[43msync\u001B[49m\u001B[43m(\u001B[49m\n",
       "\u001B[1;32m   2375\u001B[0m \u001B[43m        \u001B[49m\u001B[38;5;28;43mself\u001B[39;49m\u001B[38;5;241;43m.\u001B[39;49m\u001B[43m_gather\u001B[49m\u001B[43m,\u001B[49m\n",
       "\u001B[1;32m   2376\u001B[0m \u001B[43m        \u001B[49m\u001B[43mfutures\u001B[49m\u001B[43m,\u001B[49m\n",
       "\u001B[1;32m   2377\u001B[0m \u001B[43m        \u001B[49m\u001B[43merrors\u001B[49m\u001B[38;5;241;43m=\u001B[39;49m\u001B[43merrors\u001B[49m\u001B[43m,\u001B[49m\n",
       "\u001B[1;32m   2378\u001B[0m \u001B[43m        \u001B[49m\u001B[43mdirect\u001B[49m\u001B[38;5;241;43m=\u001B[39;49m\u001B[43mdirect\u001B[49m\u001B[43m,\u001B[49m\n",
       "\u001B[1;32m   2379\u001B[0m \u001B[43m        \u001B[49m\u001B[43mlocal_worker\u001B[49m\u001B[38;5;241;43m=\u001B[39;49m\u001B[43mlocal_worker\u001B[49m\u001B[43m,\u001B[49m\n",
       "\u001B[1;32m   2380\u001B[0m \u001B[43m        \u001B[49m\u001B[43masynchronous\u001B[49m\u001B[38;5;241;43m=\u001B[39;49m\u001B[43masynchronous\u001B[49m\u001B[43m,\u001B[49m\n",
       "\u001B[1;32m   2381\u001B[0m \u001B[43m    \u001B[49m\u001B[43m)\u001B[49m\n",
       "\n",
       "File \u001B[0;32m/local_disk0/.ephemeral_nfs/envs/pythonEnv-2466eb6e-f2a8-4bbb-ac0b-53f4efcb61b6/lib/python3.9/site-packages/distributed/client.py:2235\u001B[0m, in \u001B[0;36mClient._gather\u001B[0;34m(self, futures, errors, direct, local_worker)\u001B[0m\n",
       "\u001B[1;32m   2233\u001B[0m     \u001B[38;5;28;01melse\u001B[39;00m:\n",
       "\u001B[1;32m   2234\u001B[0m         \u001B[38;5;28;01mraise\u001B[39;00m exception\u001B[38;5;241m.\u001B[39mwith_traceback(traceback)\n",
       "\u001B[0;32m-> 2235\u001B[0m     \u001B[38;5;28;01mraise\u001B[39;00m exc\n",
       "\u001B[1;32m   2236\u001B[0m \u001B[38;5;28;01mif\u001B[39;00m errors \u001B[38;5;241m==\u001B[39m \u001B[38;5;124m\"\u001B[39m\u001B[38;5;124mskip\u001B[39m\u001B[38;5;124m\"\u001B[39m:\n",
       "\u001B[1;32m   2237\u001B[0m     bad_keys\u001B[38;5;241m.\u001B[39madd(key)\n",
       "\n",
       "\u001B[0;31mCancelledError\u001B[0m: lambda-92cf02f77024a06850ff833524e2f0d8"
      ]
     },
     "metadata": {
      "application/vnd.databricks.v1+output": {
       "arguments": {},
       "data": "\u001B[0;31m---------------------------------------------------------------------------\u001B[0m\n\u001B[0;31mCancelledError\u001B[0m                            Traceback (most recent call last)\nFile \u001B[0;32m<command-1433832980640726>:15\u001B[0m\n\u001B[1;32m     11\u001B[0m \u001B[38;5;66;03m# No column for this\u001B[39;00m\n\u001B[1;32m     12\u001B[0m \u001B[38;5;66;03m# benchmark(mean_of_complicated_arithmetic_operation, df=dask_data, benchmarks=dask_benchmarks, name='mean of complex arithmetic ops')\u001B[39;00m\n\u001B[1;32m     13\u001B[0m \u001B[38;5;66;03m# benchmark(complicated_arithmetic_operation, df=dask_data, benchmarks=dask_benchmarks, name='complex arithmetic ops')\u001B[39;00m\n\u001B[1;32m     14\u001B[0m benchmark(groupby_statistics, df\u001B[38;5;241m=\u001B[39mmodin_data, benchmarks\u001B[38;5;241m=\u001B[39mmodin_benchmarks, name\u001B[38;5;241m=\u001B[39m\u001B[38;5;124m'\u001B[39m\u001B[38;5;124mgroupby statistics\u001B[39m\u001B[38;5;124m'\u001B[39m)\n\u001B[0;32m---> 15\u001B[0m other \u001B[38;5;241m=\u001B[39m groupby_statistics(modin_data)\n\u001B[1;32m     16\u001B[0m other\u001B[38;5;241m.\u001B[39mcolumns \u001B[38;5;241m=\u001B[39m pd\u001B[38;5;241m.\u001B[39mIndex([e[\u001B[38;5;241m0\u001B[39m]\u001B[38;5;241m+\u001B[39m\u001B[38;5;124m'\u001B[39m\u001B[38;5;124m_\u001B[39m\u001B[38;5;124m'\u001B[39m \u001B[38;5;241m+\u001B[39m e[\u001B[38;5;241m1\u001B[39m] \u001B[38;5;28;01mfor\u001B[39;00m e \u001B[38;5;129;01min\u001B[39;00m other\u001B[38;5;241m.\u001B[39mcolumns\u001B[38;5;241m.\u001B[39mtolist()])\n\u001B[1;32m     17\u001B[0m benchmark(join_count, modin_data, benchmarks\u001B[38;5;241m=\u001B[39mmodin_benchmarks, name\u001B[38;5;241m=\u001B[39m\u001B[38;5;124m'\u001B[39m\u001B[38;5;124mjoin count\u001B[39m\u001B[38;5;124m'\u001B[39m, other\u001B[38;5;241m=\u001B[39mother)\n\nFile \u001B[0;32m<command-1433832980640725>:52\u001B[0m, in \u001B[0;36mgroupby_statistics\u001B[0;34m(df)\u001B[0m\n\u001B[1;32m     51\u001B[0m \u001B[38;5;28;01mdef\u001B[39;00m \u001B[38;5;21mgroupby_statistics\u001B[39m(df):\n\u001B[0;32m---> 52\u001B[0m     result \u001B[38;5;241m=\u001B[39m \u001B[43mdf\u001B[49m\u001B[38;5;241;43m.\u001B[39;49m\u001B[43mgroupby\u001B[49m\u001B[43m(\u001B[49m\u001B[38;5;124;43m'\u001B[39;49m\u001B[38;5;124;43mpassenger_count\u001B[39;49m\u001B[38;5;124;43m'\u001B[39;49m\u001B[43m)\u001B[49m\u001B[38;5;241;43m.\u001B[39;49m\u001B[43magg\u001B[49m\u001B[43m(\u001B[49m\n\u001B[1;32m     53\u001B[0m \u001B[43m        \u001B[49m\u001B[43mfare_amount_mean\u001B[49m\u001B[38;5;241;43m=\u001B[39;49m\u001B[43m(\u001B[49m\u001B[38;5;124;43m'\u001B[39;49m\u001B[38;5;124;43mfare_amount\u001B[39;49m\u001B[38;5;124;43m'\u001B[39;49m\u001B[43m,\u001B[49m\u001B[43m \u001B[49m\u001B[38;5;124;43m'\u001B[39;49m\u001B[38;5;124;43mmean\u001B[39;49m\u001B[38;5;124;43m'\u001B[39;49m\u001B[43m)\u001B[49m\u001B[43m,\u001B[49m\n\u001B[1;32m     54\u001B[0m \u001B[43m        \u001B[49m\u001B[43mfare_amount_std\u001B[49m\u001B[38;5;241;43m=\u001B[39;49m\u001B[43m(\u001B[49m\u001B[38;5;124;43m'\u001B[39;49m\u001B[38;5;124;43mfare_amount\u001B[39;49m\u001B[38;5;124;43m'\u001B[39;49m\u001B[43m,\u001B[49m\u001B[43m \u001B[49m\u001B[38;5;124;43m'\u001B[39;49m\u001B[38;5;124;43mstd\u001B[39;49m\u001B[38;5;124;43m'\u001B[39;49m\u001B[43m)\u001B[49m\u001B[43m,\u001B[49m\n\u001B[1;32m     55\u001B[0m \u001B[43m        \u001B[49m\u001B[43mtip_amount_mean\u001B[49m\u001B[38;5;241;43m=\u001B[39;49m\u001B[43m(\u001B[49m\u001B[38;5;124;43m'\u001B[39;49m\u001B[38;5;124;43mtip_amount\u001B[39;49m\u001B[38;5;124;43m'\u001B[39;49m\u001B[43m,\u001B[49m\u001B[43m \u001B[49m\u001B[38;5;124;43m'\u001B[39;49m\u001B[38;5;124;43mmean\u001B[39;49m\u001B[38;5;124;43m'\u001B[39;49m\u001B[43m)\u001B[49m\u001B[43m,\u001B[49m\n\u001B[1;32m     56\u001B[0m \u001B[43m        \u001B[49m\u001B[43mtip_amount_std\u001B[49m\u001B[38;5;241;43m=\u001B[39;49m\u001B[43m(\u001B[49m\u001B[38;5;124;43m'\u001B[39;49m\u001B[38;5;124;43mtip_amount\u001B[39;49m\u001B[38;5;124;43m'\u001B[39;49m\u001B[43m,\u001B[49m\u001B[43m \u001B[49m\u001B[38;5;124;43m'\u001B[39;49m\u001B[38;5;124;43mstd\u001B[39;49m\u001B[38;5;124;43m'\u001B[39;49m\u001B[43m)\u001B[49m\n\u001B[1;32m     57\u001B[0m \u001B[43m    \u001B[49m\u001B[43m)\u001B[49m\n\u001B[1;32m     58\u001B[0m     \u001B[38;5;28;01mreturn\u001B[39;00m result\n\nFile \u001B[0;32m/local_disk0/.ephemeral_nfs/envs/pythonEnv-2466eb6e-f2a8-4bbb-ac0b-53f4efcb61b6/lib/python3.9/site-packages/modin/logging/logger_decorator.py:125\u001B[0m, in \u001B[0;36menable_logging.<locals>.decorator.<locals>.run_and_log\u001B[0;34m(*args, **kwargs)\u001B[0m\n\u001B[1;32m    110\u001B[0m \u001B[38;5;124;03m\"\"\"\u001B[39;00m\n\u001B[1;32m    111\u001B[0m \u001B[38;5;124;03mCompute function with logging if Modin logging is enabled.\u001B[39;00m\n\u001B[1;32m    112\u001B[0m \n\u001B[0;32m   (...)\u001B[0m\n\u001B[1;32m    122\u001B[0m \u001B[38;5;124;03mAny\u001B[39;00m\n\u001B[1;32m    123\u001B[0m \u001B[38;5;124;03m\"\"\"\u001B[39;00m\n\u001B[1;32m    124\u001B[0m \u001B[38;5;28;01mif\u001B[39;00m LogMode\u001B[38;5;241m.\u001B[39mget() \u001B[38;5;241m==\u001B[39m \u001B[38;5;124m\"\u001B[39m\u001B[38;5;124mdisable\u001B[39m\u001B[38;5;124m\"\u001B[39m:\n\u001B[0;32m--> 125\u001B[0m     \u001B[38;5;28;01mreturn\u001B[39;00m \u001B[43mobj\u001B[49m\u001B[43m(\u001B[49m\u001B[38;5;241;43m*\u001B[39;49m\u001B[43margs\u001B[49m\u001B[43m,\u001B[49m\u001B[43m \u001B[49m\u001B[38;5;241;43m*\u001B[39;49m\u001B[38;5;241;43m*\u001B[39;49m\u001B[43mkwargs\u001B[49m\u001B[43m)\u001B[49m\n\u001B[1;32m    127\u001B[0m logger \u001B[38;5;241m=\u001B[39m get_logger()\n\u001B[1;32m    128\u001B[0m logger\u001B[38;5;241m.\u001B[39mlog(log_level, start_line)\n\nFile \u001B[0;32m/local_disk0/.ephemeral_nfs/envs/pythonEnv-2466eb6e-f2a8-4bbb-ac0b-53f4efcb61b6/lib/python3.9/site-packages/modin/pandas/groupby.py:989\u001B[0m, in \u001B[0;36mDataFrameGroupBy.aggregate\u001B[0;34m(self, func, engine, engine_kwargs, *args, **kwargs)\u001B[0m\n\u001B[1;32m    986\u001B[0m     \u001B[38;5;28;01mif\u001B[39;00m callable(agg_func):\n\u001B[1;32m    987\u001B[0m         \u001B[38;5;28;01mreturn\u001B[39;00m agg_func(\u001B[38;5;241m*\u001B[39margs, \u001B[38;5;241m*\u001B[39m\u001B[38;5;241m*\u001B[39mkwargs)\n\u001B[0;32m--> 989\u001B[0m result \u001B[38;5;241m=\u001B[39m \u001B[38;5;28;43mself\u001B[39;49m\u001B[38;5;241;43m.\u001B[39;49m\u001B[43m_wrap_aggregation\u001B[49m\u001B[43m(\u001B[49m\n\u001B[1;32m    990\u001B[0m \u001B[43m    \u001B[49m\u001B[43mqc_method\u001B[49m\u001B[38;5;241;43m=\u001B[39;49m\u001B[38;5;28;43mtype\u001B[39;49m\u001B[43m(\u001B[49m\u001B[38;5;28;43mself\u001B[39;49m\u001B[38;5;241;43m.\u001B[39;49m\u001B[43m_query_compiler\u001B[49m\u001B[43m)\u001B[49m\u001B[38;5;241;43m.\u001B[39;49m\u001B[43mgroupby_agg\u001B[49m\u001B[43m,\u001B[49m\n\u001B[1;32m    991\u001B[0m \u001B[43m    \u001B[49m\u001B[43mnumeric_only\u001B[49m\u001B[38;5;241;43m=\u001B[39;49m\u001B[38;5;28;43;01mFalse\u001B[39;49;00m\u001B[43m,\u001B[49m\n\u001B[1;32m    992\u001B[0m \u001B[43m    \u001B[49m\u001B[43magg_func\u001B[49m\u001B[38;5;241;43m=\u001B[39;49m\u001B[43mfunc\u001B[49m\u001B[43m,\u001B[49m\n\u001B[1;32m    993\u001B[0m \u001B[43m    \u001B[49m\u001B[43magg_args\u001B[49m\u001B[38;5;241;43m=\u001B[39;49m\u001B[43margs\u001B[49m\u001B[43m,\u001B[49m\n\u001B[1;32m    994\u001B[0m \u001B[43m    \u001B[49m\u001B[43magg_kwargs\u001B[49m\u001B[38;5;241;43m=\u001B[39;49m\u001B[43mkwargs\u001B[49m\u001B[43m,\u001B[49m\n\u001B[1;32m    995\u001B[0m \u001B[43m    \u001B[49m\u001B[43mhow\u001B[49m\u001B[38;5;241;43m=\u001B[39;49m\u001B[38;5;124;43m\"\u001B[39;49m\u001B[38;5;124;43maxis_wise\u001B[39;49m\u001B[38;5;124;43m\"\u001B[39;49m\u001B[43m,\u001B[49m\n\u001B[1;32m    996\u001B[0m \u001B[43m\u001B[49m\u001B[43m)\u001B[49m\n\u001B[1;32m    997\u001B[0m \u001B[38;5;28;01mreturn\u001B[39;00m do_relabel(result) \u001B[38;5;28;01mif\u001B[39;00m do_relabel \u001B[38;5;28;01melse\u001B[39;00m result\n\nFile \u001B[0;32m/local_disk0/.ephemeral_nfs/envs/pythonEnv-2466eb6e-f2a8-4bbb-ac0b-53f4efcb61b6/lib/python3.9/site-packages/modin/logging/logger_decorator.py:125\u001B[0m, in \u001B[0;36menable_logging.<locals>.decorator.<locals>.run_and_log\u001B[0;34m(*args, **kwargs)\u001B[0m\n\u001B[1;32m    110\u001B[0m \u001B[38;5;124;03m\"\"\"\u001B[39;00m\n\u001B[1;32m    111\u001B[0m \u001B[38;5;124;03mCompute function with logging if Modin logging is enabled.\u001B[39;00m\n\u001B[1;32m    112\u001B[0m \n\u001B[0;32m   (...)\u001B[0m\n\u001B[1;32m    122\u001B[0m \u001B[38;5;124;03mAny\u001B[39;00m\n\u001B[1;32m    123\u001B[0m \u001B[38;5;124;03m\"\"\"\u001B[39;00m\n\u001B[1;32m    124\u001B[0m \u001B[38;5;28;01mif\u001B[39;00m LogMode\u001B[38;5;241m.\u001B[39mget() \u001B[38;5;241m==\u001B[39m \u001B[38;5;124m\"\u001B[39m\u001B[38;5;124mdisable\u001B[39m\u001B[38;5;124m\"\u001B[39m:\n\u001B[0;32m--> 125\u001B[0m     \u001B[38;5;28;01mreturn\u001B[39;00m \u001B[43mobj\u001B[49m\u001B[43m(\u001B[49m\u001B[38;5;241;43m*\u001B[39;49m\u001B[43margs\u001B[49m\u001B[43m,\u001B[49m\u001B[43m \u001B[49m\u001B[38;5;241;43m*\u001B[39;49m\u001B[38;5;241;43m*\u001B[39;49m\u001B[43mkwargs\u001B[49m\u001B[43m)\u001B[49m\n\u001B[1;32m    127\u001B[0m logger \u001B[38;5;241m=\u001B[39m get_logger()\n\u001B[1;32m    128\u001B[0m logger\u001B[38;5;241m.\u001B[39mlog(log_level, start_line)\n\nFile \u001B[0;32m/local_disk0/.ephemeral_nfs/envs/pythonEnv-2466eb6e-f2a8-4bbb-ac0b-53f4efcb61b6/lib/python3.9/site-packages/modin/pandas/groupby.py:1646\u001B[0m, in \u001B[0;36mDataFrameGroupBy._wrap_aggregation\u001B[0;34m(self, qc_method, numeric_only, agg_args, agg_kwargs, **kwargs)\u001B[0m\n\u001B[1;32m   1642\u001B[0m \u001B[38;5;28;01melse\u001B[39;00m:\n\u001B[1;32m   1643\u001B[0m     groupby_qc \u001B[38;5;241m=\u001B[39m \u001B[38;5;28mself\u001B[39m\u001B[38;5;241m.\u001B[39m_query_compiler\n\u001B[1;32m   1645\u001B[0m \u001B[38;5;28;01mreturn\u001B[39;00m \u001B[38;5;28mtype\u001B[39m(\u001B[38;5;28mself\u001B[39m\u001B[38;5;241m.\u001B[39m_df)(\n\u001B[0;32m-> 1646\u001B[0m     query_compiler\u001B[38;5;241m=\u001B[39m\u001B[43mqc_method\u001B[49m\u001B[43m(\u001B[49m\n\u001B[1;32m   1647\u001B[0m \u001B[43m        \u001B[49m\u001B[43mgroupby_qc\u001B[49m\u001B[43m,\u001B[49m\n\u001B[1;32m   1648\u001B[0m \u001B[43m        \u001B[49m\u001B[43mby\u001B[49m\u001B[38;5;241;43m=\u001B[39;49m\u001B[38;5;28;43mself\u001B[39;49m\u001B[38;5;241;43m.\u001B[39;49m\u001B[43m_by\u001B[49m\u001B[43m,\u001B[49m\n\u001B[1;32m   1649\u001B[0m \u001B[43m        \u001B[49m\u001B[43maxis\u001B[49m\u001B[38;5;241;43m=\u001B[39;49m\u001B[38;5;28;43mself\u001B[39;49m\u001B[38;5;241;43m.\u001B[39;49m\u001B[43m_axis\u001B[49m\u001B[43m,\u001B[49m\n\u001B[1;32m   1650\u001B[0m \u001B[43m        \u001B[49m\u001B[43mgroupby_kwargs\u001B[49m\u001B[38;5;241;43m=\u001B[39;49m\u001B[38;5;28;43mself\u001B[39;49m\u001B[38;5;241;43m.\u001B[39;49m\u001B[43m_kwargs\u001B[49m\u001B[43m,\u001B[49m\n\u001B[1;32m   1651\u001B[0m \u001B[43m        \u001B[49m\u001B[43magg_args\u001B[49m\u001B[38;5;241;43m=\u001B[39;49m\u001B[43magg_args\u001B[49m\u001B[43m,\u001B[49m\n\u001B[1;32m   1652\u001B[0m \u001B[43m        \u001B[49m\u001B[43magg_kwargs\u001B[49m\u001B[38;5;241;43m=\u001B[39;49m\u001B[43magg_kwargs\u001B[49m\u001B[43m,\u001B[49m\n\u001B[1;32m   1653\u001B[0m \u001B[43m        \u001B[49m\u001B[43mdrop\u001B[49m\u001B[38;5;241;43m=\u001B[39;49m\u001B[38;5;28;43mself\u001B[39;49m\u001B[38;5;241;43m.\u001B[39;49m\u001B[43m_drop\u001B[49m\u001B[43m,\u001B[49m\n\u001B[1;32m   1654\u001B[0m \u001B[43m        \u001B[49m\u001B[38;5;241;43m*\u001B[39;49m\u001B[38;5;241;43m*\u001B[39;49m\u001B[43mkwargs\u001B[49m\u001B[43m,\u001B[49m\n\u001B[1;32m   1655\u001B[0m \u001B[43m    \u001B[49m\u001B[43m)\u001B[49m\n\u001B[1;32m   1656\u001B[0m )\n\nFile \u001B[0;32m/local_disk0/.ephemeral_nfs/envs/pythonEnv-2466eb6e-f2a8-4bbb-ac0b-53f4efcb61b6/lib/python3.9/site-packages/modin/logging/logger_decorator.py:125\u001B[0m, in \u001B[0;36menable_logging.<locals>.decorator.<locals>.run_and_log\u001B[0;34m(*args, **kwargs)\u001B[0m\n\u001B[1;32m    110\u001B[0m \u001B[38;5;124;03m\"\"\"\u001B[39;00m\n\u001B[1;32m    111\u001B[0m \u001B[38;5;124;03mCompute function with logging if Modin logging is enabled.\u001B[39;00m\n\u001B[1;32m    112\u001B[0m \n\u001B[0;32m   (...)\u001B[0m\n\u001B[1;32m    122\u001B[0m \u001B[38;5;124;03mAny\u001B[39;00m\n\u001B[1;32m    123\u001B[0m \u001B[38;5;124;03m\"\"\"\u001B[39;00m\n\u001B[1;32m    124\u001B[0m \u001B[38;5;28;01mif\u001B[39;00m LogMode\u001B[38;5;241m.\u001B[39mget() \u001B[38;5;241m==\u001B[39m \u001B[38;5;124m\"\u001B[39m\u001B[38;5;124mdisable\u001B[39m\u001B[38;5;124m\"\u001B[39m:\n\u001B[0;32m--> 125\u001B[0m     \u001B[38;5;28;01mreturn\u001B[39;00m \u001B[43mobj\u001B[49m\u001B[43m(\u001B[49m\u001B[38;5;241;43m*\u001B[39;49m\u001B[43margs\u001B[49m\u001B[43m,\u001B[49m\u001B[43m \u001B[49m\u001B[38;5;241;43m*\u001B[39;49m\u001B[38;5;241;43m*\u001B[39;49m\u001B[43mkwargs\u001B[49m\u001B[43m)\u001B[49m\n\u001B[1;32m    127\u001B[0m logger \u001B[38;5;241m=\u001B[39m get_logger()\n\u001B[1;32m    128\u001B[0m logger\u001B[38;5;241m.\u001B[39mlog(log_level, start_line)\n\nFile \u001B[0;32m/local_disk0/.ephemeral_nfs/envs/pythonEnv-2466eb6e-f2a8-4bbb-ac0b-53f4efcb61b6/lib/python3.9/site-packages/modin/core/storage_formats/pandas/query_compiler.py:4359\u001B[0m, in \u001B[0;36mPandasQueryCompiler.groupby_agg\u001B[0;34m(self, by, agg_func, axis, groupby_kwargs, agg_args, agg_kwargs, how, drop, series_groupby)\u001B[0m\n\u001B[1;32m   4354\u001B[0m result \u001B[38;5;241m=\u001B[39m \u001B[38;5;28mself\u001B[39m\u001B[38;5;241m.\u001B[39m__constructor__(new_modin_frame)\n\u001B[1;32m   4356\u001B[0m \u001B[38;5;66;03m# that means that exception in `compute_groupby` was raised\u001B[39;00m\n\u001B[1;32m   4357\u001B[0m \u001B[38;5;66;03m# in every partition, so we also should raise it\u001B[39;00m\n\u001B[1;32m   4358\u001B[0m \u001B[38;5;28;01mif\u001B[39;00m (\n\u001B[0;32m-> 4359\u001B[0m     \u001B[38;5;28mlen\u001B[39m(\u001B[43mresult\u001B[49m\u001B[38;5;241;43m.\u001B[39;49m\u001B[43mcolumns\u001B[49m) \u001B[38;5;241m==\u001B[39m \u001B[38;5;241m0\u001B[39m\n\u001B[1;32m   4360\u001B[0m     \u001B[38;5;129;01mand\u001B[39;00m \u001B[38;5;28mlen\u001B[39m(\u001B[38;5;28mself\u001B[39m\u001B[38;5;241m.\u001B[39mcolumns) \u001B[38;5;241m!=\u001B[39m \u001B[38;5;241m0\u001B[39m\n\u001B[1;32m   4361\u001B[0m     \u001B[38;5;129;01mand\u001B[39;00m agg_kwargs\u001B[38;5;241m.\u001B[39mget(\u001B[38;5;124m\"\u001B[39m\u001B[38;5;124mnumeric_only\u001B[39m\u001B[38;5;124m\"\u001B[39m, \u001B[38;5;28;01mFalse\u001B[39;00m)\n\u001B[1;32m   4362\u001B[0m ):\n\u001B[1;32m   4363\u001B[0m     \u001B[38;5;28;01mraise\u001B[39;00m \u001B[38;5;167;01mTypeError\u001B[39;00m(\u001B[38;5;124m\"\u001B[39m\u001B[38;5;124mNo numeric types to aggregate.\u001B[39m\u001B[38;5;124m\"\u001B[39m)\n\u001B[1;32m   4365\u001B[0m \u001B[38;5;28;01mreturn\u001B[39;00m result\n\nFile \u001B[0;32m/local_disk0/.ephemeral_nfs/envs/pythonEnv-2466eb6e-f2a8-4bbb-ac0b-53f4efcb61b6/lib/python3.9/site-packages/modin/core/storage_formats/pandas/query_compiler.py:104\u001B[0m, in \u001B[0;36m_get_axis.<locals>.<lambda>\u001B[0;34m(self)\u001B[0m\n\u001B[1;32m    102\u001B[0m     \u001B[38;5;28;01mreturn\u001B[39;00m \u001B[38;5;28;01mlambda\u001B[39;00m \u001B[38;5;28mself\u001B[39m: \u001B[38;5;28mself\u001B[39m\u001B[38;5;241m.\u001B[39m_modin_frame\u001B[38;5;241m.\u001B[39mindex\n\u001B[1;32m    103\u001B[0m \u001B[38;5;28;01melse\u001B[39;00m:\n\u001B[0;32m--> 104\u001B[0m     \u001B[38;5;28;01mreturn\u001B[39;00m \u001B[38;5;28;01mlambda\u001B[39;00m \u001B[38;5;28mself\u001B[39m: \u001B[38;5;28;43mself\u001B[39;49m\u001B[38;5;241;43m.\u001B[39;49m\u001B[43m_modin_frame\u001B[49m\u001B[38;5;241;43m.\u001B[39;49m\u001B[43mcolumns\u001B[49m\n\nFile \u001B[0;32m/local_disk0/.ephemeral_nfs/envs/pythonEnv-2466eb6e-f2a8-4bbb-ac0b-53f4efcb61b6/lib/python3.9/site-packages/modin/core/dataframe/pandas/dataframe/dataframe.py:721\u001B[0m, in \u001B[0;36mPandasDataframe._get_columns\u001B[0;34m(self)\u001B[0m\n\u001B[1;32m    712\u001B[0m \u001B[38;5;124;03m\"\"\"\u001B[39;00m\n\u001B[1;32m    713\u001B[0m \u001B[38;5;124;03mGet the columns from the cache object.\u001B[39;00m\n\u001B[1;32m    714\u001B[0m \n\u001B[0;32m   (...)\u001B[0m\n\u001B[1;32m    718\u001B[0m \u001B[38;5;124;03m    An index object containing the column labels.\u001B[39;00m\n\u001B[1;32m    719\u001B[0m \u001B[38;5;124;03m\"\"\"\u001B[39;00m\n\u001B[1;32m    720\u001B[0m \u001B[38;5;28;01mif\u001B[39;00m \u001B[38;5;28mself\u001B[39m\u001B[38;5;241m.\u001B[39mhas_columns_cache:\n\u001B[0;32m--> 721\u001B[0m     columns, column_widths \u001B[38;5;241m=\u001B[39m \u001B[38;5;28;43mself\u001B[39;49m\u001B[38;5;241;43m.\u001B[39;49m\u001B[43m_columns_cache\u001B[49m\u001B[38;5;241;43m.\u001B[39;49m\u001B[43mget\u001B[49m\u001B[43m(\u001B[49m\u001B[43mreturn_lengths\u001B[49m\u001B[38;5;241;43m=\u001B[39;49m\u001B[38;5;28;43;01mTrue\u001B[39;49;00m\u001B[43m)\u001B[49m\n\u001B[1;32m    722\u001B[0m \u001B[38;5;28;01melse\u001B[39;00m:\n\u001B[1;32m    723\u001B[0m     columns, column_widths \u001B[38;5;241m=\u001B[39m \u001B[38;5;28mself\u001B[39m\u001B[38;5;241m.\u001B[39m_compute_axis_labels_and_lengths(\u001B[38;5;241m1\u001B[39m)\n\nFile \u001B[0;32m/local_disk0/.ephemeral_nfs/envs/pythonEnv-2466eb6e-f2a8-4bbb-ac0b-53f4efcb61b6/lib/python3.9/site-packages/modin/core/dataframe/pandas/metadata/index.py:203\u001B[0m, in \u001B[0;36mModinIndex.get\u001B[0;34m(self, return_lengths)\u001B[0m\n\u001B[1;32m    201\u001B[0m \u001B[38;5;28;01mif\u001B[39;00m \u001B[38;5;129;01mnot\u001B[39;00m \u001B[38;5;28mself\u001B[39m\u001B[38;5;241m.\u001B[39mis_materialized:\n\u001B[1;32m    202\u001B[0m     \u001B[38;5;28;01mif\u001B[39;00m callable(\u001B[38;5;28mself\u001B[39m\u001B[38;5;241m.\u001B[39m_value):\n\u001B[0;32m--> 203\u001B[0m         index, \u001B[38;5;28mself\u001B[39m\u001B[38;5;241m.\u001B[39m_lengths_cache \u001B[38;5;241m=\u001B[39m \u001B[38;5;28;43mself\u001B[39;49m\u001B[38;5;241;43m.\u001B[39;49m\u001B[43m_value\u001B[49m\u001B[43m(\u001B[49m\u001B[43m)\u001B[49m\n\u001B[1;32m    204\u001B[0m         \u001B[38;5;28mself\u001B[39m\u001B[38;5;241m.\u001B[39m_value \u001B[38;5;241m=\u001B[39m ensure_index(index)\n\u001B[1;32m    205\u001B[0m     \u001B[38;5;28;01melif\u001B[39;00m \u001B[38;5;28mself\u001B[39m\u001B[38;5;241m.\u001B[39m_value \u001B[38;5;129;01mis\u001B[39;00m \u001B[38;5;28;01mNone\u001B[39;00m:\n\nFile \u001B[0;32m/local_disk0/.ephemeral_nfs/envs/pythonEnv-2466eb6e-f2a8-4bbb-ac0b-53f4efcb61b6/lib/python3.9/site-packages/modin/logging/logger_decorator.py:125\u001B[0m, in \u001B[0;36menable_logging.<locals>.decorator.<locals>.run_and_log\u001B[0;34m(*args, **kwargs)\u001B[0m\n\u001B[1;32m    110\u001B[0m \u001B[38;5;124;03m\"\"\"\u001B[39;00m\n\u001B[1;32m    111\u001B[0m \u001B[38;5;124;03mCompute function with logging if Modin logging is enabled.\u001B[39;00m\n\u001B[1;32m    112\u001B[0m \n\u001B[0;32m   (...)\u001B[0m\n\u001B[1;32m    122\u001B[0m \u001B[38;5;124;03mAny\u001B[39;00m\n\u001B[1;32m    123\u001B[0m \u001B[38;5;124;03m\"\"\"\u001B[39;00m\n\u001B[1;32m    124\u001B[0m \u001B[38;5;28;01mif\u001B[39;00m LogMode\u001B[38;5;241m.\u001B[39mget() \u001B[38;5;241m==\u001B[39m \u001B[38;5;124m\"\u001B[39m\u001B[38;5;124mdisable\u001B[39m\u001B[38;5;124m\"\u001B[39m:\n\u001B[0;32m--> 125\u001B[0m     \u001B[38;5;28;01mreturn\u001B[39;00m \u001B[43mobj\u001B[49m\u001B[43m(\u001B[49m\u001B[38;5;241;43m*\u001B[39;49m\u001B[43margs\u001B[49m\u001B[43m,\u001B[49m\u001B[43m \u001B[49m\u001B[38;5;241;43m*\u001B[39;49m\u001B[38;5;241;43m*\u001B[39;49m\u001B[43mkwargs\u001B[49m\u001B[43m)\u001B[49m\n\u001B[1;32m    127\u001B[0m logger \u001B[38;5;241m=\u001B[39m get_logger()\n\u001B[1;32m    128\u001B[0m logger\u001B[38;5;241m.\u001B[39mlog(log_level, start_line)\n\nFile \u001B[0;32m/local_disk0/.ephemeral_nfs/envs/pythonEnv-2466eb6e-f2a8-4bbb-ac0b-53f4efcb61b6/lib/python3.9/site-packages/modin/core/dataframe/pandas/dataframe/dataframe.py:829\u001B[0m, in \u001B[0;36mPandasDataframe._compute_axis_labels_and_lengths\u001B[0;34m(self, axis, partitions)\u001B[0m\n\u001B[1;32m    827\u001B[0m \u001B[38;5;28;01mif\u001B[39;00m partitions \u001B[38;5;129;01mis\u001B[39;00m \u001B[38;5;28;01mNone\u001B[39;00m:\n\u001B[1;32m    828\u001B[0m     partitions \u001B[38;5;241m=\u001B[39m \u001B[38;5;28mself\u001B[39m\u001B[38;5;241m.\u001B[39m_partitions\n\u001B[0;32m--> 829\u001B[0m new_index, internal_idx \u001B[38;5;241m=\u001B[39m \u001B[38;5;28;43mself\u001B[39;49m\u001B[38;5;241;43m.\u001B[39;49m\u001B[43m_partition_mgr_cls\u001B[49m\u001B[38;5;241;43m.\u001B[39;49m\u001B[43mget_indices\u001B[49m\u001B[43m(\u001B[49m\u001B[43maxis\u001B[49m\u001B[43m,\u001B[49m\u001B[43m \u001B[49m\u001B[43mpartitions\u001B[49m\u001B[43m)\u001B[49m\n\u001B[1;32m    830\u001B[0m \u001B[38;5;28;01mreturn\u001B[39;00m new_index, \u001B[38;5;28mlist\u001B[39m(\u001B[38;5;28mmap\u001B[39m(\u001B[38;5;28mlen\u001B[39m, internal_idx))\n\nFile \u001B[0;32m/local_disk0/.ephemeral_nfs/envs/pythonEnv-2466eb6e-f2a8-4bbb-ac0b-53f4efcb61b6/lib/python3.9/site-packages/modin/logging/logger_decorator.py:125\u001B[0m, in \u001B[0;36menable_logging.<locals>.decorator.<locals>.run_and_log\u001B[0;34m(*args, **kwargs)\u001B[0m\n\u001B[1;32m    110\u001B[0m \u001B[38;5;124;03m\"\"\"\u001B[39;00m\n\u001B[1;32m    111\u001B[0m \u001B[38;5;124;03mCompute function with logging if Modin logging is enabled.\u001B[39;00m\n\u001B[1;32m    112\u001B[0m \n\u001B[0;32m   (...)\u001B[0m\n\u001B[1;32m    122\u001B[0m \u001B[38;5;124;03mAny\u001B[39;00m\n\u001B[1;32m    123\u001B[0m \u001B[38;5;124;03m\"\"\"\u001B[39;00m\n\u001B[1;32m    124\u001B[0m \u001B[38;5;28;01mif\u001B[39;00m LogMode\u001B[38;5;241m.\u001B[39mget() \u001B[38;5;241m==\u001B[39m \u001B[38;5;124m\"\u001B[39m\u001B[38;5;124mdisable\u001B[39m\u001B[38;5;124m\"\u001B[39m:\n\u001B[0;32m--> 125\u001B[0m     \u001B[38;5;28;01mreturn\u001B[39;00m \u001B[43mobj\u001B[49m\u001B[43m(\u001B[49m\u001B[38;5;241;43m*\u001B[39;49m\u001B[43margs\u001B[49m\u001B[43m,\u001B[49m\u001B[43m \u001B[49m\u001B[38;5;241;43m*\u001B[39;49m\u001B[38;5;241;43m*\u001B[39;49m\u001B[43mkwargs\u001B[49m\u001B[43m)\u001B[49m\n\u001B[1;32m    127\u001B[0m logger \u001B[38;5;241m=\u001B[39m get_logger()\n\u001B[1;32m    128\u001B[0m logger\u001B[38;5;241m.\u001B[39mlog(log_level, start_line)\n\nFile \u001B[0;32m/local_disk0/.ephemeral_nfs/envs/pythonEnv-2466eb6e-f2a8-4bbb-ac0b-53f4efcb61b6/lib/python3.9/site-packages/modin/core/dataframe/pandas/partitioning/partition_manager.py:1189\u001B[0m, in \u001B[0;36mPandasDataframePartitionManager.get_indices\u001B[0;34m(cls, axis, partitions, index_func)\u001B[0m\n\u001B[1;32m   1187\u001B[0m \u001B[38;5;28;01mif\u001B[39;00m \u001B[38;5;28mlen\u001B[39m(target):\n\u001B[1;32m   1188\u001B[0m     new_idx \u001B[38;5;241m=\u001B[39m [idx\u001B[38;5;241m.\u001B[39mapply(func) \u001B[38;5;28;01mfor\u001B[39;00m idx \u001B[38;5;129;01min\u001B[39;00m target[\u001B[38;5;241m0\u001B[39m]]\n\u001B[0;32m-> 1189\u001B[0m     new_idx \u001B[38;5;241m=\u001B[39m \u001B[38;5;28;43mcls\u001B[39;49m\u001B[38;5;241;43m.\u001B[39;49m\u001B[43mget_objects_from_partitions\u001B[49m\u001B[43m(\u001B[49m\u001B[43mnew_idx\u001B[49m\u001B[43m)\u001B[49m\n\u001B[1;32m   1190\u001B[0m \u001B[38;5;28;01melse\u001B[39;00m:\n\u001B[1;32m   1191\u001B[0m     new_idx \u001B[38;5;241m=\u001B[39m [pandas\u001B[38;5;241m.\u001B[39mIndex([])]\n\nFile \u001B[0;32m/local_disk0/.ephemeral_nfs/envs/pythonEnv-2466eb6e-f2a8-4bbb-ac0b-53f4efcb61b6/lib/python3.9/site-packages/modin/logging/logger_decorator.py:125\u001B[0m, in \u001B[0;36menable_logging.<locals>.decorator.<locals>.run_and_log\u001B[0;34m(*args, **kwargs)\u001B[0m\n\u001B[1;32m    110\u001B[0m \u001B[38;5;124;03m\"\"\"\u001B[39;00m\n\u001B[1;32m    111\u001B[0m \u001B[38;5;124;03mCompute function with logging if Modin logging is enabled.\u001B[39;00m\n\u001B[1;32m    112\u001B[0m \n\u001B[0;32m   (...)\u001B[0m\n\u001B[1;32m    122\u001B[0m \u001B[38;5;124;03mAny\u001B[39;00m\n\u001B[1;32m    123\u001B[0m \u001B[38;5;124;03m\"\"\"\u001B[39;00m\n\u001B[1;32m    124\u001B[0m \u001B[38;5;28;01mif\u001B[39;00m LogMode\u001B[38;5;241m.\u001B[39mget() \u001B[38;5;241m==\u001B[39m \u001B[38;5;124m\"\u001B[39m\u001B[38;5;124mdisable\u001B[39m\u001B[38;5;124m\"\u001B[39m:\n\u001B[0;32m--> 125\u001B[0m     \u001B[38;5;28;01mreturn\u001B[39;00m \u001B[43mobj\u001B[49m\u001B[43m(\u001B[49m\u001B[38;5;241;43m*\u001B[39;49m\u001B[43margs\u001B[49m\u001B[43m,\u001B[49m\u001B[43m \u001B[49m\u001B[38;5;241;43m*\u001B[39;49m\u001B[38;5;241;43m*\u001B[39;49m\u001B[43mkwargs\u001B[49m\u001B[43m)\u001B[49m\n\u001B[1;32m    127\u001B[0m logger \u001B[38;5;241m=\u001B[39m get_logger()\n\u001B[1;32m    128\u001B[0m logger\u001B[38;5;241m.\u001B[39mlog(log_level, start_line)\n\nFile \u001B[0;32m/local_disk0/.ephemeral_nfs/envs/pythonEnv-2466eb6e-f2a8-4bbb-ac0b-53f4efcb61b6/lib/python3.9/site-packages/modin/core/dataframe/pandas/partitioning/partition_manager.py:1130\u001B[0m, in \u001B[0;36mPandasDataframePartitionManager.get_objects_from_partitions\u001B[0;34m(cls, partitions)\u001B[0m\n\u001B[1;32m   1126\u001B[0m             partitions[idx] \u001B[38;5;241m=\u001B[39m part\u001B[38;5;241m.\u001B[39mforce_materialization()\n\u001B[1;32m   1127\u001B[0m     \u001B[38;5;28;01massert\u001B[39;00m \u001B[38;5;28mall\u001B[39m(\n\u001B[1;32m   1128\u001B[0m         [\u001B[38;5;28mlen\u001B[39m(partition\u001B[38;5;241m.\u001B[39mlist_of_blocks) \u001B[38;5;241m==\u001B[39m \u001B[38;5;241m1\u001B[39m \u001B[38;5;28;01mfor\u001B[39;00m partition \u001B[38;5;129;01min\u001B[39;00m partitions]\n\u001B[1;32m   1129\u001B[0m     ), \u001B[38;5;124m\"\u001B[39m\u001B[38;5;124mImplementation assumes that each partition contains a single block.\u001B[39m\u001B[38;5;124m\"\u001B[39m\n\u001B[0;32m-> 1130\u001B[0m     \u001B[38;5;28;01mreturn\u001B[39;00m \u001B[38;5;28;43mcls\u001B[39;49m\u001B[38;5;241;43m.\u001B[39;49m\u001B[43m_execution_wrapper\u001B[49m\u001B[38;5;241;43m.\u001B[39;49m\u001B[43mmaterialize\u001B[49m\u001B[43m(\u001B[49m\n\u001B[1;32m   1131\u001B[0m \u001B[43m        \u001B[49m\u001B[43m[\u001B[49m\u001B[43mpartition\u001B[49m\u001B[38;5;241;43m.\u001B[39;49m\u001B[43mlist_of_blocks\u001B[49m\u001B[43m[\u001B[49m\u001B[38;5;241;43m0\u001B[39;49m\u001B[43m]\u001B[49m\u001B[43m \u001B[49m\u001B[38;5;28;43;01mfor\u001B[39;49;00m\u001B[43m \u001B[49m\u001B[43mpartition\u001B[49m\u001B[43m \u001B[49m\u001B[38;5;129;43;01min\u001B[39;49;00m\u001B[43m \u001B[49m\u001B[43mpartitions\u001B[49m\u001B[43m]\u001B[49m\n\u001B[1;32m   1132\u001B[0m \u001B[43m    \u001B[49m\u001B[43m)\u001B[49m\n\u001B[1;32m   1133\u001B[0m \u001B[38;5;28;01mreturn\u001B[39;00m [partition\u001B[38;5;241m.\u001B[39mget() \u001B[38;5;28;01mfor\u001B[39;00m partition \u001B[38;5;129;01min\u001B[39;00m partitions]\n\nFile \u001B[0;32m/local_disk0/.ephemeral_nfs/envs/pythonEnv-2466eb6e-f2a8-4bbb-ac0b-53f4efcb61b6/lib/python3.9/site-packages/modin/core/execution/dask/common/engine_wrapper.py:141\u001B[0m, in \u001B[0;36mDaskWrapper.materialize\u001B[0;34m(cls, future)\u001B[0m\n\u001B[1;32m    127\u001B[0m \u001B[38;5;124;03m\"\"\"\u001B[39;00m\n\u001B[1;32m    128\u001B[0m \u001B[38;5;124;03mMaterialize data matching `future` object.\u001B[39;00m\n\u001B[1;32m    129\u001B[0m \n\u001B[0;32m   (...)\u001B[0m\n\u001B[1;32m    138\u001B[0m \u001B[38;5;124;03m    An object(s) from the distributed memory.\u001B[39;00m\n\u001B[1;32m    139\u001B[0m \u001B[38;5;124;03m\"\"\"\u001B[39;00m\n\u001B[1;32m    140\u001B[0m client \u001B[38;5;241m=\u001B[39m default_client()\n\u001B[0;32m--> 141\u001B[0m \u001B[38;5;28;01mreturn\u001B[39;00m \u001B[43mclient\u001B[49m\u001B[38;5;241;43m.\u001B[39;49m\u001B[43mgather\u001B[49m\u001B[43m(\u001B[49m\u001B[43mfuture\u001B[49m\u001B[43m)\u001B[49m\n\nFile \u001B[0;32m/local_disk0/.ephemeral_nfs/envs/pythonEnv-2466eb6e-f2a8-4bbb-ac0b-53f4efcb61b6/lib/python3.9/site-packages/distributed/client.py:2374\u001B[0m, in \u001B[0;36mClient.gather\u001B[0;34m(self, futures, errors, direct, asynchronous)\u001B[0m\n\u001B[1;32m   2371\u001B[0m     local_worker \u001B[38;5;241m=\u001B[39m \u001B[38;5;28;01mNone\u001B[39;00m\n\u001B[1;32m   2373\u001B[0m \u001B[38;5;28;01mwith\u001B[39;00m shorten_traceback():\n\u001B[0;32m-> 2374\u001B[0m     \u001B[38;5;28;01mreturn\u001B[39;00m \u001B[38;5;28;43mself\u001B[39;49m\u001B[38;5;241;43m.\u001B[39;49m\u001B[43msync\u001B[49m\u001B[43m(\u001B[49m\n\u001B[1;32m   2375\u001B[0m \u001B[43m        \u001B[49m\u001B[38;5;28;43mself\u001B[39;49m\u001B[38;5;241;43m.\u001B[39;49m\u001B[43m_gather\u001B[49m\u001B[43m,\u001B[49m\n\u001B[1;32m   2376\u001B[0m \u001B[43m        \u001B[49m\u001B[43mfutures\u001B[49m\u001B[43m,\u001B[49m\n\u001B[1;32m   2377\u001B[0m \u001B[43m        \u001B[49m\u001B[43merrors\u001B[49m\u001B[38;5;241;43m=\u001B[39;49m\u001B[43merrors\u001B[49m\u001B[43m,\u001B[49m\n\u001B[1;32m   2378\u001B[0m \u001B[43m        \u001B[49m\u001B[43mdirect\u001B[49m\u001B[38;5;241;43m=\u001B[39;49m\u001B[43mdirect\u001B[49m\u001B[43m,\u001B[49m\n\u001B[1;32m   2379\u001B[0m \u001B[43m        \u001B[49m\u001B[43mlocal_worker\u001B[49m\u001B[38;5;241;43m=\u001B[39;49m\u001B[43mlocal_worker\u001B[49m\u001B[43m,\u001B[49m\n\u001B[1;32m   2380\u001B[0m \u001B[43m        \u001B[49m\u001B[43masynchronous\u001B[49m\u001B[38;5;241;43m=\u001B[39;49m\u001B[43masynchronous\u001B[49m\u001B[43m,\u001B[49m\n\u001B[1;32m   2381\u001B[0m \u001B[43m    \u001B[49m\u001B[43m)\u001B[49m\n\nFile \u001B[0;32m/local_disk0/.ephemeral_nfs/envs/pythonEnv-2466eb6e-f2a8-4bbb-ac0b-53f4efcb61b6/lib/python3.9/site-packages/distributed/client.py:2235\u001B[0m, in \u001B[0;36mClient._gather\u001B[0;34m(self, futures, errors, direct, local_worker)\u001B[0m\n\u001B[1;32m   2233\u001B[0m     \u001B[38;5;28;01melse\u001B[39;00m:\n\u001B[1;32m   2234\u001B[0m         \u001B[38;5;28;01mraise\u001B[39;00m exception\u001B[38;5;241m.\u001B[39mwith_traceback(traceback)\n\u001B[0;32m-> 2235\u001B[0m     \u001B[38;5;28;01mraise\u001B[39;00m exc\n\u001B[1;32m   2236\u001B[0m \u001B[38;5;28;01mif\u001B[39;00m errors \u001B[38;5;241m==\u001B[39m \u001B[38;5;124m\"\u001B[39m\u001B[38;5;124mskip\u001B[39m\u001B[38;5;124m\"\u001B[39m:\n\u001B[1;32m   2237\u001B[0m     bad_keys\u001B[38;5;241m.\u001B[39madd(key)\n\n\u001B[0;31mCancelledError\u001B[0m: lambda-92cf02f77024a06850ff833524e2f0d8",
       "errorSummary": "<span class='ansi-red-fg'>CancelledError</span>: lambda-92cf02f77024a06850ff833524e2f0d8",
       "errorTraceType": "ansi",
       "metadata": {},
       "type": "ipynbError"
      }
     },
     "output_type": "display_data"
    }
   ],
   "source": [
    "#benchmark(read_file_parquet, df=None, benchmarks=dask_benchmarks, name='read file')\n",
    "benchmark(count, df=modin_data, benchmarks=modin_benchmarks, name='count')\n",
    "benchmark(count_index_length, df=modin_data, benchmarks=modin_benchmarks, name='count index length')\n",
    "benchmark(mean, df=modin_data, benchmarks=modin_benchmarks, name='mean')\n",
    "benchmark(standard_deviation, df=modin_data, benchmarks=modin_benchmarks, name='standard deviation')\n",
    "benchmark(mean_of_sum, df=modin_data, benchmarks=modin_benchmarks, name='mean of columns addition')\n",
    "benchmark(sum_columns, df=modin_data, benchmarks=modin_benchmarks, name='addition of columns')\n",
    "benchmark(mean_of_product, df=modin_data, benchmarks=modin_benchmarks, name='mean of columns multiplication')\n",
    "benchmark(product_columns, df=modin_data, benchmarks=modin_benchmarks, name='multiplication of columns')\n",
    "benchmark(value_counts, df=modin_data, benchmarks=modin_benchmarks, name='value counts')\n",
    "# No column for this\n",
    "# benchmark(mean_of_complicated_arithmetic_operation, df=dask_data, benchmarks=dask_benchmarks, name='mean of complex arithmetic ops')\n",
    "# benchmark(complicated_arithmetic_operation, df=dask_data, benchmarks=dask_benchmarks, name='complex arithmetic ops')\n",
    "benchmark(groupby_statistics, df=modin_data, benchmarks=modin_benchmarks, name='groupby statistics')\n",
    "other = groupby_statistics(modin_data)\n",
    "other.columns = pd.Index([e[0]+'_' + e[1] for e in other.columns.tolist()])\n",
    "benchmark(join_count, modin_data, benchmarks=modin_benchmarks, name='join count', other=other)\n",
    "benchmark(join_data, modin_data, benchmarks=modin_benchmarks, name='join', other=other) # cant join"
   ]
  },
  {
   "cell_type": "markdown",
   "metadata": {
    "application/vnd.databricks.v1+cell": {
     "cellMetadata": {
      "byteLimit": 2048000,
      "rowLimit": 10000
     },
     "inputWidgets": {},
     "nuid": "23db2754-f6b4-4a0e-a39f-3a826a7c1007",
     "showTitle": false,
     "title": ""
    }
   },
   "source": [
    "Operations with filtering"
   ]
  },
  {
   "cell_type": "code",
   "execution_count": 0,
   "metadata": {
    "application/vnd.databricks.v1+cell": {
     "cellMetadata": {
      "byteLimit": 2048000,
      "rowLimit": 10000
     },
     "inputWidgets": {},
     "nuid": "9e53b220-56d6-4809-b00e-f2aae1f3c192",
     "showTitle": false,
     "title": ""
    }
   },
   "outputs": [],
   "source": [
    "expr_filter = (modin_data.tip_amount >= 1) & (modin_data.tip_amount <= 5)\n",
    "\n",
    "def filter_data(df):\n",
    "    return df[expr_filter]\n",
    "  \n",
    "modin_filtered = filter_data(modin_data)"
   ]
  },
  {
   "cell_type": "code",
   "execution_count": 0,
   "metadata": {
    "application/vnd.databricks.v1+cell": {
     "cellMetadata": {
      "byteLimit": 2048000,
      "rowLimit": 10000
     },
     "inputWidgets": {},
     "nuid": "c2b37a18-89eb-4dfd-9a18-6124a51208d7",
     "showTitle": false,
     "title": ""
    }
   },
   "outputs": [
    {
     "output_type": "stream",
     "name": "stdout",
     "output_type": "stream",
     "text": [
      "filtered count took: 0.31990957260131836 seconds\nfiltered count index length took: 7.033348083496094e-05 seconds\nfiltered mean took: 0.17596769332885742 seconds\nfiltered standard deviation took: 0.22457051277160645 seconds\nfiltered mean of columns addition took: 0.3177800178527832 seconds\nfiltered addition of columns took: 0.042876482009887695 seconds\nfiltered mean of columns multiplication took: 0.44959187507629395 seconds\nfiltered multiplication of columns took: 0.0429842472076416 seconds\nfiltered value counts took: 0.8408560752868652 seconds\nfiltered groupby statistics took: 1.764765977859497 seconds\nfiltered join count took: 4.052744626998901 seconds\nfiltered join took: 2.885847330093384 seconds\nOut[51]: 2.885847330093384"
     ]
    }
   ],
   "source": [
    "benchmark(count, modin_filtered, benchmarks=modin_benchmarks, name='filtered count')\n",
    "benchmark(count_index_length, modin_filtered, benchmarks=modin_benchmarks, name='filtered count index length')\n",
    "benchmark(mean, modin_filtered, benchmarks=modin_benchmarks, name='filtered mean')\n",
    "benchmark(standard_deviation, modin_filtered, benchmarks=modin_benchmarks, name='filtered standard deviation')\n",
    "benchmark(mean_of_sum, modin_filtered, benchmarks=modin_benchmarks, name ='filtered mean of columns addition')\n",
    "benchmark(sum_columns, df=modin_filtered, benchmarks=modin_benchmarks, name='filtered addition of columns')\n",
    "benchmark(mean_of_product, modin_filtered, benchmarks=modin_benchmarks, name ='filtered mean of columns multiplication')\n",
    "benchmark(product_columns, df=modin_filtered, benchmarks=modin_benchmarks, name='filtered multiplication of columns')\n",
    "#benchmark(mean_of_complicated_arithmetic_operation, dask_filtered, benchmarks=dask_benchmarks, name='filtered mean of complex arithmetic ops')\n",
    "#benchmark(complicated_arithmetic_operation, dask_filtered, benchmarks=dask_benchmarks, name='filtered complex arithmetic ops')\n",
    "benchmark(value_counts, modin_filtered, benchmarks=modin_benchmarks, name ='filtered value counts')\n",
    "benchmark(groupby_statistics, modin_filtered, benchmarks=modin_benchmarks, name='filtered groupby statistics')\n",
    "\n",
    "other = groupby_statistics(modin_filtered)\n",
    "# other.columns = pd.Index([e[0]+'_' + e[1] for e in other.columns.tolist()])\n",
    "\n",
    "benchmark(join_count, modin_filtered, benchmarks=modin_benchmarks, name='filtered join count', other=other)\n",
    "benchmark(join_data, modin_filtered, benchmarks=modin_benchmarks, name='filtered join', other=other)"
   ]
  },
  {
   "cell_type": "code",
   "execution_count": 0,
   "metadata": {
    "application/vnd.databricks.v1+cell": {
     "cellMetadata": {
      "byteLimit": 2048000,
      "rowLimit": 10000
     },
     "inputWidgets": {},
     "nuid": "484a3038-3d52-4cd2-ab62-866bac28fb24",
     "showTitle": false,
     "title": ""
    }
   },
   "outputs": [
    {
     "output_type": "stream",
     "name": "stderr",
     "output_type": "stream",
     "text": [
      "UserWarning: `from_dict` is not currently supported by PandasOnDask, defaulting to pandas implementation.\n"
     ]
    },
    {
     "output_type": "display_data",
     "data": {
      "text/html": [
       "<div>\n",
       "<style scoped>\n",
       "    .dataframe tbody tr th:only-of-type {\n",
       "        vertical-align: middle;\n",
       "    }\n",
       "\n",
       "    .dataframe tbody tr th {\n",
       "        vertical-align: top;\n",
       "    }\n",
       "\n",
       "    .dataframe thead th {\n",
       "        text-align: right;\n",
       "    }\n",
       "</style>\n",
       "<table border=\"1\" class=\"dataframe\">\n",
       "  <thead>\n",
       "    <tr style=\"text-align: right;\">\n",
       "      <th></th>\n",
       "      <th>duration</th>\n",
       "    </tr>\n",
       "    <tr>\n",
       "      <th>task</th>\n",
       "      <th></th>\n",
       "    </tr>\n",
       "  </thead>\n",
       "  <tbody>\n",
       "    <tr>\n",
       "      <th>count</th>\n",
       "      <td>0.000138</td>\n",
       "    </tr>\n",
       "    <tr>\n",
       "      <th>count index length</th>\n",
       "      <td>0.000054</td>\n",
       "    </tr>\n",
       "    <tr>\n",
       "      <th>mean</th>\n",
       "      <td>0.193896</td>\n",
       "    </tr>\n",
       "    <tr>\n",
       "      <th>standard deviation</th>\n",
       "      <td>0.255140</td>\n",
       "    </tr>\n",
       "    <tr>\n",
       "      <th>mean of columns addition</th>\n",
       "      <td>2.337294</td>\n",
       "    </tr>\n",
       "    <tr>\n",
       "      <th>addition of columns</th>\n",
       "      <td>0.048213</td>\n",
       "    </tr>\n",
       "    <tr>\n",
       "      <th>mean of columns multiplication</th>\n",
       "      <td>0.524459</td>\n",
       "    </tr>\n",
       "    <tr>\n",
       "      <th>multiplication of columns</th>\n",
       "      <td>0.062045</td>\n",
       "    </tr>\n",
       "    <tr>\n",
       "      <th>value counts</th>\n",
       "      <td>0.800932</td>\n",
       "    </tr>\n",
       "    <tr>\n",
       "      <th>groupby statistics</th>\n",
       "      <td>3.698016</td>\n",
       "    </tr>\n",
       "    <tr>\n",
       "      <th>join count</th>\n",
       "      <td>3.215447</td>\n",
       "    </tr>\n",
       "    <tr>\n",
       "      <th>join</th>\n",
       "      <td>3.258288</td>\n",
       "    </tr>\n",
       "    <tr>\n",
       "      <th>filtered count</th>\n",
       "      <td>0.319910</td>\n",
       "    </tr>\n",
       "    <tr>\n",
       "      <th>filtered count index length</th>\n",
       "      <td>0.000070</td>\n",
       "    </tr>\n",
       "    <tr>\n",
       "      <th>filtered mean</th>\n",
       "      <td>0.175968</td>\n",
       "    </tr>\n",
       "    <tr>\n",
       "      <th>filtered standard deviation</th>\n",
       "      <td>0.224571</td>\n",
       "    </tr>\n",
       "    <tr>\n",
       "      <th>filtered mean of columns addition</th>\n",
       "      <td>0.317780</td>\n",
       "    </tr>\n",
       "    <tr>\n",
       "      <th>filtered addition of columns</th>\n",
       "      <td>0.042876</td>\n",
       "    </tr>\n",
       "    <tr>\n",
       "      <th>filtered mean of columns multiplication</th>\n",
       "      <td>0.449592</td>\n",
       "    </tr>\n",
       "    <tr>\n",
       "      <th>filtered multiplication of columns</th>\n",
       "      <td>0.042984</td>\n",
       "    </tr>\n",
       "    <tr>\n",
       "      <th>filtered value counts</th>\n",
       "      <td>0.840856</td>\n",
       "    </tr>\n",
       "    <tr>\n",
       "      <th>filtered groupby statistics</th>\n",
       "      <td>1.764766</td>\n",
       "    </tr>\n",
       "    <tr>\n",
       "      <th>filtered join count</th>\n",
       "      <td>4.052745</td>\n",
       "    </tr>\n",
       "    <tr>\n",
       "      <th>filtered join</th>\n",
       "      <td>2.885847</td>\n",
       "    </tr>\n",
       "  </tbody>\n",
       "</table>\n",
       "</div>"
      ]
     },
     "metadata": {
      "application/vnd.databricks.v1+output": {
       "addedWidgets": {},
       "arguments": {},
       "data": "<div>\n<style scoped>\n    .dataframe tbody tr th:only-of-type {\n        vertical-align: middle;\n    }\n\n    .dataframe tbody tr th {\n        vertical-align: top;\n    }\n\n    .dataframe thead th {\n        text-align: right;\n    }\n</style>\n<table border=\"1\" class=\"dataframe\">\n  <thead>\n    <tr style=\"text-align: right;\">\n      <th></th>\n      <th>duration</th>\n    </tr>\n    <tr>\n      <th>task</th>\n      <th></th>\n    </tr>\n  </thead>\n  <tbody>\n    <tr>\n      <th>count</th>\n      <td>0.000138</td>\n    </tr>\n    <tr>\n      <th>count index length</th>\n      <td>0.000054</td>\n    </tr>\n    <tr>\n      <th>mean</th>\n      <td>0.193896</td>\n    </tr>\n    <tr>\n      <th>standard deviation</th>\n      <td>0.255140</td>\n    </tr>\n    <tr>\n      <th>mean of columns addition</th>\n      <td>2.337294</td>\n    </tr>\n    <tr>\n      <th>addition of columns</th>\n      <td>0.048213</td>\n    </tr>\n    <tr>\n      <th>mean of columns multiplication</th>\n      <td>0.524459</td>\n    </tr>\n    <tr>\n      <th>multiplication of columns</th>\n      <td>0.062045</td>\n    </tr>\n    <tr>\n      <th>value counts</th>\n      <td>0.800932</td>\n    </tr>\n    <tr>\n      <th>groupby statistics</th>\n      <td>3.698016</td>\n    </tr>\n    <tr>\n      <th>join count</th>\n      <td>3.215447</td>\n    </tr>\n    <tr>\n      <th>join</th>\n      <td>3.258288</td>\n    </tr>\n    <tr>\n      <th>filtered count</th>\n      <td>0.319910</td>\n    </tr>\n    <tr>\n      <th>filtered count index length</th>\n      <td>0.000070</td>\n    </tr>\n    <tr>\n      <th>filtered mean</th>\n      <td>0.175968</td>\n    </tr>\n    <tr>\n      <th>filtered standard deviation</th>\n      <td>0.224571</td>\n    </tr>\n    <tr>\n      <th>filtered mean of columns addition</th>\n      <td>0.317780</td>\n    </tr>\n    <tr>\n      <th>filtered addition of columns</th>\n      <td>0.042876</td>\n    </tr>\n    <tr>\n      <th>filtered mean of columns multiplication</th>\n      <td>0.449592</td>\n    </tr>\n    <tr>\n      <th>filtered multiplication of columns</th>\n      <td>0.042984</td>\n    </tr>\n    <tr>\n      <th>filtered value counts</th>\n      <td>0.840856</td>\n    </tr>\n    <tr>\n      <th>filtered groupby statistics</th>\n      <td>1.764766</td>\n    </tr>\n    <tr>\n      <th>filtered join count</th>\n      <td>4.052745</td>\n    </tr>\n    <tr>\n      <th>filtered join</th>\n      <td>2.885847</td>\n    </tr>\n  </tbody>\n</table>\n</div>",
       "datasetInfos": [],
       "metadata": {},
       "removedWidgets": [],
       "textData": null,
       "type": "htmlSandbox"
      }
     },
     "output_type": "display_data"
    }
   ],
   "source": [
    "modin_res_temp = get_results(modin_benchmarks).set_index('task')\n",
    "modin_res_temp"
   ]
  },
  {
   "cell_type": "code",
   "execution_count": 0,
   "metadata": {
    "application/vnd.databricks.v1+cell": {
     "cellMetadata": {
      "byteLimit": 2048000,
      "rowLimit": 10000
     },
     "inputWidgets": {},
     "nuid": "b7dd2fab-2599-4506-b398-a1d8931850b4",
     "showTitle": false,
     "title": ""
    }
   },
   "outputs": [],
   "source": []
  },
  {
   "cell_type": "code",
   "execution_count": 0,
   "metadata": {
    "application/vnd.databricks.v1+cell": {
     "cellMetadata": {
      "byteLimit": 2048000,
      "rowLimit": 10000
     },
     "inputWidgets": {},
     "nuid": "19bab9f3-10cf-45a0-840e-a5ac6eae516e",
     "showTitle": false,
     "title": ""
    }
   },
   "outputs": [],
   "source": []
  },
  {
   "cell_type": "code",
   "execution_count": 0,
   "metadata": {
    "application/vnd.databricks.v1+cell": {
     "cellMetadata": {
      "byteLimit": 2048000,
      "rowLimit": 10000
     },
     "inputWidgets": {},
     "nuid": "9636aed0-7edd-450a-a4ae-8ba8cc39e76d",
     "showTitle": false,
     "title": ""
    }
   },
   "outputs": [],
   "source": []
  }
 ],
 "metadata": {
  "application/vnd.databricks.v1+notebook": {
   "dashboards": [],
   "environmentMetadata": null,
   "language": "python",
   "notebookMetadata": {
    "pythonIndentUnit": 4
   },
   "notebookName": "Modin",
   "widgets": {}
  }
 },
 "nbformat": 4,
 "nbformat_minor": 0
}
