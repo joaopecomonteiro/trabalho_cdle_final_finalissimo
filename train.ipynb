{
 "cells": [
  {
   "metadata": {},
   "cell_type": "markdown",
   "source": "Este notebook serviu para treinar os modelos para descobrir o fare_amount. Para este efeito decidimos usar o XGBRegressor como modelo e mean absolute error como avaliador de performance. Treinamos também um modelo com a informação de 1, 2 e 3 meses para verficar se o aumento de dados leva a uma melhor performance. Decidimos usar o polars para fazer o preprocessamento pois teve boa performance nos teste anteriormente feitos.",
   "id": "95f7ff01102e4808"
  },
  {
   "metadata": {},
   "cell_type": "code",
   "outputs": [],
   "execution_count": 49,
   "source": [
    "import polars as pl\n",
    "import pandas as pd\n",
    "import xgboost as xgb\n",
    "import numpy as np\n",
    "import os\n",
    "from sklearn.model_selection import train_test_split\n",
    "import matplotlib.pyplot as plt"
   ],
   "id": "initial_id"
  },
  {
   "metadata": {
    "ExecuteTime": {
     "end_time": "2024-06-07T17:50:58.011381Z",
     "start_time": "2024-06-07T17:50:58.008677Z"
    }
   },
   "cell_type": "code",
   "source": "data_path = \"data/\"",
   "id": "36d4b7736d12c6f8",
   "outputs": [],
   "execution_count": 2
  },
  {
   "metadata": {},
   "cell_type": "markdown",
   "source": "## Treinar com a informação de 1 mês",
   "id": "116d30f034b477d5"
  },
  {
   "metadata": {
    "ExecuteTime": {
     "end_time": "2024-06-07T17:50:59.905976Z",
     "start_time": "2024-06-07T17:50:58.921541Z"
    }
   },
   "cell_type": "code",
   "source": [
    "#Criação do dataframe fazendo a junção dos dados do número de meses respetivos\n",
    "\n",
    "dfs = []\n",
    "\n",
    "for filename in os.listdir(data_path)[:1]:\n",
    "    filepath = os.path.join(data_path, filename)\n",
    "    df = pd.read_parquet(filepath)\n",
    "    if 'airport_fee' in df.columns:\n",
    "        df.rename(columns={'airport_fee': 'Airport_fee'}, inplace=True)\n",
    "    dfs.append(df)\n",
    "    \n",
    "df = pl.from_pandas(pd.concat(dfs, ignore_index=True))\n"
   ],
   "id": "9438b05939cc9f79",
   "outputs": [],
   "execution_count": 3
  },
  {
   "metadata": {
    "ExecuteTime": {
     "end_time": "2024-06-07T17:51:00.504835Z",
     "start_time": "2024-06-07T17:51:00.431818Z"
    }
   },
   "cell_type": "code",
   "source": [
    "#Criação de uma coluna com o tempo em minutos que durou a viagem\n",
    "\n",
    "duration = (df['tpep_dropoff_datetime'] - df['tpep_pickup_datetime']).dt.total_seconds()/60\n",
    "df = df.with_columns(duration.alias(\"tpep_duration\"))"
   ],
   "id": "502a262a32e506e5",
   "outputs": [],
   "execution_count": 4
  },
  {
   "metadata": {
    "ExecuteTime": {
     "end_time": "2024-06-07T17:51:00.844364Z",
     "start_time": "2024-06-07T17:51:00.832238Z"
    }
   },
   "cell_type": "code",
   "source": [
    "#Verificação da exe«istência de linhas com valores nulos\n",
    "\n",
    "for column in df.columns:\n",
    "    if column != 'tpep_dropoff_datetime' and column != 'tpep_dropoff_datetime':\n",
    "        nans = df[column].is_null()\n",
    "        if len(nans.filter(nans)) > 0:\n",
    "            print(column, len(nans.filter(nans)))\n",
    "    "
   ],
   "id": "1c836299dfd16108",
   "outputs": [
    {
     "name": "stdout",
     "output_type": "stream",
     "text": [
      "passenger_count 99887\n",
      "RatecodeID 99887\n",
      "store_and_fwd_flag 99887\n",
      "congestion_surcharge 99887\n",
      "Airport_fee 99887\n"
     ]
    }
   ],
   "execution_count": 5
  },
  {
   "metadata": {
    "ExecuteTime": {
     "end_time": "2024-06-07T17:51:01.470284Z",
     "start_time": "2024-06-07T17:51:01.452771Z"
    }
   },
   "cell_type": "code",
   "source": [
    "#Eliminação das linhas com valores nulos\n",
    "\n",
    "df = df.drop_nulls()"
   ],
   "id": "f479280e186e85f3",
   "outputs": [],
   "execution_count": 6
  },
  {
   "metadata": {
    "ExecuteTime": {
     "end_time": "2024-06-07T17:51:01.835281Z",
     "start_time": "2024-06-07T17:51:01.796313Z"
    }
   },
   "cell_type": "code",
   "source": "df['store_and_fwd_flag'].unique()",
   "id": "f89d5084c0792558",
   "outputs": [
    {
     "data": {
      "text/plain": [
       "shape: (2,)\n",
       "Series: 'store_and_fwd_flag' [str]\n",
       "[\n",
       "\t\"Y\"\n",
       "\t\"N\"\n",
       "]"
      ],
      "text/html": [
       "<div><style>\n",
       ".dataframe > thead > tr,\n",
       ".dataframe > tbody > tr {\n",
       "  text-align: right;\n",
       "  white-space: pre-wrap;\n",
       "}\n",
       "</style>\n",
       "<small>shape: (2,)</small><table border=\"1\" class=\"dataframe\"><thead><tr><th>store_and_fwd_flag</th></tr><tr><td>str</td></tr></thead><tbody><tr><td>&quot;Y&quot;</td></tr><tr><td>&quot;N&quot;</td></tr></tbody></table></div>"
      ]
     },
     "execution_count": 7,
     "metadata": {},
     "output_type": "execute_result"
    }
   ],
   "execution_count": 7
  },
  {
   "metadata": {
    "ExecuteTime": {
     "end_time": "2024-06-07T17:51:02.071553Z",
     "start_time": "2024-06-07T17:51:02.058171Z"
    }
   },
   "cell_type": "code",
   "source": [
    "#Mapeamento dos valores da coluna \"store_and_fwd_flag\" para valores binários\n",
    "\n",
    "df = df.with_columns(\n",
    "    pl.when(pl.col('store_and_fwd_flag') == 'Y')\n",
    "    .then(1)\n",
    "    .otherwise(0)\n",
    "    .alias('store_and_fwd_flag')\n",
    ")\n"
   ],
   "id": "823a1f31dae5f7d9",
   "execution_count": 8,
   "outputs": []
  },
  {
   "metadata": {
    "ExecuteTime": {
     "end_time": "2024-06-07T17:51:02.484735Z",
     "start_time": "2024-06-07T17:51:02.479547Z"
    }
   },
   "cell_type": "code",
   "source": [
    "#Criação de uma lista com o nome das colunas a ser usadas para a inferência\n",
    "\n",
    "columns = df.columns\n",
    "x_cols = [column for column in columns if column != 'tpep_dropoff_datetime' and column != 'tpep_pickup_datetime' and column != 'VendorID' and column != 'fare_amount' and column != \"total_amount\"]\n",
    "x_cols"
   ],
   "id": "185bacf6a50cc37f",
   "outputs": [
    {
     "data": {
      "text/plain": [
       "['passenger_count',\n",
       " 'trip_distance',\n",
       " 'RatecodeID',\n",
       " 'store_and_fwd_flag',\n",
       " 'PULocationID',\n",
       " 'DOLocationID',\n",
       " 'payment_type',\n",
       " 'extra',\n",
       " 'mta_tax',\n",
       " 'tip_amount',\n",
       " 'tolls_amount',\n",
       " 'improvement_surcharge',\n",
       " 'congestion_surcharge',\n",
       " 'Airport_fee',\n",
       " 'tpep_duration']"
      ]
     },
     "execution_count": 9,
     "metadata": {},
     "output_type": "execute_result"
    }
   ],
   "execution_count": 9
  },
  {
   "metadata": {
    "ExecuteTime": {
     "end_time": "2024-06-07T17:51:02.953403Z",
     "start_time": "2024-06-07T17:51:02.950452Z"
    }
   },
   "cell_type": "code",
   "source": [
    "#Criação de uma lista com a coluna que queremos prever\n",
    "\n",
    "y_col = [\"fare_amount\"]"
   ],
   "id": "117cb26ec6d23d7c",
   "outputs": [],
   "execution_count": 10
  },
  {
   "metadata": {
    "ExecuteTime": {
     "end_time": "2024-06-07T17:51:03.401773Z",
     "start_time": "2024-06-07T17:51:03.396487Z"
    }
   },
   "cell_type": "code",
   "source": [
    "#Criação do dataframe com as colunas para a inferência\n",
    "\n",
    "X = df[x_cols]\n",
    "X.head()"
   ],
   "id": "42b00a7318211540",
   "outputs": [
    {
     "data": {
      "text/plain": [
       "shape: (5, 15)\n",
       "┌───────────┬───────────┬───────────┬───────────┬───┬───────────┬───────────┬───────────┬──────────┐\n",
       "│ passenger ┆ trip_dist ┆ RatecodeI ┆ store_and ┆ … ┆ improveme ┆ congestio ┆ Airport_f ┆ tpep_dur │\n",
       "│ _count    ┆ ance      ┆ D         ┆ _fwd_flag ┆   ┆ nt_surcha ┆ n_surchar ┆ ee        ┆ ation    │\n",
       "│ ---       ┆ ---       ┆ ---       ┆ ---       ┆   ┆ rge       ┆ ge        ┆ ---       ┆ ---      │\n",
       "│ f64       ┆ f64       ┆ f64       ┆ i32       ┆   ┆ ---       ┆ ---       ┆ f64       ┆ f64      │\n",
       "│           ┆           ┆           ┆           ┆   ┆ f64       ┆ f64       ┆           ┆          │\n",
       "╞═══════════╪═══════════╪═══════════╪═══════════╪═══╪═══════════╪═══════════╪═══════════╪══════════╡\n",
       "│ 1.0       ┆ 3.4       ┆ 1.0       ┆ 0         ┆ … ┆ 1.0       ┆ 2.5       ┆ 0.0       ┆ 20.88333 │\n",
       "│           ┆           ┆           ┆           ┆   ┆           ┆           ┆           ┆ 3        │\n",
       "│ 0.0       ┆ 3.4       ┆ 1.0       ┆ 0         ┆ … ┆ 1.0       ┆ 2.5       ┆ 0.0       ┆ 10.23333 │\n",
       "│           ┆           ┆           ┆           ┆   ┆           ┆           ┆           ┆ 3        │\n",
       "│ 1.0       ┆ 10.2      ┆ 1.0       ┆ 0         ┆ … ┆ 1.0       ┆ 0.0       ┆ 1.75      ┆ 18.71666 │\n",
       "│           ┆           ┆           ┆           ┆   ┆           ┆           ┆           ┆ 7        │\n",
       "│ 3.0       ┆ 9.83      ┆ 1.0       ┆ 0         ┆ … ┆ 1.0       ┆ 2.5       ┆ 0.0       ┆ 23.43333 │\n",
       "│           ┆           ┆           ┆           ┆   ┆           ┆           ┆           ┆ 3        │\n",
       "│ 1.0       ┆ 1.17      ┆ 1.0       ┆ 0         ┆ … ┆ 1.0       ┆ 2.5       ┆ 0.0       ┆ 8.566667 │\n",
       "└───────────┴───────────┴───────────┴───────────┴───┴───────────┴───────────┴───────────┴──────────┘"
      ],
      "text/html": [
       "<div><style>\n",
       ".dataframe > thead > tr,\n",
       ".dataframe > tbody > tr {\n",
       "  text-align: right;\n",
       "  white-space: pre-wrap;\n",
       "}\n",
       "</style>\n",
       "<small>shape: (5, 15)</small><table border=\"1\" class=\"dataframe\"><thead><tr><th>passenger_count</th><th>trip_distance</th><th>RatecodeID</th><th>store_and_fwd_flag</th><th>PULocationID</th><th>DOLocationID</th><th>payment_type</th><th>extra</th><th>mta_tax</th><th>tip_amount</th><th>tolls_amount</th><th>improvement_surcharge</th><th>congestion_surcharge</th><th>Airport_fee</th><th>tpep_duration</th></tr><tr><td>f64</td><td>f64</td><td>f64</td><td>i32</td><td>i32</td><td>i32</td><td>i64</td><td>f64</td><td>f64</td><td>f64</td><td>f64</td><td>f64</td><td>f64</td><td>f64</td><td>f64</td></tr></thead><tbody><tr><td>1.0</td><td>3.4</td><td>1.0</td><td>0</td><td>140</td><td>238</td><td>1</td><td>3.5</td><td>0.5</td><td>6.7</td><td>0.0</td><td>1.0</td><td>2.5</td><td>0.0</td><td>20.883333</td></tr><tr><td>0.0</td><td>3.4</td><td>1.0</td><td>0</td><td>50</td><td>151</td><td>1</td><td>3.5</td><td>0.5</td><td>3.0</td><td>0.0</td><td>1.0</td><td>2.5</td><td>0.0</td><td>10.233333</td></tr><tr><td>1.0</td><td>10.2</td><td>1.0</td><td>0</td><td>138</td><td>97</td><td>1</td><td>7.75</td><td>0.5</td><td>10.0</td><td>0.0</td><td>1.0</td><td>0.0</td><td>1.75</td><td>18.716667</td></tr><tr><td>3.0</td><td>9.83</td><td>1.0</td><td>0</td><td>100</td><td>244</td><td>1</td><td>1.0</td><td>0.5</td><td>8.88</td><td>0.0</td><td>1.0</td><td>2.5</td><td>0.0</td><td>23.433333</td></tr><tr><td>1.0</td><td>1.17</td><td>1.0</td><td>0</td><td>137</td><td>234</td><td>1</td><td>1.0</td><td>0.5</td><td>0.72</td><td>0.0</td><td>1.0</td><td>2.5</td><td>0.0</td><td>8.566667</td></tr></tbody></table></div>"
      ]
     },
     "execution_count": 11,
     "metadata": {},
     "output_type": "execute_result"
    }
   ],
   "execution_count": 11
  },
  {
   "metadata": {
    "ExecuteTime": {
     "end_time": "2024-06-07T17:51:03.809923Z",
     "start_time": "2024-06-07T17:51:03.805254Z"
    }
   },
   "cell_type": "code",
   "source": [
    "#Criação do dataframe com a coluna que queremos prever\n",
    "\n",
    "y = df[y_col]\n",
    "y"
   ],
   "id": "451b9dadd6a02c84",
   "outputs": [
    {
     "data": {
      "text/plain": [
       "shape: (3_207_347, 1)\n",
       "┌─────────────┐\n",
       "│ fare_amount │\n",
       "│ ---         │\n",
       "│ f64         │\n",
       "╞═════════════╡\n",
       "│ 21.9        │\n",
       "│ 15.6        │\n",
       "│ 40.8        │\n",
       "│ 39.4        │\n",
       "│ 9.3         │\n",
       "│ …           │\n",
       "│ 12.8        │\n",
       "│ 12.8        │\n",
       "│ 17.7        │\n",
       "│ 42.9        │\n",
       "│ 12.1        │\n",
       "└─────────────┘"
      ],
      "text/html": [
       "<div><style>\n",
       ".dataframe > thead > tr,\n",
       ".dataframe > tbody > tr {\n",
       "  text-align: right;\n",
       "  white-space: pre-wrap;\n",
       "}\n",
       "</style>\n",
       "<small>shape: (3_207_347, 1)</small><table border=\"1\" class=\"dataframe\"><thead><tr><th>fare_amount</th></tr><tr><td>f64</td></tr></thead><tbody><tr><td>21.9</td></tr><tr><td>15.6</td></tr><tr><td>40.8</td></tr><tr><td>39.4</td></tr><tr><td>9.3</td></tr><tr><td>&hellip;</td></tr><tr><td>12.8</td></tr><tr><td>12.8</td></tr><tr><td>17.7</td></tr><tr><td>42.9</td></tr><tr><td>12.1</td></tr></tbody></table></div>"
      ]
     },
     "execution_count": 12,
     "metadata": {},
     "output_type": "execute_result"
    }
   ],
   "execution_count": 12
  },
  {
   "metadata": {
    "ExecuteTime": {
     "end_time": "2024-06-07T17:51:04.735886Z",
     "start_time": "2024-06-07T17:51:04.242990Z"
    }
   },
   "cell_type": "code",
   "source": [
    "#Criação dos dataframes de treino e teste\n",
    "\n",
    "X_train, X_test, y_train, y_test = train_test_split(X, y, test_size=0.3)"
   ],
   "id": "5c37baf86b3f2b36",
   "outputs": [],
   "execution_count": 13
  },
  {
   "metadata": {
    "ExecuteTime": {
     "end_time": "2024-06-07T17:51:04.878490Z",
     "start_time": "2024-06-07T17:51:04.873850Z"
    }
   },
   "cell_type": "code",
   "source": "X_train.shape, X_train.shape",
   "id": "d8273bb702655986",
   "outputs": [
    {
     "data": {
      "text/plain": [
       "((2245142, 15), (2245142, 15))"
      ]
     },
     "execution_count": 14,
     "metadata": {},
     "output_type": "execute_result"
    }
   ],
   "execution_count": 14
  },
  {
   "metadata": {
    "ExecuteTime": {
     "end_time": "2024-06-07T17:51:16.014740Z",
     "start_time": "2024-06-07T17:51:05.462279Z"
    }
   },
   "cell_type": "code",
   "source": [
    "#Treino do modelo \n",
    "\n",
    "one_month_model = xgb.XGBRegressor()\n",
    "one_month_model.fit(X, y)"
   ],
   "id": "3e3ed6f6089a052a",
   "outputs": [
    {
     "data": {
      "text/plain": [
       "XGBRegressor(base_score=None, booster=None, callbacks=None,\n",
       "             colsample_bylevel=None, colsample_bynode=None,\n",
       "             colsample_bytree=None, device=None, early_stopping_rounds=None,\n",
       "             enable_categorical=False, eval_metric=None, feature_types=None,\n",
       "             gamma=None, grow_policy=None, importance_type=None,\n",
       "             interaction_constraints=None, learning_rate=None, max_bin=None,\n",
       "             max_cat_threshold=None, max_cat_to_onehot=None,\n",
       "             max_delta_step=None, max_depth=None, max_leaves=None,\n",
       "             min_child_weight=None, missing=nan, monotone_constraints=None,\n",
       "             multi_strategy=None, n_estimators=None, n_jobs=None,\n",
       "             num_parallel_tree=None, random_state=None, ...)"
      ],
      "text/html": [
       "<style>#sk-container-id-1 {color: black;}#sk-container-id-1 pre{padding: 0;}#sk-container-id-1 div.sk-toggleable {background-color: white;}#sk-container-id-1 label.sk-toggleable__label {cursor: pointer;display: block;width: 100%;margin-bottom: 0;padding: 0.3em;box-sizing: border-box;text-align: center;}#sk-container-id-1 label.sk-toggleable__label-arrow:before {content: \"▸\";float: left;margin-right: 0.25em;color: #696969;}#sk-container-id-1 label.sk-toggleable__label-arrow:hover:before {color: black;}#sk-container-id-1 div.sk-estimator:hover label.sk-toggleable__label-arrow:before {color: black;}#sk-container-id-1 div.sk-toggleable__content {max-height: 0;max-width: 0;overflow: hidden;text-align: left;background-color: #f0f8ff;}#sk-container-id-1 div.sk-toggleable__content pre {margin: 0.2em;color: black;border-radius: 0.25em;background-color: #f0f8ff;}#sk-container-id-1 input.sk-toggleable__control:checked~div.sk-toggleable__content {max-height: 200px;max-width: 100%;overflow: auto;}#sk-container-id-1 input.sk-toggleable__control:checked~label.sk-toggleable__label-arrow:before {content: \"▾\";}#sk-container-id-1 div.sk-estimator input.sk-toggleable__control:checked~label.sk-toggleable__label {background-color: #d4ebff;}#sk-container-id-1 div.sk-label input.sk-toggleable__control:checked~label.sk-toggleable__label {background-color: #d4ebff;}#sk-container-id-1 input.sk-hidden--visually {border: 0;clip: rect(1px 1px 1px 1px);clip: rect(1px, 1px, 1px, 1px);height: 1px;margin: -1px;overflow: hidden;padding: 0;position: absolute;width: 1px;}#sk-container-id-1 div.sk-estimator {font-family: monospace;background-color: #f0f8ff;border: 1px dotted black;border-radius: 0.25em;box-sizing: border-box;margin-bottom: 0.5em;}#sk-container-id-1 div.sk-estimator:hover {background-color: #d4ebff;}#sk-container-id-1 div.sk-parallel-item::after {content: \"\";width: 100%;border-bottom: 1px solid gray;flex-grow: 1;}#sk-container-id-1 div.sk-label:hover label.sk-toggleable__label {background-color: #d4ebff;}#sk-container-id-1 div.sk-serial::before {content: \"\";position: absolute;border-left: 1px solid gray;box-sizing: border-box;top: 0;bottom: 0;left: 50%;z-index: 0;}#sk-container-id-1 div.sk-serial {display: flex;flex-direction: column;align-items: center;background-color: white;padding-right: 0.2em;padding-left: 0.2em;position: relative;}#sk-container-id-1 div.sk-item {position: relative;z-index: 1;}#sk-container-id-1 div.sk-parallel {display: flex;align-items: stretch;justify-content: center;background-color: white;position: relative;}#sk-container-id-1 div.sk-item::before, #sk-container-id-1 div.sk-parallel-item::before {content: \"\";position: absolute;border-left: 1px solid gray;box-sizing: border-box;top: 0;bottom: 0;left: 50%;z-index: -1;}#sk-container-id-1 div.sk-parallel-item {display: flex;flex-direction: column;z-index: 1;position: relative;background-color: white;}#sk-container-id-1 div.sk-parallel-item:first-child::after {align-self: flex-end;width: 50%;}#sk-container-id-1 div.sk-parallel-item:last-child::after {align-self: flex-start;width: 50%;}#sk-container-id-1 div.sk-parallel-item:only-child::after {width: 0;}#sk-container-id-1 div.sk-dashed-wrapped {border: 1px dashed gray;margin: 0 0.4em 0.5em 0.4em;box-sizing: border-box;padding-bottom: 0.4em;background-color: white;}#sk-container-id-1 div.sk-label label {font-family: monospace;font-weight: bold;display: inline-block;line-height: 1.2em;}#sk-container-id-1 div.sk-label-container {text-align: center;}#sk-container-id-1 div.sk-container {/* jupyter's `normalize.less` sets `[hidden] { display: none; }` but bootstrap.min.css set `[hidden] { display: none !important; }` so we also need the `!important` here to be able to override the default hidden behavior on the sphinx rendered scikit-learn.org. See: https://github.com/scikit-learn/scikit-learn/issues/21755 */display: inline-block !important;position: relative;}#sk-container-id-1 div.sk-text-repr-fallback {display: none;}</style><div id=\"sk-container-id-1\" class=\"sk-top-container\"><div class=\"sk-text-repr-fallback\"><pre>XGBRegressor(base_score=None, booster=None, callbacks=None,\n",
       "             colsample_bylevel=None, colsample_bynode=None,\n",
       "             colsample_bytree=None, device=None, early_stopping_rounds=None,\n",
       "             enable_categorical=False, eval_metric=None, feature_types=None,\n",
       "             gamma=None, grow_policy=None, importance_type=None,\n",
       "             interaction_constraints=None, learning_rate=None, max_bin=None,\n",
       "             max_cat_threshold=None, max_cat_to_onehot=None,\n",
       "             max_delta_step=None, max_depth=None, max_leaves=None,\n",
       "             min_child_weight=None, missing=nan, monotone_constraints=None,\n",
       "             multi_strategy=None, n_estimators=None, n_jobs=None,\n",
       "             num_parallel_tree=None, random_state=None, ...)</pre><b>In a Jupyter environment, please rerun this cell to show the HTML representation or trust the notebook. <br />On GitHub, the HTML representation is unable to render, please try loading this page with nbviewer.org.</b></div><div class=\"sk-container\" hidden><div class=\"sk-item\"><div class=\"sk-estimator sk-toggleable\"><input class=\"sk-toggleable__control sk-hidden--visually\" id=\"sk-estimator-id-1\" type=\"checkbox\" checked><label for=\"sk-estimator-id-1\" class=\"sk-toggleable__label sk-toggleable__label-arrow\">XGBRegressor</label><div class=\"sk-toggleable__content\"><pre>XGBRegressor(base_score=None, booster=None, callbacks=None,\n",
       "             colsample_bylevel=None, colsample_bynode=None,\n",
       "             colsample_bytree=None, device=None, early_stopping_rounds=None,\n",
       "             enable_categorical=False, eval_metric=None, feature_types=None,\n",
       "             gamma=None, grow_policy=None, importance_type=None,\n",
       "             interaction_constraints=None, learning_rate=None, max_bin=None,\n",
       "             max_cat_threshold=None, max_cat_to_onehot=None,\n",
       "             max_delta_step=None, max_depth=None, max_leaves=None,\n",
       "             min_child_weight=None, missing=nan, monotone_constraints=None,\n",
       "             multi_strategy=None, n_estimators=None, n_jobs=None,\n",
       "             num_parallel_tree=None, random_state=None, ...)</pre></div></div></div></div></div>"
      ]
     },
     "execution_count": 15,
     "metadata": {},
     "output_type": "execute_result"
    }
   ],
   "execution_count": 15
  },
  {
   "metadata": {
    "ExecuteTime": {
     "end_time": "2024-06-07T17:51:16.560253Z",
     "start_time": "2024-06-07T17:51:16.015840Z"
    }
   },
   "cell_type": "code",
   "source": [
    "#Obtenção das previsões\n",
    "\n",
    "one_month_preds = one_month_model.predict(X_test)"
   ],
   "id": "58367bfa5332621e",
   "outputs": [],
   "execution_count": 16
  },
  {
   "metadata": {
    "ExecuteTime": {
     "end_time": "2024-06-07T17:51:16.576070Z",
     "start_time": "2024-06-07T17:51:16.561362Z"
    }
   },
   "cell_type": "code",
   "source": [
    "#Cálculo do mean absolute error\n",
    "\n",
    "from sklearn.metrics import mean_absolute_error\n",
    "one_month_mae = mean_absolute_error(y_test, one_month_preds)\n",
    "print(one_month_mae)"
   ],
   "id": "9ccb7b59bd5fc189",
   "outputs": [
    {
     "name": "stdout",
     "output_type": "stream",
     "text": [
      "1.7380372830880502\n"
     ]
    }
   ],
   "execution_count": 17
  },
  {
   "metadata": {},
   "cell_type": "markdown",
   "source": "## Treinar com a informação de 2 meses",
   "id": "7a094d12704faebb"
  },
  {
   "metadata": {
    "ExecuteTime": {
     "end_time": "2024-06-07T17:54:09.261006Z",
     "start_time": "2024-06-07T17:54:07.511941Z"
    }
   },
   "cell_type": "code",
   "source": [
    "dfs = []\n",
    "\n",
    "for filename in os.listdir(data_path)[:2]:\n",
    "    filepath = os.path.join(data_path, filename)\n",
    "    df = pd.read_parquet(filepath)\n",
    "    if 'airport_fee' in df.columns:\n",
    "        # Rename the column to \"Airport_fee\"\n",
    "        df.rename(columns={'airport_fee': 'Airport_fee'}, inplace=True)\n",
    "    dfs.append(df)\n",
    "    \n",
    "df = pl.from_pandas(pd.concat(dfs, ignore_index=True))\n"
   ],
   "id": "c678d3e4bdb24786",
   "outputs": [],
   "execution_count": 18
  },
  {
   "metadata": {
    "ExecuteTime": {
     "end_time": "2024-06-07T17:54:09.375601Z",
     "start_time": "2024-06-07T17:54:09.262469Z"
    }
   },
   "cell_type": "code",
   "source": [
    "duration = (df['tpep_dropoff_datetime'] - df['tpep_pickup_datetime']).dt.total_seconds()/60\n",
    "df = df.with_columns(duration.alias(\"tpep_duration\"))"
   ],
   "id": "57f03411d0e96236",
   "outputs": [],
   "execution_count": 19
  },
  {
   "metadata": {
    "ExecuteTime": {
     "end_time": "2024-06-07T17:54:09.389124Z",
     "start_time": "2024-06-07T17:54:09.377313Z"
    }
   },
   "cell_type": "code",
   "source": [
    "for column in df.columns:\n",
    "    if column != 'tpep_dropoff_datetime' and column != 'tpep_dropoff_datetime':\n",
    "        nans = df[column].is_null()\n",
    "        if len(nans.filter(nans)) > 0:\n",
    "            print(column, len(nans.filter(nans)))\n",
    "    "
   ],
   "id": "e92b020183fb2dd9",
   "outputs": [
    {
     "name": "stdout",
     "output_type": "stream",
     "text": [
      "passenger_count 187506\n",
      "RatecodeID 187506\n",
      "store_and_fwd_flag 187506\n",
      "congestion_surcharge 187506\n",
      "Airport_fee 187506\n"
     ]
    }
   ],
   "execution_count": 20
  },
  {
   "metadata": {
    "ExecuteTime": {
     "end_time": "2024-06-07T17:54:09.423966Z",
     "start_time": "2024-06-07T17:54:09.391281Z"
    }
   },
   "cell_type": "code",
   "source": "df = df.drop_nulls()",
   "id": "88860cff05251b14",
   "outputs": [],
   "execution_count": 21
  },
  {
   "metadata": {
    "ExecuteTime": {
     "end_time": "2024-06-07T17:54:09.492759Z",
     "start_time": "2024-06-07T17:54:09.425197Z"
    }
   },
   "cell_type": "code",
   "source": "df['store_and_fwd_flag'].unique()",
   "id": "66afc45e96759fe2",
   "outputs": [
    {
     "data": {
      "text/plain": [
       "shape: (2,)\n",
       "Series: 'store_and_fwd_flag' [str]\n",
       "[\n",
       "\t\"Y\"\n",
       "\t\"N\"\n",
       "]"
      ],
      "text/html": [
       "<div><style>\n",
       ".dataframe > thead > tr,\n",
       ".dataframe > tbody > tr {\n",
       "  text-align: right;\n",
       "  white-space: pre-wrap;\n",
       "}\n",
       "</style>\n",
       "<small>shape: (2,)</small><table border=\"1\" class=\"dataframe\"><thead><tr><th>store_and_fwd_flag</th></tr><tr><td>str</td></tr></thead><tbody><tr><td>&quot;Y&quot;</td></tr><tr><td>&quot;N&quot;</td></tr></tbody></table></div>"
      ]
     },
     "execution_count": 22,
     "metadata": {},
     "output_type": "execute_result"
    }
   ],
   "execution_count": 22
  },
  {
   "metadata": {
    "ExecuteTime": {
     "end_time": "2024-06-07T17:54:09.787947Z",
     "start_time": "2024-06-07T17:54:09.770916Z"
    }
   },
   "cell_type": "code",
   "source": [
    "df = df.with_columns(\n",
    "    pl.when(pl.col('store_and_fwd_flag') == 'Y')\n",
    "    .then(1)\n",
    "    .otherwise(0)\n",
    "    .alias('store_and_fwd_flag')\n",
    ")\n"
   ],
   "id": "d32bee5e378759b6",
   "outputs": [],
   "execution_count": 23
  },
  {
   "metadata": {
    "ExecuteTime": {
     "end_time": "2024-06-07T17:54:10.194435Z",
     "start_time": "2024-06-07T17:54:10.190274Z"
    }
   },
   "cell_type": "code",
   "source": [
    "columns = df.columns\n",
    "x_cols = [column for column in columns if column != 'tpep_dropoff_datetime' and column != 'tpep_pickup_datetime' and column != 'VendorID' and column != 'fare_amount' and column != \"total_amount\"]\n",
    "x_cols"
   ],
   "id": "b69b317907d4c353",
   "outputs": [
    {
     "data": {
      "text/plain": [
       "['passenger_count',\n",
       " 'trip_distance',\n",
       " 'RatecodeID',\n",
       " 'store_and_fwd_flag',\n",
       " 'PULocationID',\n",
       " 'DOLocationID',\n",
       " 'payment_type',\n",
       " 'extra',\n",
       " 'mta_tax',\n",
       " 'tip_amount',\n",
       " 'tolls_amount',\n",
       " 'improvement_surcharge',\n",
       " 'congestion_surcharge',\n",
       " 'Airport_fee',\n",
       " 'tpep_duration']"
      ]
     },
     "execution_count": 24,
     "metadata": {},
     "output_type": "execute_result"
    }
   ],
   "execution_count": 24
  },
  {
   "metadata": {
    "ExecuteTime": {
     "end_time": "2024-06-07T17:54:10.730520Z",
     "start_time": "2024-06-07T17:54:10.727234Z"
    }
   },
   "cell_type": "code",
   "source": "y_col = [\"fare_amount\"]",
   "id": "c1cb9f39245b3f09",
   "outputs": [],
   "execution_count": 25
  },
  {
   "metadata": {
    "ExecuteTime": {
     "end_time": "2024-06-07T17:54:11.173664Z",
     "start_time": "2024-06-07T17:54:11.166994Z"
    }
   },
   "cell_type": "code",
   "source": [
    "X = df[x_cols]\n",
    "X.head()"
   ],
   "id": "9b1feb5f74fe1d6",
   "outputs": [
    {
     "data": {
      "text/plain": [
       "shape: (5, 15)\n",
       "┌───────────┬───────────┬───────────┬───────────┬───┬───────────┬───────────┬───────────┬──────────┐\n",
       "│ passenger ┆ trip_dist ┆ RatecodeI ┆ store_and ┆ … ┆ improveme ┆ congestio ┆ Airport_f ┆ tpep_dur │\n",
       "│ _count    ┆ ance      ┆ D         ┆ _fwd_flag ┆   ┆ nt_surcha ┆ n_surchar ┆ ee        ┆ ation    │\n",
       "│ ---       ┆ ---       ┆ ---       ┆ ---       ┆   ┆ rge       ┆ ge        ┆ ---       ┆ ---      │\n",
       "│ f64       ┆ f64       ┆ f64       ┆ i32       ┆   ┆ ---       ┆ ---       ┆ f64       ┆ f64      │\n",
       "│           ┆           ┆           ┆           ┆   ┆ f64       ┆ f64       ┆           ┆          │\n",
       "╞═══════════╪═══════════╪═══════════╪═══════════╪═══╪═══════════╪═══════════╪═══════════╪══════════╡\n",
       "│ 1.0       ┆ 3.4       ┆ 1.0       ┆ 0         ┆ … ┆ 1.0       ┆ 2.5       ┆ 0.0       ┆ 20.88333 │\n",
       "│           ┆           ┆           ┆           ┆   ┆           ┆           ┆           ┆ 3        │\n",
       "│ 0.0       ┆ 3.4       ┆ 1.0       ┆ 0         ┆ … ┆ 1.0       ┆ 2.5       ┆ 0.0       ┆ 10.23333 │\n",
       "│           ┆           ┆           ┆           ┆   ┆           ┆           ┆           ┆ 3        │\n",
       "│ 1.0       ┆ 10.2      ┆ 1.0       ┆ 0         ┆ … ┆ 1.0       ┆ 0.0       ┆ 1.75      ┆ 18.71666 │\n",
       "│           ┆           ┆           ┆           ┆   ┆           ┆           ┆           ┆ 7        │\n",
       "│ 3.0       ┆ 9.83      ┆ 1.0       ┆ 0         ┆ … ┆ 1.0       ┆ 2.5       ┆ 0.0       ┆ 23.43333 │\n",
       "│           ┆           ┆           ┆           ┆   ┆           ┆           ┆           ┆ 3        │\n",
       "│ 1.0       ┆ 1.17      ┆ 1.0       ┆ 0         ┆ … ┆ 1.0       ┆ 2.5       ┆ 0.0       ┆ 8.566667 │\n",
       "└───────────┴───────────┴───────────┴───────────┴───┴───────────┴───────────┴───────────┴──────────┘"
      ],
      "text/html": [
       "<div><style>\n",
       ".dataframe > thead > tr,\n",
       ".dataframe > tbody > tr {\n",
       "  text-align: right;\n",
       "  white-space: pre-wrap;\n",
       "}\n",
       "</style>\n",
       "<small>shape: (5, 15)</small><table border=\"1\" class=\"dataframe\"><thead><tr><th>passenger_count</th><th>trip_distance</th><th>RatecodeID</th><th>store_and_fwd_flag</th><th>PULocationID</th><th>DOLocationID</th><th>payment_type</th><th>extra</th><th>mta_tax</th><th>tip_amount</th><th>tolls_amount</th><th>improvement_surcharge</th><th>congestion_surcharge</th><th>Airport_fee</th><th>tpep_duration</th></tr><tr><td>f64</td><td>f64</td><td>f64</td><td>i32</td><td>i32</td><td>i32</td><td>i64</td><td>f64</td><td>f64</td><td>f64</td><td>f64</td><td>f64</td><td>f64</td><td>f64</td><td>f64</td></tr></thead><tbody><tr><td>1.0</td><td>3.4</td><td>1.0</td><td>0</td><td>140</td><td>238</td><td>1</td><td>3.5</td><td>0.5</td><td>6.7</td><td>0.0</td><td>1.0</td><td>2.5</td><td>0.0</td><td>20.883333</td></tr><tr><td>0.0</td><td>3.4</td><td>1.0</td><td>0</td><td>50</td><td>151</td><td>1</td><td>3.5</td><td>0.5</td><td>3.0</td><td>0.0</td><td>1.0</td><td>2.5</td><td>0.0</td><td>10.233333</td></tr><tr><td>1.0</td><td>10.2</td><td>1.0</td><td>0</td><td>138</td><td>97</td><td>1</td><td>7.75</td><td>0.5</td><td>10.0</td><td>0.0</td><td>1.0</td><td>0.0</td><td>1.75</td><td>18.716667</td></tr><tr><td>3.0</td><td>9.83</td><td>1.0</td><td>0</td><td>100</td><td>244</td><td>1</td><td>1.0</td><td>0.5</td><td>8.88</td><td>0.0</td><td>1.0</td><td>2.5</td><td>0.0</td><td>23.433333</td></tr><tr><td>1.0</td><td>1.17</td><td>1.0</td><td>0</td><td>137</td><td>234</td><td>1</td><td>1.0</td><td>0.5</td><td>0.72</td><td>0.0</td><td>1.0</td><td>2.5</td><td>0.0</td><td>8.566667</td></tr></tbody></table></div>"
      ]
     },
     "execution_count": 26,
     "metadata": {},
     "output_type": "execute_result"
    }
   ],
   "execution_count": 26
  },
  {
   "metadata": {
    "ExecuteTime": {
     "end_time": "2024-06-07T17:54:11.707225Z",
     "start_time": "2024-06-07T17:54:11.702593Z"
    }
   },
   "cell_type": "code",
   "source": [
    "y = df[y_col]\n",
    "y"
   ],
   "id": "5868ff7a1409297e",
   "outputs": [
    {
     "data": {
      "text/plain": [
       "shape: (6_523_494, 1)\n",
       "┌─────────────┐\n",
       "│ fare_amount │\n",
       "│ ---         │\n",
       "│ f64         │\n",
       "╞═════════════╡\n",
       "│ 21.9        │\n",
       "│ 15.6        │\n",
       "│ 40.8        │\n",
       "│ 39.4        │\n",
       "│ 9.3         │\n",
       "│ …           │\n",
       "│ 11.4        │\n",
       "│ 5.1         │\n",
       "│ 15.6        │\n",
       "│ 10.7        │\n",
       "│ 16.3        │\n",
       "└─────────────┘"
      ],
      "text/html": [
       "<div><style>\n",
       ".dataframe > thead > tr,\n",
       ".dataframe > tbody > tr {\n",
       "  text-align: right;\n",
       "  white-space: pre-wrap;\n",
       "}\n",
       "</style>\n",
       "<small>shape: (6_523_494, 1)</small><table border=\"1\" class=\"dataframe\"><thead><tr><th>fare_amount</th></tr><tr><td>f64</td></tr></thead><tbody><tr><td>21.9</td></tr><tr><td>15.6</td></tr><tr><td>40.8</td></tr><tr><td>39.4</td></tr><tr><td>9.3</td></tr><tr><td>&hellip;</td></tr><tr><td>11.4</td></tr><tr><td>5.1</td></tr><tr><td>15.6</td></tr><tr><td>10.7</td></tr><tr><td>16.3</td></tr></tbody></table></div>"
      ]
     },
     "execution_count": 27,
     "metadata": {},
     "output_type": "execute_result"
    }
   ],
   "execution_count": 27
  },
  {
   "metadata": {
    "ExecuteTime": {
     "end_time": "2024-06-07T17:54:13.043452Z",
     "start_time": "2024-06-07T17:54:12.121046Z"
    }
   },
   "cell_type": "code",
   "source": "X_train, X_test, y_train, y_test = train_test_split(X, y, test_size=0.3)",
   "id": "95d7469150a9b4e9",
   "outputs": [],
   "execution_count": 28
  },
  {
   "metadata": {
    "ExecuteTime": {
     "end_time": "2024-06-07T17:54:13.050859Z",
     "start_time": "2024-06-07T17:54:13.045721Z"
    }
   },
   "cell_type": "code",
   "source": "X_train.shape, X_train.shape",
   "id": "aae9459e0e1a82b8",
   "outputs": [
    {
     "data": {
      "text/plain": [
       "((4566445, 15), (4566445, 15))"
      ]
     },
     "execution_count": 29,
     "metadata": {},
     "output_type": "execute_result"
    }
   ],
   "execution_count": 29
  },
  {
   "metadata": {
    "ExecuteTime": {
     "end_time": "2024-06-07T17:54:31.652778Z",
     "start_time": "2024-06-07T17:54:13.052401Z"
    }
   },
   "cell_type": "code",
   "source": [
    "two_month_model = xgb.XGBRegressor()\n",
    "two_month_model.fit(X, y)"
   ],
   "id": "1621b62a4a7b7be0",
   "outputs": [
    {
     "data": {
      "text/plain": [
       "XGBRegressor(base_score=None, booster=None, callbacks=None,\n",
       "             colsample_bylevel=None, colsample_bynode=None,\n",
       "             colsample_bytree=None, device=None, early_stopping_rounds=None,\n",
       "             enable_categorical=False, eval_metric=None, feature_types=None,\n",
       "             gamma=None, grow_policy=None, importance_type=None,\n",
       "             interaction_constraints=None, learning_rate=None, max_bin=None,\n",
       "             max_cat_threshold=None, max_cat_to_onehot=None,\n",
       "             max_delta_step=None, max_depth=None, max_leaves=None,\n",
       "             min_child_weight=None, missing=nan, monotone_constraints=None,\n",
       "             multi_strategy=None, n_estimators=None, n_jobs=None,\n",
       "             num_parallel_tree=None, random_state=None, ...)"
      ],
      "text/html": [
       "<style>#sk-container-id-2 {color: black;}#sk-container-id-2 pre{padding: 0;}#sk-container-id-2 div.sk-toggleable {background-color: white;}#sk-container-id-2 label.sk-toggleable__label {cursor: pointer;display: block;width: 100%;margin-bottom: 0;padding: 0.3em;box-sizing: border-box;text-align: center;}#sk-container-id-2 label.sk-toggleable__label-arrow:before {content: \"▸\";float: left;margin-right: 0.25em;color: #696969;}#sk-container-id-2 label.sk-toggleable__label-arrow:hover:before {color: black;}#sk-container-id-2 div.sk-estimator:hover label.sk-toggleable__label-arrow:before {color: black;}#sk-container-id-2 div.sk-toggleable__content {max-height: 0;max-width: 0;overflow: hidden;text-align: left;background-color: #f0f8ff;}#sk-container-id-2 div.sk-toggleable__content pre {margin: 0.2em;color: black;border-radius: 0.25em;background-color: #f0f8ff;}#sk-container-id-2 input.sk-toggleable__control:checked~div.sk-toggleable__content {max-height: 200px;max-width: 100%;overflow: auto;}#sk-container-id-2 input.sk-toggleable__control:checked~label.sk-toggleable__label-arrow:before {content: \"▾\";}#sk-container-id-2 div.sk-estimator input.sk-toggleable__control:checked~label.sk-toggleable__label {background-color: #d4ebff;}#sk-container-id-2 div.sk-label input.sk-toggleable__control:checked~label.sk-toggleable__label {background-color: #d4ebff;}#sk-container-id-2 input.sk-hidden--visually {border: 0;clip: rect(1px 1px 1px 1px);clip: rect(1px, 1px, 1px, 1px);height: 1px;margin: -1px;overflow: hidden;padding: 0;position: absolute;width: 1px;}#sk-container-id-2 div.sk-estimator {font-family: monospace;background-color: #f0f8ff;border: 1px dotted black;border-radius: 0.25em;box-sizing: border-box;margin-bottom: 0.5em;}#sk-container-id-2 div.sk-estimator:hover {background-color: #d4ebff;}#sk-container-id-2 div.sk-parallel-item::after {content: \"\";width: 100%;border-bottom: 1px solid gray;flex-grow: 1;}#sk-container-id-2 div.sk-label:hover label.sk-toggleable__label {background-color: #d4ebff;}#sk-container-id-2 div.sk-serial::before {content: \"\";position: absolute;border-left: 1px solid gray;box-sizing: border-box;top: 0;bottom: 0;left: 50%;z-index: 0;}#sk-container-id-2 div.sk-serial {display: flex;flex-direction: column;align-items: center;background-color: white;padding-right: 0.2em;padding-left: 0.2em;position: relative;}#sk-container-id-2 div.sk-item {position: relative;z-index: 1;}#sk-container-id-2 div.sk-parallel {display: flex;align-items: stretch;justify-content: center;background-color: white;position: relative;}#sk-container-id-2 div.sk-item::before, #sk-container-id-2 div.sk-parallel-item::before {content: \"\";position: absolute;border-left: 1px solid gray;box-sizing: border-box;top: 0;bottom: 0;left: 50%;z-index: -1;}#sk-container-id-2 div.sk-parallel-item {display: flex;flex-direction: column;z-index: 1;position: relative;background-color: white;}#sk-container-id-2 div.sk-parallel-item:first-child::after {align-self: flex-end;width: 50%;}#sk-container-id-2 div.sk-parallel-item:last-child::after {align-self: flex-start;width: 50%;}#sk-container-id-2 div.sk-parallel-item:only-child::after {width: 0;}#sk-container-id-2 div.sk-dashed-wrapped {border: 1px dashed gray;margin: 0 0.4em 0.5em 0.4em;box-sizing: border-box;padding-bottom: 0.4em;background-color: white;}#sk-container-id-2 div.sk-label label {font-family: monospace;font-weight: bold;display: inline-block;line-height: 1.2em;}#sk-container-id-2 div.sk-label-container {text-align: center;}#sk-container-id-2 div.sk-container {/* jupyter's `normalize.less` sets `[hidden] { display: none; }` but bootstrap.min.css set `[hidden] { display: none !important; }` so we also need the `!important` here to be able to override the default hidden behavior on the sphinx rendered scikit-learn.org. See: https://github.com/scikit-learn/scikit-learn/issues/21755 */display: inline-block !important;position: relative;}#sk-container-id-2 div.sk-text-repr-fallback {display: none;}</style><div id=\"sk-container-id-2\" class=\"sk-top-container\"><div class=\"sk-text-repr-fallback\"><pre>XGBRegressor(base_score=None, booster=None, callbacks=None,\n",
       "             colsample_bylevel=None, colsample_bynode=None,\n",
       "             colsample_bytree=None, device=None, early_stopping_rounds=None,\n",
       "             enable_categorical=False, eval_metric=None, feature_types=None,\n",
       "             gamma=None, grow_policy=None, importance_type=None,\n",
       "             interaction_constraints=None, learning_rate=None, max_bin=None,\n",
       "             max_cat_threshold=None, max_cat_to_onehot=None,\n",
       "             max_delta_step=None, max_depth=None, max_leaves=None,\n",
       "             min_child_weight=None, missing=nan, monotone_constraints=None,\n",
       "             multi_strategy=None, n_estimators=None, n_jobs=None,\n",
       "             num_parallel_tree=None, random_state=None, ...)</pre><b>In a Jupyter environment, please rerun this cell to show the HTML representation or trust the notebook. <br />On GitHub, the HTML representation is unable to render, please try loading this page with nbviewer.org.</b></div><div class=\"sk-container\" hidden><div class=\"sk-item\"><div class=\"sk-estimator sk-toggleable\"><input class=\"sk-toggleable__control sk-hidden--visually\" id=\"sk-estimator-id-2\" type=\"checkbox\" checked><label for=\"sk-estimator-id-2\" class=\"sk-toggleable__label sk-toggleable__label-arrow\">XGBRegressor</label><div class=\"sk-toggleable__content\"><pre>XGBRegressor(base_score=None, booster=None, callbacks=None,\n",
       "             colsample_bylevel=None, colsample_bynode=None,\n",
       "             colsample_bytree=None, device=None, early_stopping_rounds=None,\n",
       "             enable_categorical=False, eval_metric=None, feature_types=None,\n",
       "             gamma=None, grow_policy=None, importance_type=None,\n",
       "             interaction_constraints=None, learning_rate=None, max_bin=None,\n",
       "             max_cat_threshold=None, max_cat_to_onehot=None,\n",
       "             max_delta_step=None, max_depth=None, max_leaves=None,\n",
       "             min_child_weight=None, missing=nan, monotone_constraints=None,\n",
       "             multi_strategy=None, n_estimators=None, n_jobs=None,\n",
       "             num_parallel_tree=None, random_state=None, ...)</pre></div></div></div></div></div>"
      ]
     },
     "execution_count": 30,
     "metadata": {},
     "output_type": "execute_result"
    }
   ],
   "execution_count": 30
  },
  {
   "metadata": {
    "ExecuteTime": {
     "end_time": "2024-06-07T17:54:32.650651Z",
     "start_time": "2024-06-07T17:54:31.655829Z"
    }
   },
   "cell_type": "code",
   "source": "two_month_preds = two_month_model.predict(X_test)",
   "id": "15b2ea9fd0cc5c6f",
   "outputs": [],
   "execution_count": 31
  },
  {
   "metadata": {
    "ExecuteTime": {
     "end_time": "2024-06-07T17:54:35.633802Z",
     "start_time": "2024-06-07T17:54:35.621694Z"
    }
   },
   "cell_type": "code",
   "source": [
    "from sklearn.metrics import mean_absolute_error\n",
    "two_month_mae = mean_absolute_error(y_test, two_month_preds)\n",
    "print(two_month_mae)"
   ],
   "id": "3d0c770d5d7b53f4",
   "outputs": [
    {
     "name": "stdout",
     "output_type": "stream",
     "text": [
      "1.4867250957487046\n"
     ]
    }
   ],
   "execution_count": 32
  },
  {
   "metadata": {},
   "cell_type": "markdown",
   "source": "## Treinar com a informação de 3 meses",
   "id": "31a827283e8286d9"
  },
  {
   "metadata": {
    "ExecuteTime": {
     "end_time": "2024-06-07T17:54:39.623784Z",
     "start_time": "2024-06-07T17:54:37.226540Z"
    }
   },
   "cell_type": "code",
   "source": [
    "dfs = []\n",
    "\n",
    "for filename in os.listdir(data_path)[:3]:\n",
    "    filepath = os.path.join(data_path, filename)\n",
    "    df = pd.read_parquet(filepath)\n",
    "    if 'airport_fee' in df.columns:\n",
    "        df.rename(columns={'airport_fee': 'Airport_fee'}, inplace=True)\n",
    "    dfs.append(df)\n",
    "    \n",
    "df = pl.from_pandas(pd.concat(dfs, ignore_index=True))\n"
   ],
   "id": "2f63646ce3fd7fce",
   "outputs": [],
   "execution_count": 33
  },
  {
   "metadata": {
    "ExecuteTime": {
     "end_time": "2024-06-07T17:54:39.776142Z",
     "start_time": "2024-06-07T17:54:39.625151Z"
    }
   },
   "cell_type": "code",
   "source": [
    "duration = (df['tpep_dropoff_datetime'] - df['tpep_pickup_datetime']).dt.total_seconds()/60\n",
    "df = df.with_columns(duration.alias(\"tpep_duration\"))"
   ],
   "id": "28761b10dc7e931b",
   "outputs": [],
   "execution_count": 34
  },
  {
   "metadata": {
    "ExecuteTime": {
     "end_time": "2024-06-07T17:54:39.790765Z",
     "start_time": "2024-06-07T17:54:39.777448Z"
    }
   },
   "cell_type": "code",
   "source": [
    "for column in df.columns:\n",
    "    if column != 'tpep_dropoff_datetime' and column != 'tpep_dropoff_datetime':\n",
    "        nans = df[column].is_null()\n",
    "        if len(nans.filter(nans)) > 0:\n",
    "            print(column, len(nans.filter(nans)))\n",
    "    "
   ],
   "id": "7922feea6813de1d",
   "outputs": [
    {
     "name": "stdout",
     "output_type": "stream",
     "text": [
      "passenger_count 278196\n",
      "RatecodeID 278196\n",
      "store_and_fwd_flag 278196\n",
      "congestion_surcharge 278196\n",
      "Airport_fee 278196\n"
     ]
    }
   ],
   "execution_count": 35
  },
  {
   "metadata": {
    "ExecuteTime": {
     "end_time": "2024-06-07T17:54:39.852459Z",
     "start_time": "2024-06-07T17:54:39.792691Z"
    }
   },
   "cell_type": "code",
   "source": "df = df.drop_nulls()",
   "id": "431fc18e3a273dce",
   "outputs": [],
   "execution_count": 36
  },
  {
   "metadata": {
    "ExecuteTime": {
     "end_time": "2024-06-07T17:54:39.962038Z",
     "start_time": "2024-06-07T17:54:39.853949Z"
    }
   },
   "cell_type": "code",
   "source": "df['store_and_fwd_flag'].unique()",
   "id": "f17ab3d32e325202",
   "outputs": [
    {
     "data": {
      "text/plain": [
       "shape: (2,)\n",
       "Series: 'store_and_fwd_flag' [str]\n",
       "[\n",
       "\t\"Y\"\n",
       "\t\"N\"\n",
       "]"
      ],
      "text/html": [
       "<div><style>\n",
       ".dataframe > thead > tr,\n",
       ".dataframe > tbody > tr {\n",
       "  text-align: right;\n",
       "  white-space: pre-wrap;\n",
       "}\n",
       "</style>\n",
       "<small>shape: (2,)</small><table border=\"1\" class=\"dataframe\"><thead><tr><th>store_and_fwd_flag</th></tr><tr><td>str</td></tr></thead><tbody><tr><td>&quot;Y&quot;</td></tr><tr><td>&quot;N&quot;</td></tr></tbody></table></div>"
      ]
     },
     "execution_count": 37,
     "metadata": {},
     "output_type": "execute_result"
    }
   ],
   "execution_count": 37
  },
  {
   "metadata": {
    "ExecuteTime": {
     "end_time": "2024-06-07T17:54:40.300662Z",
     "start_time": "2024-06-07T17:54:40.275675Z"
    }
   },
   "cell_type": "code",
   "source": [
    "df = df.with_columns(\n",
    "    pl.when(pl.col('store_and_fwd_flag') == 'Y')\n",
    "    .then(1)\n",
    "    .otherwise(0)\n",
    "    .alias('store_and_fwd_flag')\n",
    ")\n"
   ],
   "id": "c0aa2af40ae601d0",
   "outputs": [],
   "execution_count": 38
  },
  {
   "metadata": {
    "ExecuteTime": {
     "end_time": "2024-06-07T17:54:41.031957Z",
     "start_time": "2024-06-07T17:54:41.026711Z"
    }
   },
   "cell_type": "code",
   "source": [
    "columns = df.columns\n",
    "x_cols = [column for column in columns if column != 'tpep_dropoff_datetime' and column != 'tpep_pickup_datetime' and column != 'VendorID' and column != 'fare_amount' and column != \"total_amount\"]\n",
    "x_cols"
   ],
   "id": "f44989cb3561a1aa",
   "outputs": [
    {
     "data": {
      "text/plain": [
       "['passenger_count',\n",
       " 'trip_distance',\n",
       " 'RatecodeID',\n",
       " 'store_and_fwd_flag',\n",
       " 'PULocationID',\n",
       " 'DOLocationID',\n",
       " 'payment_type',\n",
       " 'extra',\n",
       " 'mta_tax',\n",
       " 'tip_amount',\n",
       " 'tolls_amount',\n",
       " 'improvement_surcharge',\n",
       " 'congestion_surcharge',\n",
       " 'Airport_fee',\n",
       " 'tpep_duration']"
      ]
     },
     "execution_count": 39,
     "metadata": {},
     "output_type": "execute_result"
    }
   ],
   "execution_count": 39
  },
  {
   "metadata": {
    "ExecuteTime": {
     "end_time": "2024-06-07T17:55:05.933742Z",
     "start_time": "2024-06-07T17:55:05.930527Z"
    }
   },
   "cell_type": "code",
   "source": "y_col = [\"fare_amount\"]",
   "id": "908c8a88b6dc5149",
   "outputs": [],
   "execution_count": 40
  },
  {
   "metadata": {
    "ExecuteTime": {
     "end_time": "2024-06-07T17:55:06.526718Z",
     "start_time": "2024-06-07T17:55:06.514519Z"
    }
   },
   "cell_type": "code",
   "source": [
    "X = df[x_cols]\n",
    "X.head()"
   ],
   "id": "891edbe6e2b4da06",
   "outputs": [
    {
     "data": {
      "text/plain": [
       "shape: (5, 15)\n",
       "┌───────────┬───────────┬───────────┬───────────┬───┬───────────┬───────────┬───────────┬──────────┐\n",
       "│ passenger ┆ trip_dist ┆ RatecodeI ┆ store_and ┆ … ┆ improveme ┆ congestio ┆ Airport_f ┆ tpep_dur │\n",
       "│ _count    ┆ ance      ┆ D         ┆ _fwd_flag ┆   ┆ nt_surcha ┆ n_surchar ┆ ee        ┆ ation    │\n",
       "│ ---       ┆ ---       ┆ ---       ┆ ---       ┆   ┆ rge       ┆ ge        ┆ ---       ┆ ---      │\n",
       "│ f64       ┆ f64       ┆ f64       ┆ i32       ┆   ┆ ---       ┆ ---       ┆ f64       ┆ f64      │\n",
       "│           ┆           ┆           ┆           ┆   ┆ f64       ┆ f64       ┆           ┆          │\n",
       "╞═══════════╪═══════════╪═══════════╪═══════════╪═══╪═══════════╪═══════════╪═══════════╪══════════╡\n",
       "│ 1.0       ┆ 3.4       ┆ 1.0       ┆ 0         ┆ … ┆ 1.0       ┆ 2.5       ┆ 0.0       ┆ 20.88333 │\n",
       "│           ┆           ┆           ┆           ┆   ┆           ┆           ┆           ┆ 3        │\n",
       "│ 0.0       ┆ 3.4       ┆ 1.0       ┆ 0         ┆ … ┆ 1.0       ┆ 2.5       ┆ 0.0       ┆ 10.23333 │\n",
       "│           ┆           ┆           ┆           ┆   ┆           ┆           ┆           ┆ 3        │\n",
       "│ 1.0       ┆ 10.2      ┆ 1.0       ┆ 0         ┆ … ┆ 1.0       ┆ 0.0       ┆ 1.75      ┆ 18.71666 │\n",
       "│           ┆           ┆           ┆           ┆   ┆           ┆           ┆           ┆ 7        │\n",
       "│ 3.0       ┆ 9.83      ┆ 1.0       ┆ 0         ┆ … ┆ 1.0       ┆ 2.5       ┆ 0.0       ┆ 23.43333 │\n",
       "│           ┆           ┆           ┆           ┆   ┆           ┆           ┆           ┆ 3        │\n",
       "│ 1.0       ┆ 1.17      ┆ 1.0       ┆ 0         ┆ … ┆ 1.0       ┆ 2.5       ┆ 0.0       ┆ 8.566667 │\n",
       "└───────────┴───────────┴───────────┴───────────┴───┴───────────┴───────────┴───────────┴──────────┘"
      ],
      "text/html": [
       "<div><style>\n",
       ".dataframe > thead > tr,\n",
       ".dataframe > tbody > tr {\n",
       "  text-align: right;\n",
       "  white-space: pre-wrap;\n",
       "}\n",
       "</style>\n",
       "<small>shape: (5, 15)</small><table border=\"1\" class=\"dataframe\"><thead><tr><th>passenger_count</th><th>trip_distance</th><th>RatecodeID</th><th>store_and_fwd_flag</th><th>PULocationID</th><th>DOLocationID</th><th>payment_type</th><th>extra</th><th>mta_tax</th><th>tip_amount</th><th>tolls_amount</th><th>improvement_surcharge</th><th>congestion_surcharge</th><th>Airport_fee</th><th>tpep_duration</th></tr><tr><td>f64</td><td>f64</td><td>f64</td><td>i32</td><td>i32</td><td>i32</td><td>i64</td><td>f64</td><td>f64</td><td>f64</td><td>f64</td><td>f64</td><td>f64</td><td>f64</td><td>f64</td></tr></thead><tbody><tr><td>1.0</td><td>3.4</td><td>1.0</td><td>0</td><td>140</td><td>238</td><td>1</td><td>3.5</td><td>0.5</td><td>6.7</td><td>0.0</td><td>1.0</td><td>2.5</td><td>0.0</td><td>20.883333</td></tr><tr><td>0.0</td><td>3.4</td><td>1.0</td><td>0</td><td>50</td><td>151</td><td>1</td><td>3.5</td><td>0.5</td><td>3.0</td><td>0.0</td><td>1.0</td><td>2.5</td><td>0.0</td><td>10.233333</td></tr><tr><td>1.0</td><td>10.2</td><td>1.0</td><td>0</td><td>138</td><td>97</td><td>1</td><td>7.75</td><td>0.5</td><td>10.0</td><td>0.0</td><td>1.0</td><td>0.0</td><td>1.75</td><td>18.716667</td></tr><tr><td>3.0</td><td>9.83</td><td>1.0</td><td>0</td><td>100</td><td>244</td><td>1</td><td>1.0</td><td>0.5</td><td>8.88</td><td>0.0</td><td>1.0</td><td>2.5</td><td>0.0</td><td>23.433333</td></tr><tr><td>1.0</td><td>1.17</td><td>1.0</td><td>0</td><td>137</td><td>234</td><td>1</td><td>1.0</td><td>0.5</td><td>0.72</td><td>0.0</td><td>1.0</td><td>2.5</td><td>0.0</td><td>8.566667</td></tr></tbody></table></div>"
      ]
     },
     "execution_count": 41,
     "metadata": {},
     "output_type": "execute_result"
    }
   ],
   "execution_count": 41
  },
  {
   "metadata": {
    "ExecuteTime": {
     "end_time": "2024-06-07T17:55:06.759681Z",
     "start_time": "2024-06-07T17:55:06.754598Z"
    }
   },
   "cell_type": "code",
   "source": [
    "y = df[y_col]\n",
    "y"
   ],
   "id": "3881f9bb72816c59",
   "outputs": [
    {
     "data": {
      "text/plain": [
       "shape: (9_721_054, 1)\n",
       "┌─────────────┐\n",
       "│ fare_amount │\n",
       "│ ---         │\n",
       "│ f64         │\n",
       "╞═════════════╡\n",
       "│ 21.9        │\n",
       "│ 15.6        │\n",
       "│ 40.8        │\n",
       "│ 39.4        │\n",
       "│ 9.3         │\n",
       "│ …           │\n",
       "│ 40.8        │\n",
       "│ 8.6         │\n",
       "│ 7.9         │\n",
       "│ 14.2        │\n",
       "│ 80.0        │\n",
       "└─────────────┘"
      ],
      "text/html": [
       "<div><style>\n",
       ".dataframe > thead > tr,\n",
       ".dataframe > tbody > tr {\n",
       "  text-align: right;\n",
       "  white-space: pre-wrap;\n",
       "}\n",
       "</style>\n",
       "<small>shape: (9_721_054, 1)</small><table border=\"1\" class=\"dataframe\"><thead><tr><th>fare_amount</th></tr><tr><td>f64</td></tr></thead><tbody><tr><td>21.9</td></tr><tr><td>15.6</td></tr><tr><td>40.8</td></tr><tr><td>39.4</td></tr><tr><td>9.3</td></tr><tr><td>&hellip;</td></tr><tr><td>40.8</td></tr><tr><td>8.6</td></tr><tr><td>7.9</td></tr><tr><td>14.2</td></tr><tr><td>80.0</td></tr></tbody></table></div>"
      ]
     },
     "execution_count": 42,
     "metadata": {},
     "output_type": "execute_result"
    }
   ],
   "execution_count": 42
  },
  {
   "metadata": {
    "ExecuteTime": {
     "end_time": "2024-06-07T17:55:08.902055Z",
     "start_time": "2024-06-07T17:55:07.372999Z"
    }
   },
   "cell_type": "code",
   "source": "X_train, X_test, y_train, y_test = train_test_split(X, y, test_size=0.3)",
   "id": "ecca6b9e6697689b",
   "outputs": [],
   "execution_count": 43
  },
  {
   "metadata": {
    "ExecuteTime": {
     "end_time": "2024-06-07T17:55:08.906999Z",
     "start_time": "2024-06-07T17:55:08.903472Z"
    }
   },
   "cell_type": "code",
   "source": "X_train.shape, X_train.shape",
   "id": "7fd697ecc12dc28a",
   "outputs": [
    {
     "data": {
      "text/plain": [
       "((6804737, 15), (6804737, 15))"
      ]
     },
     "execution_count": 44,
     "metadata": {},
     "output_type": "execute_result"
    }
   ],
   "execution_count": 44
  },
  {
   "metadata": {
    "ExecuteTime": {
     "end_time": "2024-06-07T17:55:34.918283Z",
     "start_time": "2024-06-07T17:55:08.908254Z"
    }
   },
   "cell_type": "code",
   "source": [
    "three_month_model = xgb.XGBRegressor()\n",
    "three_month_model.fit(X, y)"
   ],
   "id": "1d5db3bb4beeaeb1",
   "outputs": [
    {
     "data": {
      "text/plain": [
       "XGBRegressor(base_score=None, booster=None, callbacks=None,\n",
       "             colsample_bylevel=None, colsample_bynode=None,\n",
       "             colsample_bytree=None, device=None, early_stopping_rounds=None,\n",
       "             enable_categorical=False, eval_metric=None, feature_types=None,\n",
       "             gamma=None, grow_policy=None, importance_type=None,\n",
       "             interaction_constraints=None, learning_rate=None, max_bin=None,\n",
       "             max_cat_threshold=None, max_cat_to_onehot=None,\n",
       "             max_delta_step=None, max_depth=None, max_leaves=None,\n",
       "             min_child_weight=None, missing=nan, monotone_constraints=None,\n",
       "             multi_strategy=None, n_estimators=None, n_jobs=None,\n",
       "             num_parallel_tree=None, random_state=None, ...)"
      ],
      "text/html": [
       "<style>#sk-container-id-3 {color: black;}#sk-container-id-3 pre{padding: 0;}#sk-container-id-3 div.sk-toggleable {background-color: white;}#sk-container-id-3 label.sk-toggleable__label {cursor: pointer;display: block;width: 100%;margin-bottom: 0;padding: 0.3em;box-sizing: border-box;text-align: center;}#sk-container-id-3 label.sk-toggleable__label-arrow:before {content: \"▸\";float: left;margin-right: 0.25em;color: #696969;}#sk-container-id-3 label.sk-toggleable__label-arrow:hover:before {color: black;}#sk-container-id-3 div.sk-estimator:hover label.sk-toggleable__label-arrow:before {color: black;}#sk-container-id-3 div.sk-toggleable__content {max-height: 0;max-width: 0;overflow: hidden;text-align: left;background-color: #f0f8ff;}#sk-container-id-3 div.sk-toggleable__content pre {margin: 0.2em;color: black;border-radius: 0.25em;background-color: #f0f8ff;}#sk-container-id-3 input.sk-toggleable__control:checked~div.sk-toggleable__content {max-height: 200px;max-width: 100%;overflow: auto;}#sk-container-id-3 input.sk-toggleable__control:checked~label.sk-toggleable__label-arrow:before {content: \"▾\";}#sk-container-id-3 div.sk-estimator input.sk-toggleable__control:checked~label.sk-toggleable__label {background-color: #d4ebff;}#sk-container-id-3 div.sk-label input.sk-toggleable__control:checked~label.sk-toggleable__label {background-color: #d4ebff;}#sk-container-id-3 input.sk-hidden--visually {border: 0;clip: rect(1px 1px 1px 1px);clip: rect(1px, 1px, 1px, 1px);height: 1px;margin: -1px;overflow: hidden;padding: 0;position: absolute;width: 1px;}#sk-container-id-3 div.sk-estimator {font-family: monospace;background-color: #f0f8ff;border: 1px dotted black;border-radius: 0.25em;box-sizing: border-box;margin-bottom: 0.5em;}#sk-container-id-3 div.sk-estimator:hover {background-color: #d4ebff;}#sk-container-id-3 div.sk-parallel-item::after {content: \"\";width: 100%;border-bottom: 1px solid gray;flex-grow: 1;}#sk-container-id-3 div.sk-label:hover label.sk-toggleable__label {background-color: #d4ebff;}#sk-container-id-3 div.sk-serial::before {content: \"\";position: absolute;border-left: 1px solid gray;box-sizing: border-box;top: 0;bottom: 0;left: 50%;z-index: 0;}#sk-container-id-3 div.sk-serial {display: flex;flex-direction: column;align-items: center;background-color: white;padding-right: 0.2em;padding-left: 0.2em;position: relative;}#sk-container-id-3 div.sk-item {position: relative;z-index: 1;}#sk-container-id-3 div.sk-parallel {display: flex;align-items: stretch;justify-content: center;background-color: white;position: relative;}#sk-container-id-3 div.sk-item::before, #sk-container-id-3 div.sk-parallel-item::before {content: \"\";position: absolute;border-left: 1px solid gray;box-sizing: border-box;top: 0;bottom: 0;left: 50%;z-index: -1;}#sk-container-id-3 div.sk-parallel-item {display: flex;flex-direction: column;z-index: 1;position: relative;background-color: white;}#sk-container-id-3 div.sk-parallel-item:first-child::after {align-self: flex-end;width: 50%;}#sk-container-id-3 div.sk-parallel-item:last-child::after {align-self: flex-start;width: 50%;}#sk-container-id-3 div.sk-parallel-item:only-child::after {width: 0;}#sk-container-id-3 div.sk-dashed-wrapped {border: 1px dashed gray;margin: 0 0.4em 0.5em 0.4em;box-sizing: border-box;padding-bottom: 0.4em;background-color: white;}#sk-container-id-3 div.sk-label label {font-family: monospace;font-weight: bold;display: inline-block;line-height: 1.2em;}#sk-container-id-3 div.sk-label-container {text-align: center;}#sk-container-id-3 div.sk-container {/* jupyter's `normalize.less` sets `[hidden] { display: none; }` but bootstrap.min.css set `[hidden] { display: none !important; }` so we also need the `!important` here to be able to override the default hidden behavior on the sphinx rendered scikit-learn.org. See: https://github.com/scikit-learn/scikit-learn/issues/21755 */display: inline-block !important;position: relative;}#sk-container-id-3 div.sk-text-repr-fallback {display: none;}</style><div id=\"sk-container-id-3\" class=\"sk-top-container\"><div class=\"sk-text-repr-fallback\"><pre>XGBRegressor(base_score=None, booster=None, callbacks=None,\n",
       "             colsample_bylevel=None, colsample_bynode=None,\n",
       "             colsample_bytree=None, device=None, early_stopping_rounds=None,\n",
       "             enable_categorical=False, eval_metric=None, feature_types=None,\n",
       "             gamma=None, grow_policy=None, importance_type=None,\n",
       "             interaction_constraints=None, learning_rate=None, max_bin=None,\n",
       "             max_cat_threshold=None, max_cat_to_onehot=None,\n",
       "             max_delta_step=None, max_depth=None, max_leaves=None,\n",
       "             min_child_weight=None, missing=nan, monotone_constraints=None,\n",
       "             multi_strategy=None, n_estimators=None, n_jobs=None,\n",
       "             num_parallel_tree=None, random_state=None, ...)</pre><b>In a Jupyter environment, please rerun this cell to show the HTML representation or trust the notebook. <br />On GitHub, the HTML representation is unable to render, please try loading this page with nbviewer.org.</b></div><div class=\"sk-container\" hidden><div class=\"sk-item\"><div class=\"sk-estimator sk-toggleable\"><input class=\"sk-toggleable__control sk-hidden--visually\" id=\"sk-estimator-id-3\" type=\"checkbox\" checked><label for=\"sk-estimator-id-3\" class=\"sk-toggleable__label sk-toggleable__label-arrow\">XGBRegressor</label><div class=\"sk-toggleable__content\"><pre>XGBRegressor(base_score=None, booster=None, callbacks=None,\n",
       "             colsample_bylevel=None, colsample_bynode=None,\n",
       "             colsample_bytree=None, device=None, early_stopping_rounds=None,\n",
       "             enable_categorical=False, eval_metric=None, feature_types=None,\n",
       "             gamma=None, grow_policy=None, importance_type=None,\n",
       "             interaction_constraints=None, learning_rate=None, max_bin=None,\n",
       "             max_cat_threshold=None, max_cat_to_onehot=None,\n",
       "             max_delta_step=None, max_depth=None, max_leaves=None,\n",
       "             min_child_weight=None, missing=nan, monotone_constraints=None,\n",
       "             multi_strategy=None, n_estimators=None, n_jobs=None,\n",
       "             num_parallel_tree=None, random_state=None, ...)</pre></div></div></div></div></div>"
      ]
     },
     "execution_count": 45,
     "metadata": {},
     "output_type": "execute_result"
    }
   ],
   "execution_count": 45
  },
  {
   "metadata": {
    "ExecuteTime": {
     "end_time": "2024-06-07T17:55:40.782825Z",
     "start_time": "2024-06-07T17:55:38.489822Z"
    }
   },
   "cell_type": "code",
   "source": "three_month_preds = three_month_model.predict(X_test)",
   "id": "78d4b65c5c16fdc",
   "outputs": [],
   "execution_count": 46
  },
  {
   "metadata": {
    "ExecuteTime": {
     "end_time": "2024-06-07T17:55:40.807551Z",
     "start_time": "2024-06-07T17:55:40.785306Z"
    }
   },
   "cell_type": "code",
   "source": [
    "from sklearn.metrics import mean_absolute_error\n",
    "three_month_mae = mean_absolute_error(y_test, three_month_preds)\n",
    "print(three_month_mae)"
   ],
   "id": "68c25725e58676d7",
   "outputs": [
    {
     "name": "stdout",
     "output_type": "stream",
     "text": [
      "1.1983540258503862\n"
     ]
    }
   ],
   "execution_count": 47
  },
  {
   "metadata": {},
   "cell_type": "markdown",
   "source": "## Análise",
   "id": "24b5c16fd15a81bc"
  },
  {
   "metadata": {
    "ExecuteTime": {
     "end_time": "2024-06-07T17:57:52.422489Z",
     "start_time": "2024-06-07T17:57:52.276714Z"
    }
   },
   "cell_type": "code",
   "source": [
    "y = [1, 2, 3]\n",
    "scores = [one_month_mae,two_month_mae,three_month_mae]\n",
    "#plt.plot([one_month_mae,two_month_mae,three_month_mae])\n",
    "plt.scatter(y, scores)\n",
    "plt.plot(y, scores)"
   ],
   "id": "673972a283283d98",
   "outputs": [
    {
     "data": {
      "text/plain": [
       "[<matplotlib.lines.Line2D at 0x707116b9f8e0>]"
      ]
     },
     "execution_count": 52,
     "metadata": {},
     "output_type": "execute_result"
    },
    {
     "data": {
      "text/plain": [
       "<Figure size 640x480 with 1 Axes>"
      ],
      "image/png": "[encoded data removed]"
     },
     "metadata": {},
     "output_type": "display_data"
    }
   ],
   "execution_count": 52
  },
  {
   "metadata": {},
   "cell_type": "markdown",
   "source": "Como se pode ver no gráfico, à medida que se vai aumentando o número de dados de treino, o mean absolute error (mae) vai diminuindo. Com os dados de 3 meses, obtivemos um mae de 1.1983540258503862 ",
   "id": "bd15611c68b35c08"
  }
 ],
 "metadata": {
  "kernelspec": {
   "display_name": "Python 3",
   "language": "python",
   "name": "python3"
  },
  "language_info": {
   "codemirror_mode": {
    "name": "ipython",
    "version": 2
   },
   "file_extension": ".py",
   "mimetype": "text/x-python",
   "name": "python",
   "nbconvert_exporter": "python",
   "pygments_lexer": "ipython2",
   "version": "2.7.6"
  }
 },
 "nbformat": 4,
 "nbformat_minor": 5
}
